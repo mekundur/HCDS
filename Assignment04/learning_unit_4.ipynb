{
 "cells": [
  {
   "cell_type": "markdown",
   "metadata": {},
   "source": [
    "# Learning Unit 4 - Bias"
   ]
  },
  {
   "cell_type": "markdown",
   "metadata": {},
   "source": [
    "## Reading Part - Prepare for exercise"
   ]
  },
  {
   "cell_type": "markdown",
   "metadata": {},
   "source": [
    "**✏️ Task 4.1**\n",
    "\n",
    "1. *Download \"A Survey on Bias and Fairness in Machine Learning\" https://dl.acm.org/doi/10.1145/3457607. (You can download it per Eduroam or VPN if your are working from home.)*\n",
    "2. *You do NOT have to read it, but you need to have the paper for the exercise.*"
   ]
  },
  {
   "cell_type": "markdown",
   "metadata": {
    "vscode": {
     "languageId": "plaintext"
    }
   },
   "source": [
    "---"
   ]
  },
  {
   "cell_type": "markdown",
   "metadata": {},
   "source": [
    "## Programming Part - Get to know datasets"
   ]
  },
  {
   "cell_type": "markdown",
   "metadata": {},
   "source": [
    "In this learning unit, we will explore the diabetes dataset you already worked with in previous learning units.\n",
    "\n",
    "The dataset is called *“CDC Diabetes Health Indicators”*. You can find more information about it in the UCI ML Library [here](https://archive.ics.uci.edu/dataset/891/cdc+diabetes+health+indicators). In the Resources section, we have also provided a file called `diabetes_012_health_indicators_BRFSS2015.csv`, which is one of three csv files in the dataset."
   ]
  },
  {
   "cell_type": "markdown",
   "metadata": {},
   "source": [
    "In this learning unit, we will continue our analysis of the *CDC Diabetes Health Indicators* dataset. We will investigate the possible biases of this dataset, and we will train a diabetes prediction model.\n",
    "\n",
    "First, let's take loot another at the attributes of our dataset. In the last learning unit, we examined the distributions of the attributes and their meanings. This time, we want to take a closer look at the potential problems that can arise from including certain features."
   ]
  },
  {
   "cell_type": "markdown",
   "metadata": {},
   "source": [
    "**✏️ Task 4.2** \n",
    "*Perform an exploratory data analysis on the dataset. Think about all the things that you would need to know about this data in order to make confident statements about it and to be able to continue to work with it. Make sure to at least:*\n",
    "- *look at the features and try to understand them,*\n",
    "- *look at the distributions of the following features: sex, age education, income, diabetes_012, HighBP, HighChol*\n",
    "\n",
    "*Write down your code in the Python cell, and your key findings about the sample in the Markdown cell below.*\n",
    "\n",
    "If you are feeling lost about the exploratory data analysis, take a look at the linked article in the resources section below."
   ]
  },
  {
   "cell_type": "code",
   "execution_count": 20,
   "metadata": {},
   "outputs": [
    {
     "name": "stdout",
     "output_type": "stream",
     "text": [
      "(253680, 22)\n"
     ]
    },
    {
     "data": {
      "text/plain": [
       "Diabetes_012             3\n",
       "HighBP                   2\n",
       "HighChol                 2\n",
       "CholCheck                2\n",
       "BMI                     84\n",
       "Smoker                   2\n",
       "Stroke                   2\n",
       "HeartDiseaseorAttack     2\n",
       "PhysActivity             2\n",
       "Fruits                   2\n",
       "Veggies                  2\n",
       "HvyAlcoholConsump        2\n",
       "AnyHealthcare            2\n",
       "NoDocbcCost              2\n",
       "GenHlth                  5\n",
       "MentHlth                31\n",
       "PhysHlth                31\n",
       "DiffWalk                 2\n",
       "Sex                      2\n",
       "Age                     13\n",
       "Education                6\n",
       "Income                   8\n",
       "dtype: int64"
      ]
     },
     "execution_count": 20,
     "metadata": {},
     "output_type": "execute_result"
    }
   ],
   "source": [
    "import pandas as pd\n",
    "\n",
    "df = pd.read_csv(\"diabetes_012_health_indicators_BRFSS2015.csv\")\n",
    "print(df.shape)\n",
    "df.head()\n",
    "df.columns\n",
    "# df.describe()\n",
    "df.nunique(axis=0)"
   ]
  },
  {
   "cell_type": "markdown",
   "metadata": {},
   "source": [
    "---"
   ]
  },
  {
   "cell_type": "markdown",
   "metadata": {},
   "source": [
    "In the lecture, you learned about *\"protected attributes\"*. Protected attributes refer to sensitive or personal characteristics that are legally or ethically protected from being used as a basis for discrimination in data science applications. The *CDC Diabetes Health Indicators* dataset contains some of these attributes. It is important to understand and be able to identify the difference between protected and unprotected attributes.\n",
    "\n",
    "**✏️ Task 4.3**\n",
    "1. *What are the protected attributes of the dataset?*\n",
    "2. *Explain why it makes sense to protect these attributes. Identify any problems that may arise from including them.*\n",
    "3. *Is using the unprotected attributes unproblematic?*\n",
    "\n",
    "*Please write your answers in the markdown cell below.*"
   ]
  },
  {
   "cell_type": "markdown",
   "metadata": {},
   "source": []
  },
  {
   "cell_type": "markdown",
   "metadata": {},
   "source": [
    "---"
   ]
  },
  {
   "cell_type": "markdown",
   "metadata": {},
   "source": [
    "We continue to train a first version of a diabetes type prediction system. You will compare this system to the one you create in the next assignment to evaluate the impact of bias mitigation and fairness techniques. \n",
    "\n",
    "This task is intended to be open-ended. You are expected to use your prior data science knowledge. Think about the type of problem you are trying to solve and what model might be a good fit. If you are not sure what to do, take a look at Assignment 1 for a model training example and consider looking at other resources.\n",
    "\n",
    "**✏️ Task 4.4** \n",
    "1. *Train a model that predicts the type of diabetes (the “diabetes_012” feature).*\n",
    "2. *Try at least one other type of model and compare the results with the model from step 1 (e.g., RandomForestClassifier, KNeighborsClassifier, LogisticRegression).*\n",
    "3. *Choose the best performing model and further optimize it. Try to avoid [common pitfalls](https://www.gyata.ai/machine-learning/machine-learning-optimization/) of machine learning optimization.* <br>\n",
    "Hint: Save the model and your predictions, you will need them in the next learning unit again!\n",
    "\n",
    "*Please write your answers in the markdown cell below.*"
   ]
  },
  {
   "cell_type": "code",
   "execution_count": null,
   "metadata": {},
   "outputs": [],
   "source": []
  },
  {
   "cell_type": "markdown",
   "metadata": {},
   "source": [
    "---"
   ]
  },
  {
   "cell_type": "markdown",
   "metadata": {},
   "source": [
    "## 📝 Feedback\n",
    "We are interested in your feedback in order to improve this course. We will read all of your feedback and evaluate it. What you share may have a direct impact on the rest of the course or future iterations of it.\n",
    "\n",
    "Write down your feedback on the lecture, the exercises, or the assignments in the Markdown cell below. Furthermore, please note the approximate time it took you to complete the assignment. You may also write about your insights, what you found interesting, or questions that you have."
   ]
  },
  {
   "cell_type": "markdown",
   "metadata": {},
   "source": []
  }
 ],
 "metadata": {
  "kernelspec": {
   "display_name": "Python 3",
   "language": "python",
   "name": "python3"
  },
  "language_info": {
   "codemirror_mode": {
    "name": "ipython",
    "version": 3
   },
   "file_extension": ".py",
   "mimetype": "text/x-python",
   "name": "python",
   "nbconvert_exporter": "python",
   "pygments_lexer": "ipython3",
   "version": "3.12.3"
  }
 },
 "nbformat": 4,
 "nbformat_minor": 2
}
