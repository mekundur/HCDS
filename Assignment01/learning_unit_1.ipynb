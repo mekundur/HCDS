{
 "cells": [
  {
   "cell_type": "markdown",
   "metadata": {},
   "source": [
    "# Learning Unit 1 - Introduction"
   ]
  },
  {
   "cell_type": "markdown",
   "metadata": {},
   "source": [
    "## Reading Part - AI and humans\n",
    "\n",
    "The readings will be done in groups. You are assigned to group A or B. Only read the material for your group and answer the respective questions."
   ]
  },
  {
   "cell_type": "markdown",
   "metadata": {},
   "source": [
    "### Group A\n",
    "\n",
    "Please read the following short articles. \n",
    "\n",
    "> 1. Avoiding Data Disasters Covid Example ([Link](https://rachel.fast.ai/posts/2021-11-04-data-disasters/)) \n",
    "> 2. “AI will cure cancer” misunderstands both AI and medicine ([Link](https://rachel.fast.ai/posts/2024-02-20-ai-medicine/))  \n",
    "> 3. Dutch childcare benefit scandal an urgent wake-up call to ban racist algorithms ([Link](https://www.amnesty.org/en/latest/news/2021/10/xenophobic-machines-dutch-child-benefit-scandal/))\n",
    "\n",
    "Please complete the following task:\n",
    ">*Task 1: In 3-5 sentences, formulate it as a take-home message by summarizing what you think is most important and interesting in this article.* \n",
    "> \n",
    ">*Task 2: Many cases were mentioned, describing the risk when implementing AI systems without considering humans enough.*\n",
    "*Choose one of the provided cases. For this example describe which step in the data science cycle could have been worked on better to lead to a better outcome.*"
   ]
  },
  {
   "cell_type": "markdown",
   "metadata": {},
   "source": [
    "**Your answer for Task 1:**\n",
    "\n",
    " <span style=\"color:grey\">*(Insert your answer here)*</span>\n",
    "\n",
    "All three articles emphasise the human factor/input of dataset. When models aren't designed specifically for the data collected, outcomes are mostly innacurate. In some cases expert oversight is missed even though ongoing problem has been observed. Without continuous oversight collecting and model-dataset matching during implementation and maintenance phases, reliability of models will be biased and marginalized people will underrepsented. In conclusion, if current human-based problems or biases aren't considered well, AI models will likely scale up same issues.\n",
    "\n",
    "**Your answer for Task 2:**\n",
    "\n",
    "In the 'Avoiding Data Disasters' it is explained how collected data is wrongly used for a different purpose. The app that is used has an unfriendly user-interface and categories listed are aiming for short-term Covid illness. However all those data is used to analyze and make a model for long-term covid sickness. This led the model has a poor accuracy and conclusions on the research. Collecting Data step is somehow not attentively and critically taken into account. Feedbacks from patients could have considered in order to identify the context of the already gathered data and improve the application interface for the research purpose. \n",
    "\n",
    " <span style=\"color:grey\">*(Insert your answer here)*</span>"
   ]
  },
  {
   "cell_type": "markdown",
   "metadata": {},
   "source": [
    "### Group B\n",
    "\n",
    "Please read the following short articles. \n",
    ">  1. How artificial intelligence and machine learning can help healthcare systems respond to COVID‑19 ([Link](https://link.springer.com/content/pdf/10.1007/s10994-020-05928-x.pdf))\n",
    "\n",
    "\n",
    "Please complete the following task:\n",
    "> *Task 1: In 3-5 sentences, formulate it as a take-home message by summarizing what you think is most important and interesting in this article.*\n",
    "> \n",
    "> *Task 2:  In the provided article multiple ideas to utilize AI to help the healthcare system to respond to COVID-19 are described. \n",
    "Choose on recommendation and discuss why you think AI truly could help.*"
   ]
  },
  {
   "cell_type": "markdown",
   "metadata": {},
   "source": [
    "**Your answer for Task 1:**\n",
    "\n",
    " <span style=\"color:grey\">*(Insert your answer here)*</span>\n",
    "\n",
    "**Your answer for Task 2:**\n",
    "\n",
    " <span style=\"color:grey\">*(Insert your answer here)*</span>"
   ]
  },
  {
   "attachments": {},
   "cell_type": "markdown",
   "metadata": {},
   "source": [
    "## Programming Part - Data Science Introduction (Optional)"
   ]
  },
  {
   "cell_type": "markdown",
   "metadata": {},
   "source": [
    "### 🌍 Hello world \n",
    "\n",
    "Okay, enough words. Let's dive right into it and start with a classic:"
   ]
  },
  {
   "cell_type": "code",
   "execution_count": 1,
   "metadata": {},
   "outputs": [
    {
     "name": "stdout",
     "output_type": "stream",
     "text": [
      "hello world\n"
     ]
    }
   ],
   "source": [
    "print(\"hello world\")"
   ]
  },
  {
   "cell_type": "markdown",
   "metadata": {},
   "source": [
    "The above code cell can be executed (i.e., run) by clicking `Shift + Enter`. Check out some CheatSheets [[1](https://www.edureka.co/blog/wp-content/uploads/2018/10/Jupyter_Notebook_CheatSheet_Edureka.pdf)] or [[2](https://cheatography.com/weidadeyue/cheat-sheets/jupyter-notebook/pdf_bw/)]❗\n",
    "\n",
    "Of course we can set variables and extend them. Feel free to change the message:"
   ]
  },
  {
   "cell_type": "code",
   "execution_count": 2,
   "metadata": {},
   "outputs": [
    {
     "data": {
      "text/plain": [
       "'hello world how are you!'"
      ]
     },
     "execution_count": 2,
     "metadata": {},
     "output_type": "execute_result"
    }
   ],
   "source": [
    "hello = \"hello world\"\n",
    "hello = hello + \" how are you!\"\n",
    "hello"
   ]
  },
  {
   "cell_type": "markdown",
   "metadata": {},
   "source": [
    "Now that we have our first variable `hello` we can perform some string tricks, for example, we could change the capitalization. Please note: This will not change the variable `hello` itself , but will just return a capitalized new string."
   ]
  },
  {
   "cell_type": "code",
   "execution_count": 3,
   "metadata": {},
   "outputs": [
    {
     "data": {
      "text/plain": [
       "'Hello World How Are You!'"
      ]
     },
     "execution_count": 3,
     "metadata": {},
     "output_type": "execute_result"
    }
   ],
   "source": [
    "hello.title()"
   ]
  },
  {
   "cell_type": "code",
   "execution_count": 4,
   "metadata": {},
   "outputs": [
    {
     "data": {
      "text/plain": [
       "'HELLO WORLD HOW ARE YOU!'"
      ]
     },
     "execution_count": 4,
     "metadata": {},
     "output_type": "execute_result"
    }
   ],
   "source": [
    "hello.upper()"
   ]
  },
  {
   "cell_type": "markdown",
   "metadata": {},
   "source": [
    "✏️ *Now it's your turn! The pencil stands for a hands-on task!*\n",
    "\n",
    "Try some string manipulations yourself. To get some inspiration, have a look at the [string methods](https://docs.python.org/3/library/stdtypes.html?#string-methods) that Python has built-in. Read the docs."
   ]
  },
  {
   "cell_type": "code",
   "execution_count": 5,
   "metadata": {},
   "outputs": [
    {
     "data": {
      "text/plain": [
       "'hello Mertcan how are you!'"
      ]
     },
     "execution_count": 5,
     "metadata": {},
     "output_type": "execute_result"
    }
   ],
   "source": [
    "# Hands-on inspirations, check out the following!\n",
    "hello.center(40,'#')\n",
    "hello.count('o')\n",
    "hello.find('w')\n",
    "hello.swapcase()\n",
    "hello.startswith('hello')\n",
    "hello.endswith('hello')\n",
    "hello.split(' ')\n",
    "hello.rjust(40, '_')\n",
    "hello.ljust(40, '_')\n",
    "hello.isnumeric()\n",
    "hello.isalpha()\n",
    "hello.upper()\n",
    "hello.replace('world', \"Mertcan\", -1)"
   ]
  },
  {
   "cell_type": "markdown",
   "metadata": {},
   "source": [
    "### 📦 Let's get some packages\n",
    "\n",
    "Python itself provides only limited methods for working with more complex data. One of the main reasons for Python's (and  Jupyter's) popularity is the wide availability of software packages that provide powerful means for preparing, processing, presenting, and probing data. Throughout the exercises you will get to know a few packages, some of them highly specific tools and others more general-purpose libraries."
   ]
  },
  {
   "cell_type": "code",
   "execution_count": 6,
   "metadata": {},
   "outputs": [],
   "source": [
    "import pandas as pd"
   ]
  },
  {
   "cell_type": "markdown",
   "metadata": {},
   "source": [
    "Now the powerful `pandas` package is loaded and will answer to its nickname `pd`.\n",
    "\n",
    "🐼 [Pandas](https://pandas.pydata.org) really is a data analysis workhorse with the DataFrame data structure being one of its main muscles. You will learn to love it! With pandas you can do simple and sophisticated operations over small and sizable datasets.\n",
    "\n",
    "Let's read in a dataset to give you a sense of how it works:"
   ]
  },
  {
   "cell_type": "markdown",
   "metadata": {},
   "source": [
    "### 👀 Data Exploration\n",
    "This part of the exercise shows you a few tricks for preparing data. You will see how data can be loaded, parsed, and examined. For this we will continue to work with the **Pandas** package, in particular with the DataFrame data structure, and get to know a few additional helpers. "
   ]
  },
  {
   "cell_type": "markdown",
   "metadata": {},
   "source": [
    "#### Loading \n",
    "The first step is to bring the data into the purview of your notebook. So regardless of data structure and format, you need to have access to the data set. We will briefly cover four common ways of loading data into your Jupyter notebook.\n",
    "\n",
    "#### Enter data directly\n",
    "The simplest way to add data to your notebook is to enter it verbatim into the notebook:"
   ]
  },
  {
   "cell_type": "code",
   "execution_count": 7,
   "metadata": {},
   "outputs": [
    {
     "data": {
      "text/html": [
       "<div>\n",
       "<style scoped>\n",
       "    .dataframe tbody tr th:only-of-type {\n",
       "        vertical-align: middle;\n",
       "    }\n",
       "\n",
       "    .dataframe tbody tr th {\n",
       "        vertical-align: top;\n",
       "    }\n",
       "\n",
       "    .dataframe thead th {\n",
       "        text-align: right;\n",
       "    }\n",
       "</style>\n",
       "<table border=\"1\" class=\"dataframe\">\n",
       "  <thead>\n",
       "    <tr style=\"text-align: right;\">\n",
       "      <th></th>\n",
       "      <th>name</th>\n",
       "      <th>area</th>\n",
       "      <th>elevation</th>\n",
       "      <th>population</th>\n",
       "    </tr>\n",
       "  </thead>\n",
       "  <tbody>\n",
       "    <tr>\n",
       "      <th>0</th>\n",
       "      <td>Athens</td>\n",
       "      <td>39.0</td>\n",
       "      <td>170</td>\n",
       "      <td>664046</td>\n",
       "    </tr>\n",
       "    <tr>\n",
       "      <th>1</th>\n",
       "      <td>Bratislava</td>\n",
       "      <td>367.6</td>\n",
       "      <td>152</td>\n",
       "      <td>429564</td>\n",
       "    </tr>\n",
       "    <tr>\n",
       "      <th>2</th>\n",
       "      <td>Copenhagen</td>\n",
       "      <td>86.2</td>\n",
       "      <td>14</td>\n",
       "      <td>602481</td>\n",
       "    </tr>\n",
       "    <tr>\n",
       "      <th>3</th>\n",
       "      <td>Dublin</td>\n",
       "      <td>115.0</td>\n",
       "      <td>20</td>\n",
       "      <td>553165</td>\n",
       "    </tr>\n",
       "  </tbody>\n",
       "</table>\n",
       "</div>"
      ],
      "text/plain": [
       "         name   area  elevation  population\n",
       "0      Athens   39.0        170      664046\n",
       "1  Bratislava  367.6        152      429564\n",
       "2  Copenhagen   86.2         14      602481\n",
       "3      Dublin  115.0         20      553165"
      ]
     },
     "execution_count": 7,
     "metadata": {},
     "output_type": "execute_result"
    }
   ],
   "source": [
    "cities = pd.DataFrame({\n",
    "  \"name\": [\"Athens\", \"Bratislava\", \"Copenhagen\", \"Dublin\"],\n",
    "  \"area\": [39, 367.6, 86.2, 115],\n",
    "  \"elevation\": [170, 152, 14, 20],\n",
    "  \"population\": [664046, 429564, 602481, 553165]\n",
    "  }\n",
    ")\n",
    "\n",
    "cities"
   ]
  },
  {
   "cell_type": "markdown",
   "metadata": {},
   "source": [
    "✏️ *Add a column for years when you have visited or plan to visit these cities*\n"
   ]
  },
  {
   "cell_type": "code",
   "execution_count": 8,
   "metadata": {},
   "outputs": [
    {
     "data": {
      "text/html": [
       "<div>\n",
       "<style scoped>\n",
       "    .dataframe tbody tr th:only-of-type {\n",
       "        vertical-align: middle;\n",
       "    }\n",
       "\n",
       "    .dataframe tbody tr th {\n",
       "        vertical-align: top;\n",
       "    }\n",
       "\n",
       "    .dataframe thead th {\n",
       "        text-align: right;\n",
       "    }\n",
       "</style>\n",
       "<table border=\"1\" class=\"dataframe\">\n",
       "  <thead>\n",
       "    <tr style=\"text-align: right;\">\n",
       "      <th></th>\n",
       "      <th>name</th>\n",
       "      <th>area</th>\n",
       "      <th>elevation</th>\n",
       "      <th>population</th>\n",
       "      <th>year</th>\n",
       "    </tr>\n",
       "  </thead>\n",
       "  <tbody>\n",
       "    <tr>\n",
       "      <th>0</th>\n",
       "      <td>Athens</td>\n",
       "      <td>39.0</td>\n",
       "      <td>170</td>\n",
       "      <td>664046</td>\n",
       "      <td>2022</td>\n",
       "    </tr>\n",
       "    <tr>\n",
       "      <th>1</th>\n",
       "      <td>Bratislava</td>\n",
       "      <td>367.6</td>\n",
       "      <td>152</td>\n",
       "      <td>429564</td>\n",
       "      <td>2026</td>\n",
       "    </tr>\n",
       "    <tr>\n",
       "      <th>2</th>\n",
       "      <td>Copenhagen</td>\n",
       "      <td>86.2</td>\n",
       "      <td>14</td>\n",
       "      <td>602481</td>\n",
       "      <td>2018</td>\n",
       "    </tr>\n",
       "    <tr>\n",
       "      <th>3</th>\n",
       "      <td>Dublin</td>\n",
       "      <td>115.0</td>\n",
       "      <td>20</td>\n",
       "      <td>553165</td>\n",
       "      <td>2027</td>\n",
       "    </tr>\n",
       "  </tbody>\n",
       "</table>\n",
       "</div>"
      ],
      "text/plain": [
       "         name   area  elevation  population  year\n",
       "0      Athens   39.0        170      664046  2022\n",
       "1  Bratislava  367.6        152      429564  2026\n",
       "2  Copenhagen   86.2         14      602481  2018\n",
       "3      Dublin  115.0         20      553165  2027"
      ]
     },
     "execution_count": 8,
     "metadata": {},
     "output_type": "execute_result"
    }
   ],
   "source": [
    "cities.insert(4, \"year\", [2022, 2026, 2018, 2027])\n",
    "\n",
    "cities"
   ]
  },
  {
   "cell_type": "markdown",
   "metadata": {},
   "source": [
    "#### CSV\n",
    "The CSV format is probably the most common file format in the context of data analysis and visualization. CSV files contain tabular data that can be viewed and edited in a spreadsheet software such as Excel. CSV stands for [comma-separated values](https://en.wikipedia.org/wiki/Comma-separated_values), which seems to say it all: the data values are separated by commas and each row represents one item. However, there are also CSV files that use separators other than commas, such as tabs and semicolons. \n",
    "\n",
    "Let's load the CSV file that came with this notebook! Thankfully Pandas has the convenient `read_csv()` method ready for us, which can open CSV data via a file path or URL, and turns it directly into a DataFrame object."
   ]
  },
  {
   "cell_type": "code",
   "execution_count": 9,
   "metadata": {},
   "outputs": [],
   "source": [
    "sgcd_df = pd.read_csv(\"south_german_credit_data.csv\")"
   ]
  },
  {
   "cell_type": "markdown",
   "metadata": {},
   "source": [
    "#### DataFrames\n",
    "The suffix `_df` is commonly used to denote pandas DataFrame variables.\n",
    "\n",
    "The famous **[German Credit dataset](https://archive.ics.uci.edu/dataset/144/statlog+german+credit+data)** is a widely used benchmark in machine learning, containing financial and personal information of individuals for predicting creditworthiness.\n",
    "\n",
    "To check whether the DataFrame was created successfully, we can type the variable name `sgcd_df`, to display its content as an output:"
   ]
  },
  {
   "cell_type": "code",
   "execution_count": 10,
   "metadata": {},
   "outputs": [
    {
     "data": {
      "text/html": [
       "<div>\n",
       "<style scoped>\n",
       "    .dataframe tbody tr th:only-of-type {\n",
       "        vertical-align: middle;\n",
       "    }\n",
       "\n",
       "    .dataframe tbody tr th {\n",
       "        vertical-align: top;\n",
       "    }\n",
       "\n",
       "    .dataframe thead th {\n",
       "        text-align: right;\n",
       "    }\n",
       "</style>\n",
       "<table border=\"1\" class=\"dataframe\">\n",
       "  <thead>\n",
       "    <tr style=\"text-align: right;\">\n",
       "      <th></th>\n",
       "      <th>checking account</th>\n",
       "      <th>duration in month</th>\n",
       "      <th>credit history</th>\n",
       "      <th>credit purpose</th>\n",
       "      <th>credit amount</th>\n",
       "      <th>savings account</th>\n",
       "      <th>employment since..</th>\n",
       "      <th>installment rate</th>\n",
       "      <th>status : sex</th>\n",
       "      <th>other debtors / guarantors</th>\n",
       "      <th>...</th>\n",
       "      <th>property</th>\n",
       "      <th>relationship : age</th>\n",
       "      <th>other installment plans</th>\n",
       "      <th>housing</th>\n",
       "      <th>existing credits</th>\n",
       "      <th>job</th>\n",
       "      <th>people to provide maintenance for</th>\n",
       "      <th>telephone</th>\n",
       "      <th>foreign worker</th>\n",
       "      <th>goodness</th>\n",
       "    </tr>\n",
       "  </thead>\n",
       "  <tbody>\n",
       "    <tr>\n",
       "      <th>0</th>\n",
       "      <td>1</td>\n",
       "      <td>18</td>\n",
       "      <td>4</td>\n",
       "      <td>2</td>\n",
       "      <td>1049</td>\n",
       "      <td>1</td>\n",
       "      <td>2</td>\n",
       "      <td>4</td>\n",
       "      <td>2</td>\n",
       "      <td>1</td>\n",
       "      <td>...</td>\n",
       "      <td>2</td>\n",
       "      <td>21</td>\n",
       "      <td>3</td>\n",
       "      <td>1</td>\n",
       "      <td>1</td>\n",
       "      <td>3</td>\n",
       "      <td>2</td>\n",
       "      <td>1</td>\n",
       "      <td>2</td>\n",
       "      <td>1</td>\n",
       "    </tr>\n",
       "    <tr>\n",
       "      <th>1</th>\n",
       "      <td>1</td>\n",
       "      <td>9</td>\n",
       "      <td>4</td>\n",
       "      <td>0</td>\n",
       "      <td>2799</td>\n",
       "      <td>1</td>\n",
       "      <td>3</td>\n",
       "      <td>2</td>\n",
       "      <td>3</td>\n",
       "      <td>1</td>\n",
       "      <td>...</td>\n",
       "      <td>1</td>\n",
       "      <td>36</td>\n",
       "      <td>3</td>\n",
       "      <td>1</td>\n",
       "      <td>2</td>\n",
       "      <td>3</td>\n",
       "      <td>1</td>\n",
       "      <td>1</td>\n",
       "      <td>2</td>\n",
       "      <td>1</td>\n",
       "    </tr>\n",
       "    <tr>\n",
       "      <th>2</th>\n",
       "      <td>2</td>\n",
       "      <td>12</td>\n",
       "      <td>2</td>\n",
       "      <td>9</td>\n",
       "      <td>841</td>\n",
       "      <td>2</td>\n",
       "      <td>4</td>\n",
       "      <td>2</td>\n",
       "      <td>2</td>\n",
       "      <td>1</td>\n",
       "      <td>...</td>\n",
       "      <td>1</td>\n",
       "      <td>23</td>\n",
       "      <td>3</td>\n",
       "      <td>1</td>\n",
       "      <td>1</td>\n",
       "      <td>2</td>\n",
       "      <td>2</td>\n",
       "      <td>1</td>\n",
       "      <td>2</td>\n",
       "      <td>1</td>\n",
       "    </tr>\n",
       "    <tr>\n",
       "      <th>3</th>\n",
       "      <td>1</td>\n",
       "      <td>12</td>\n",
       "      <td>4</td>\n",
       "      <td>0</td>\n",
       "      <td>2122</td>\n",
       "      <td>1</td>\n",
       "      <td>3</td>\n",
       "      <td>3</td>\n",
       "      <td>3</td>\n",
       "      <td>1</td>\n",
       "      <td>...</td>\n",
       "      <td>1</td>\n",
       "      <td>39</td>\n",
       "      <td>3</td>\n",
       "      <td>1</td>\n",
       "      <td>2</td>\n",
       "      <td>2</td>\n",
       "      <td>1</td>\n",
       "      <td>1</td>\n",
       "      <td>1</td>\n",
       "      <td>1</td>\n",
       "    </tr>\n",
       "    <tr>\n",
       "      <th>4</th>\n",
       "      <td>1</td>\n",
       "      <td>12</td>\n",
       "      <td>4</td>\n",
       "      <td>0</td>\n",
       "      <td>2171</td>\n",
       "      <td>1</td>\n",
       "      <td>3</td>\n",
       "      <td>4</td>\n",
       "      <td>3</td>\n",
       "      <td>1</td>\n",
       "      <td>...</td>\n",
       "      <td>2</td>\n",
       "      <td>38</td>\n",
       "      <td>1</td>\n",
       "      <td>2</td>\n",
       "      <td>2</td>\n",
       "      <td>2</td>\n",
       "      <td>2</td>\n",
       "      <td>1</td>\n",
       "      <td>1</td>\n",
       "      <td>1</td>\n",
       "    </tr>\n",
       "    <tr>\n",
       "      <th>...</th>\n",
       "      <td>...</td>\n",
       "      <td>...</td>\n",
       "      <td>...</td>\n",
       "      <td>...</td>\n",
       "      <td>...</td>\n",
       "      <td>...</td>\n",
       "      <td>...</td>\n",
       "      <td>...</td>\n",
       "      <td>...</td>\n",
       "      <td>...</td>\n",
       "      <td>...</td>\n",
       "      <td>...</td>\n",
       "      <td>...</td>\n",
       "      <td>...</td>\n",
       "      <td>...</td>\n",
       "      <td>...</td>\n",
       "      <td>...</td>\n",
       "      <td>...</td>\n",
       "      <td>...</td>\n",
       "      <td>...</td>\n",
       "      <td>...</td>\n",
       "    </tr>\n",
       "    <tr>\n",
       "      <th>995</th>\n",
       "      <td>1</td>\n",
       "      <td>24</td>\n",
       "      <td>2</td>\n",
       "      <td>3</td>\n",
       "      <td>1987</td>\n",
       "      <td>1</td>\n",
       "      <td>3</td>\n",
       "      <td>2</td>\n",
       "      <td>3</td>\n",
       "      <td>1</td>\n",
       "      <td>...</td>\n",
       "      <td>1</td>\n",
       "      <td>21</td>\n",
       "      <td>3</td>\n",
       "      <td>1</td>\n",
       "      <td>1</td>\n",
       "      <td>2</td>\n",
       "      <td>1</td>\n",
       "      <td>1</td>\n",
       "      <td>2</td>\n",
       "      <td>0</td>\n",
       "    </tr>\n",
       "    <tr>\n",
       "      <th>996</th>\n",
       "      <td>1</td>\n",
       "      <td>24</td>\n",
       "      <td>2</td>\n",
       "      <td>0</td>\n",
       "      <td>2303</td>\n",
       "      <td>1</td>\n",
       "      <td>5</td>\n",
       "      <td>4</td>\n",
       "      <td>3</td>\n",
       "      <td>2</td>\n",
       "      <td>...</td>\n",
       "      <td>1</td>\n",
       "      <td>45</td>\n",
       "      <td>3</td>\n",
       "      <td>2</td>\n",
       "      <td>1</td>\n",
       "      <td>3</td>\n",
       "      <td>2</td>\n",
       "      <td>1</td>\n",
       "      <td>2</td>\n",
       "      <td>0</td>\n",
       "    </tr>\n",
       "    <tr>\n",
       "      <th>997</th>\n",
       "      <td>4</td>\n",
       "      <td>21</td>\n",
       "      <td>4</td>\n",
       "      <td>0</td>\n",
       "      <td>12680</td>\n",
       "      <td>5</td>\n",
       "      <td>5</td>\n",
       "      <td>4</td>\n",
       "      <td>3</td>\n",
       "      <td>1</td>\n",
       "      <td>...</td>\n",
       "      <td>4</td>\n",
       "      <td>30</td>\n",
       "      <td>3</td>\n",
       "      <td>3</td>\n",
       "      <td>1</td>\n",
       "      <td>4</td>\n",
       "      <td>2</td>\n",
       "      <td>2</td>\n",
       "      <td>2</td>\n",
       "      <td>0</td>\n",
       "    </tr>\n",
       "    <tr>\n",
       "      <th>998</th>\n",
       "      <td>2</td>\n",
       "      <td>12</td>\n",
       "      <td>2</td>\n",
       "      <td>3</td>\n",
       "      <td>6468</td>\n",
       "      <td>5</td>\n",
       "      <td>1</td>\n",
       "      <td>2</td>\n",
       "      <td>3</td>\n",
       "      <td>1</td>\n",
       "      <td>...</td>\n",
       "      <td>4</td>\n",
       "      <td>52</td>\n",
       "      <td>3</td>\n",
       "      <td>2</td>\n",
       "      <td>1</td>\n",
       "      <td>4</td>\n",
       "      <td>2</td>\n",
       "      <td>2</td>\n",
       "      <td>2</td>\n",
       "      <td>0</td>\n",
       "    </tr>\n",
       "    <tr>\n",
       "      <th>999</th>\n",
       "      <td>1</td>\n",
       "      <td>30</td>\n",
       "      <td>2</td>\n",
       "      <td>2</td>\n",
       "      <td>6350</td>\n",
       "      <td>5</td>\n",
       "      <td>5</td>\n",
       "      <td>4</td>\n",
       "      <td>3</td>\n",
       "      <td>1</td>\n",
       "      <td>...</td>\n",
       "      <td>2</td>\n",
       "      <td>31</td>\n",
       "      <td>3</td>\n",
       "      <td>2</td>\n",
       "      <td>1</td>\n",
       "      <td>3</td>\n",
       "      <td>2</td>\n",
       "      <td>1</td>\n",
       "      <td>2</td>\n",
       "      <td>0</td>\n",
       "    </tr>\n",
       "  </tbody>\n",
       "</table>\n",
       "<p>1000 rows × 21 columns</p>\n",
       "</div>"
      ],
      "text/plain": [
       "     checking account  duration in month  credit history  credit purpose  \\\n",
       "0                   1                 18               4               2   \n",
       "1                   1                  9               4               0   \n",
       "2                   2                 12               2               9   \n",
       "3                   1                 12               4               0   \n",
       "4                   1                 12               4               0   \n",
       "..                ...                ...             ...             ...   \n",
       "995                 1                 24               2               3   \n",
       "996                 1                 24               2               0   \n",
       "997                 4                 21               4               0   \n",
       "998                 2                 12               2               3   \n",
       "999                 1                 30               2               2   \n",
       "\n",
       "     credit amount  savings account  employment since..  installment rate  \\\n",
       "0             1049                1                   2                 4   \n",
       "1             2799                1                   3                 2   \n",
       "2              841                2                   4                 2   \n",
       "3             2122                1                   3                 3   \n",
       "4             2171                1                   3                 4   \n",
       "..             ...              ...                 ...               ...   \n",
       "995           1987                1                   3                 2   \n",
       "996           2303                1                   5                 4   \n",
       "997          12680                5                   5                 4   \n",
       "998           6468                5                   1                 2   \n",
       "999           6350                5                   5                 4   \n",
       "\n",
       "     status : sex  other debtors / guarantors  ...  property  \\\n",
       "0               2                           1  ...         2   \n",
       "1               3                           1  ...         1   \n",
       "2               2                           1  ...         1   \n",
       "3               3                           1  ...         1   \n",
       "4               3                           1  ...         2   \n",
       "..            ...                         ...  ...       ...   \n",
       "995             3                           1  ...         1   \n",
       "996             3                           2  ...         1   \n",
       "997             3                           1  ...         4   \n",
       "998             3                           1  ...         4   \n",
       "999             3                           1  ...         2   \n",
       "\n",
       "     relationship : age  other installment plans  housing  existing credits  \\\n",
       "0                    21                        3        1                 1   \n",
       "1                    36                        3        1                 2   \n",
       "2                    23                        3        1                 1   \n",
       "3                    39                        3        1                 2   \n",
       "4                    38                        1        2                 2   \n",
       "..                  ...                      ...      ...               ...   \n",
       "995                  21                        3        1                 1   \n",
       "996                  45                        3        2                 1   \n",
       "997                  30                        3        3                 1   \n",
       "998                  52                        3        2                 1   \n",
       "999                  31                        3        2                 1   \n",
       "\n",
       "     job  people to provide maintenance for  telephone  foreign worker  \\\n",
       "0      3                                  2          1               2   \n",
       "1      3                                  1          1               2   \n",
       "2      2                                  2          1               2   \n",
       "3      2                                  1          1               1   \n",
       "4      2                                  2          1               1   \n",
       "..   ...                                ...        ...             ...   \n",
       "995    2                                  1          1               2   \n",
       "996    3                                  2          1               2   \n",
       "997    4                                  2          2               2   \n",
       "998    4                                  2          2               2   \n",
       "999    3                                  2          1               2   \n",
       "\n",
       "     goodness  \n",
       "0           1  \n",
       "1           1  \n",
       "2           1  \n",
       "3           1  \n",
       "4           1  \n",
       "..        ...  \n",
       "995         0  \n",
       "996         0  \n",
       "997         0  \n",
       "998         0  \n",
       "999         0  \n",
       "\n",
       "[1000 rows x 21 columns]"
      ]
     },
     "execution_count": 10,
     "metadata": {},
     "output_type": "execute_result"
    }
   ],
   "source": [
    "sgcd_df"
   ]
  },
  {
   "cell_type": "markdown",
   "metadata": {},
   "source": [
    "The output generated by a code cell is printed right below it. In the case of a DataFrame we get a table. By convention, the rows are the data entries and the columns are the data dimensions. The first column on the left side is the index. \n",
    "\n",
    "In order to get a better understanding of the variables and their values, please check the included `codetable.txt` file, which was provided with the data set (*Note: we already converted all German attribute names into English*). \n",
    "\n",
    "You can also use `.info()` to get a summary of that dataframe."
   ]
  },
  {
   "cell_type": "code",
   "execution_count": 11,
   "metadata": {},
   "outputs": [
    {
     "name": "stdout",
     "output_type": "stream",
     "text": [
      "<class 'pandas.core.frame.DataFrame'>\n",
      "RangeIndex: 1000 entries, 0 to 999\n",
      "Data columns (total 21 columns):\n",
      " #   Column                             Non-Null Count  Dtype\n",
      "---  ------                             --------------  -----\n",
      " 0   checking account                   1000 non-null   int64\n",
      " 1   duration in month                  1000 non-null   int64\n",
      " 2   credit history                     1000 non-null   int64\n",
      " 3   credit purpose                     1000 non-null   int64\n",
      " 4   credit amount                      1000 non-null   int64\n",
      " 5   savings account                    1000 non-null   int64\n",
      " 6   employment since..                 1000 non-null   int64\n",
      " 7   installment rate                   1000 non-null   int64\n",
      " 8   status : sex                       1000 non-null   int64\n",
      " 9   other debtors / guarantors         1000 non-null   int64\n",
      " 10  residence since                    1000 non-null   int64\n",
      " 11  property                           1000 non-null   int64\n",
      " 12  relationship : age                 1000 non-null   int64\n",
      " 13  other installment plans            1000 non-null   int64\n",
      " 14  housing                            1000 non-null   int64\n",
      " 15  existing credits                   1000 non-null   int64\n",
      " 16  job                                1000 non-null   int64\n",
      " 17  people to provide maintenance for  1000 non-null   int64\n",
      " 18  telephone                          1000 non-null   int64\n",
      " 19  foreign worker                     1000 non-null   int64\n",
      " 20  goodness                           1000 non-null   int64\n",
      "dtypes: int64(21)\n",
      "memory usage: 164.2 KB\n"
     ]
    }
   ],
   "source": [
    "sgcd_df.info()"
   ]
  },
  {
   "cell_type": "markdown",
   "metadata": {},
   "source": [
    "You are now able to load and parse data from several formats. At this point, there are plenty of ways to inspect these datasets. We are going to try some simple methods to peek around the datasets. Once you have a tabular dataset ready as a DataFrame, there are quite a few convenient methods to view and explore its contents."
   ]
  },
  {
   "cell_type": "markdown",
   "metadata": {},
   "source": [
    "#### Head & tail\n",
    "\n",
    "You could start with looking at the beginning of the dataset with `head()`:"
   ]
  },
  {
   "cell_type": "code",
   "execution_count": 12,
   "metadata": {},
   "outputs": [
    {
     "data": {
      "text/html": [
       "<div>\n",
       "<style scoped>\n",
       "    .dataframe tbody tr th:only-of-type {\n",
       "        vertical-align: middle;\n",
       "    }\n",
       "\n",
       "    .dataframe tbody tr th {\n",
       "        vertical-align: top;\n",
       "    }\n",
       "\n",
       "    .dataframe thead th {\n",
       "        text-align: right;\n",
       "    }\n",
       "</style>\n",
       "<table border=\"1\" class=\"dataframe\">\n",
       "  <thead>\n",
       "    <tr style=\"text-align: right;\">\n",
       "      <th></th>\n",
       "      <th>checking account</th>\n",
       "      <th>duration in month</th>\n",
       "      <th>credit history</th>\n",
       "      <th>credit purpose</th>\n",
       "      <th>credit amount</th>\n",
       "      <th>savings account</th>\n",
       "      <th>employment since..</th>\n",
       "      <th>installment rate</th>\n",
       "      <th>status : sex</th>\n",
       "      <th>other debtors / guarantors</th>\n",
       "      <th>...</th>\n",
       "      <th>property</th>\n",
       "      <th>relationship : age</th>\n",
       "      <th>other installment plans</th>\n",
       "      <th>housing</th>\n",
       "      <th>existing credits</th>\n",
       "      <th>job</th>\n",
       "      <th>people to provide maintenance for</th>\n",
       "      <th>telephone</th>\n",
       "      <th>foreign worker</th>\n",
       "      <th>goodness</th>\n",
       "    </tr>\n",
       "  </thead>\n",
       "  <tbody>\n",
       "    <tr>\n",
       "      <th>0</th>\n",
       "      <td>1</td>\n",
       "      <td>18</td>\n",
       "      <td>4</td>\n",
       "      <td>2</td>\n",
       "      <td>1049</td>\n",
       "      <td>1</td>\n",
       "      <td>2</td>\n",
       "      <td>4</td>\n",
       "      <td>2</td>\n",
       "      <td>1</td>\n",
       "      <td>...</td>\n",
       "      <td>2</td>\n",
       "      <td>21</td>\n",
       "      <td>3</td>\n",
       "      <td>1</td>\n",
       "      <td>1</td>\n",
       "      <td>3</td>\n",
       "      <td>2</td>\n",
       "      <td>1</td>\n",
       "      <td>2</td>\n",
       "      <td>1</td>\n",
       "    </tr>\n",
       "    <tr>\n",
       "      <th>1</th>\n",
       "      <td>1</td>\n",
       "      <td>9</td>\n",
       "      <td>4</td>\n",
       "      <td>0</td>\n",
       "      <td>2799</td>\n",
       "      <td>1</td>\n",
       "      <td>3</td>\n",
       "      <td>2</td>\n",
       "      <td>3</td>\n",
       "      <td>1</td>\n",
       "      <td>...</td>\n",
       "      <td>1</td>\n",
       "      <td>36</td>\n",
       "      <td>3</td>\n",
       "      <td>1</td>\n",
       "      <td>2</td>\n",
       "      <td>3</td>\n",
       "      <td>1</td>\n",
       "      <td>1</td>\n",
       "      <td>2</td>\n",
       "      <td>1</td>\n",
       "    </tr>\n",
       "    <tr>\n",
       "      <th>2</th>\n",
       "      <td>2</td>\n",
       "      <td>12</td>\n",
       "      <td>2</td>\n",
       "      <td>9</td>\n",
       "      <td>841</td>\n",
       "      <td>2</td>\n",
       "      <td>4</td>\n",
       "      <td>2</td>\n",
       "      <td>2</td>\n",
       "      <td>1</td>\n",
       "      <td>...</td>\n",
       "      <td>1</td>\n",
       "      <td>23</td>\n",
       "      <td>3</td>\n",
       "      <td>1</td>\n",
       "      <td>1</td>\n",
       "      <td>2</td>\n",
       "      <td>2</td>\n",
       "      <td>1</td>\n",
       "      <td>2</td>\n",
       "      <td>1</td>\n",
       "    </tr>\n",
       "    <tr>\n",
       "      <th>3</th>\n",
       "      <td>1</td>\n",
       "      <td>12</td>\n",
       "      <td>4</td>\n",
       "      <td>0</td>\n",
       "      <td>2122</td>\n",
       "      <td>1</td>\n",
       "      <td>3</td>\n",
       "      <td>3</td>\n",
       "      <td>3</td>\n",
       "      <td>1</td>\n",
       "      <td>...</td>\n",
       "      <td>1</td>\n",
       "      <td>39</td>\n",
       "      <td>3</td>\n",
       "      <td>1</td>\n",
       "      <td>2</td>\n",
       "      <td>2</td>\n",
       "      <td>1</td>\n",
       "      <td>1</td>\n",
       "      <td>1</td>\n",
       "      <td>1</td>\n",
       "    </tr>\n",
       "    <tr>\n",
       "      <th>4</th>\n",
       "      <td>1</td>\n",
       "      <td>12</td>\n",
       "      <td>4</td>\n",
       "      <td>0</td>\n",
       "      <td>2171</td>\n",
       "      <td>1</td>\n",
       "      <td>3</td>\n",
       "      <td>4</td>\n",
       "      <td>3</td>\n",
       "      <td>1</td>\n",
       "      <td>...</td>\n",
       "      <td>2</td>\n",
       "      <td>38</td>\n",
       "      <td>1</td>\n",
       "      <td>2</td>\n",
       "      <td>2</td>\n",
       "      <td>2</td>\n",
       "      <td>2</td>\n",
       "      <td>1</td>\n",
       "      <td>1</td>\n",
       "      <td>1</td>\n",
       "    </tr>\n",
       "  </tbody>\n",
       "</table>\n",
       "<p>5 rows × 21 columns</p>\n",
       "</div>"
      ],
      "text/plain": [
       "   checking account  duration in month  credit history  credit purpose  \\\n",
       "0                 1                 18               4               2   \n",
       "1                 1                  9               4               0   \n",
       "2                 2                 12               2               9   \n",
       "3                 1                 12               4               0   \n",
       "4                 1                 12               4               0   \n",
       "\n",
       "   credit amount  savings account  employment since..  installment rate  \\\n",
       "0           1049                1                   2                 4   \n",
       "1           2799                1                   3                 2   \n",
       "2            841                2                   4                 2   \n",
       "3           2122                1                   3                 3   \n",
       "4           2171                1                   3                 4   \n",
       "\n",
       "   status : sex  other debtors / guarantors  ...  property  \\\n",
       "0             2                           1  ...         2   \n",
       "1             3                           1  ...         1   \n",
       "2             2                           1  ...         1   \n",
       "3             3                           1  ...         1   \n",
       "4             3                           1  ...         2   \n",
       "\n",
       "   relationship : age  other installment plans  housing  existing credits  \\\n",
       "0                  21                        3        1                 1   \n",
       "1                  36                        3        1                 2   \n",
       "2                  23                        3        1                 1   \n",
       "3                  39                        3        1                 2   \n",
       "4                  38                        1        2                 2   \n",
       "\n",
       "   job  people to provide maintenance for  telephone  foreign worker  goodness  \n",
       "0    3                                  2          1               2         1  \n",
       "1    3                                  1          1               2         1  \n",
       "2    2                                  2          1               2         1  \n",
       "3    2                                  1          1               1         1  \n",
       "4    2                                  2          1               1         1  \n",
       "\n",
       "[5 rows x 21 columns]"
      ]
     },
     "execution_count": 12,
     "metadata": {},
     "output_type": "execute_result"
    }
   ],
   "source": [
    "sgcd_df.head()"
   ]
  },
  {
   "cell_type": "markdown",
   "metadata": {},
   "source": [
    "✏️ *What do you think happens, when you replace `head()` with `tail()` ?*"
   ]
  },
  {
   "cell_type": "code",
   "execution_count": 13,
   "metadata": {},
   "outputs": [
    {
     "data": {
      "text/html": [
       "<div>\n",
       "<style scoped>\n",
       "    .dataframe tbody tr th:only-of-type {\n",
       "        vertical-align: middle;\n",
       "    }\n",
       "\n",
       "    .dataframe tbody tr th {\n",
       "        vertical-align: top;\n",
       "    }\n",
       "\n",
       "    .dataframe thead th {\n",
       "        text-align: right;\n",
       "    }\n",
       "</style>\n",
       "<table border=\"1\" class=\"dataframe\">\n",
       "  <thead>\n",
       "    <tr style=\"text-align: right;\">\n",
       "      <th></th>\n",
       "      <th>checking account</th>\n",
       "      <th>duration in month</th>\n",
       "      <th>credit history</th>\n",
       "      <th>credit purpose</th>\n",
       "      <th>credit amount</th>\n",
       "      <th>savings account</th>\n",
       "      <th>employment since..</th>\n",
       "      <th>installment rate</th>\n",
       "      <th>status : sex</th>\n",
       "      <th>other debtors / guarantors</th>\n",
       "      <th>...</th>\n",
       "      <th>property</th>\n",
       "      <th>relationship : age</th>\n",
       "      <th>other installment plans</th>\n",
       "      <th>housing</th>\n",
       "      <th>existing credits</th>\n",
       "      <th>job</th>\n",
       "      <th>people to provide maintenance for</th>\n",
       "      <th>telephone</th>\n",
       "      <th>foreign worker</th>\n",
       "      <th>goodness</th>\n",
       "    </tr>\n",
       "  </thead>\n",
       "  <tbody>\n",
       "    <tr>\n",
       "      <th>995</th>\n",
       "      <td>1</td>\n",
       "      <td>24</td>\n",
       "      <td>2</td>\n",
       "      <td>3</td>\n",
       "      <td>1987</td>\n",
       "      <td>1</td>\n",
       "      <td>3</td>\n",
       "      <td>2</td>\n",
       "      <td>3</td>\n",
       "      <td>1</td>\n",
       "      <td>...</td>\n",
       "      <td>1</td>\n",
       "      <td>21</td>\n",
       "      <td>3</td>\n",
       "      <td>1</td>\n",
       "      <td>1</td>\n",
       "      <td>2</td>\n",
       "      <td>1</td>\n",
       "      <td>1</td>\n",
       "      <td>2</td>\n",
       "      <td>0</td>\n",
       "    </tr>\n",
       "    <tr>\n",
       "      <th>996</th>\n",
       "      <td>1</td>\n",
       "      <td>24</td>\n",
       "      <td>2</td>\n",
       "      <td>0</td>\n",
       "      <td>2303</td>\n",
       "      <td>1</td>\n",
       "      <td>5</td>\n",
       "      <td>4</td>\n",
       "      <td>3</td>\n",
       "      <td>2</td>\n",
       "      <td>...</td>\n",
       "      <td>1</td>\n",
       "      <td>45</td>\n",
       "      <td>3</td>\n",
       "      <td>2</td>\n",
       "      <td>1</td>\n",
       "      <td>3</td>\n",
       "      <td>2</td>\n",
       "      <td>1</td>\n",
       "      <td>2</td>\n",
       "      <td>0</td>\n",
       "    </tr>\n",
       "    <tr>\n",
       "      <th>997</th>\n",
       "      <td>4</td>\n",
       "      <td>21</td>\n",
       "      <td>4</td>\n",
       "      <td>0</td>\n",
       "      <td>12680</td>\n",
       "      <td>5</td>\n",
       "      <td>5</td>\n",
       "      <td>4</td>\n",
       "      <td>3</td>\n",
       "      <td>1</td>\n",
       "      <td>...</td>\n",
       "      <td>4</td>\n",
       "      <td>30</td>\n",
       "      <td>3</td>\n",
       "      <td>3</td>\n",
       "      <td>1</td>\n",
       "      <td>4</td>\n",
       "      <td>2</td>\n",
       "      <td>2</td>\n",
       "      <td>2</td>\n",
       "      <td>0</td>\n",
       "    </tr>\n",
       "    <tr>\n",
       "      <th>998</th>\n",
       "      <td>2</td>\n",
       "      <td>12</td>\n",
       "      <td>2</td>\n",
       "      <td>3</td>\n",
       "      <td>6468</td>\n",
       "      <td>5</td>\n",
       "      <td>1</td>\n",
       "      <td>2</td>\n",
       "      <td>3</td>\n",
       "      <td>1</td>\n",
       "      <td>...</td>\n",
       "      <td>4</td>\n",
       "      <td>52</td>\n",
       "      <td>3</td>\n",
       "      <td>2</td>\n",
       "      <td>1</td>\n",
       "      <td>4</td>\n",
       "      <td>2</td>\n",
       "      <td>2</td>\n",
       "      <td>2</td>\n",
       "      <td>0</td>\n",
       "    </tr>\n",
       "    <tr>\n",
       "      <th>999</th>\n",
       "      <td>1</td>\n",
       "      <td>30</td>\n",
       "      <td>2</td>\n",
       "      <td>2</td>\n",
       "      <td>6350</td>\n",
       "      <td>5</td>\n",
       "      <td>5</td>\n",
       "      <td>4</td>\n",
       "      <td>3</td>\n",
       "      <td>1</td>\n",
       "      <td>...</td>\n",
       "      <td>2</td>\n",
       "      <td>31</td>\n",
       "      <td>3</td>\n",
       "      <td>2</td>\n",
       "      <td>1</td>\n",
       "      <td>3</td>\n",
       "      <td>2</td>\n",
       "      <td>1</td>\n",
       "      <td>2</td>\n",
       "      <td>0</td>\n",
       "    </tr>\n",
       "  </tbody>\n",
       "</table>\n",
       "<p>5 rows × 21 columns</p>\n",
       "</div>"
      ],
      "text/plain": [
       "     checking account  duration in month  credit history  credit purpose  \\\n",
       "995                 1                 24               2               3   \n",
       "996                 1                 24               2               0   \n",
       "997                 4                 21               4               0   \n",
       "998                 2                 12               2               3   \n",
       "999                 1                 30               2               2   \n",
       "\n",
       "     credit amount  savings account  employment since..  installment rate  \\\n",
       "995           1987                1                   3                 2   \n",
       "996           2303                1                   5                 4   \n",
       "997          12680                5                   5                 4   \n",
       "998           6468                5                   1                 2   \n",
       "999           6350                5                   5                 4   \n",
       "\n",
       "     status : sex  other debtors / guarantors  ...  property  \\\n",
       "995             3                           1  ...         1   \n",
       "996             3                           2  ...         1   \n",
       "997             3                           1  ...         4   \n",
       "998             3                           1  ...         4   \n",
       "999             3                           1  ...         2   \n",
       "\n",
       "     relationship : age  other installment plans  housing  existing credits  \\\n",
       "995                  21                        3        1                 1   \n",
       "996                  45                        3        2                 1   \n",
       "997                  30                        3        3                 1   \n",
       "998                  52                        3        2                 1   \n",
       "999                  31                        3        2                 1   \n",
       "\n",
       "     job  people to provide maintenance for  telephone  foreign worker  \\\n",
       "995    2                                  1          1               2   \n",
       "996    3                                  2          1               2   \n",
       "997    4                                  2          2               2   \n",
       "998    4                                  2          2               2   \n",
       "999    3                                  2          1               2   \n",
       "\n",
       "     goodness  \n",
       "995         0  \n",
       "996         0  \n",
       "997         0  \n",
       "998         0  \n",
       "999         0  \n",
       "\n",
       "[5 rows x 21 columns]"
      ]
     },
     "execution_count": 13,
     "metadata": {},
     "output_type": "execute_result"
    }
   ],
   "source": [
    "sgcd_df.tail()"
   ]
  },
  {
   "cell_type": "markdown",
   "metadata": {},
   "source": [
    "#### Describe & info\n",
    "\n",
    "You can also ask Pandas to provide some statistical descriptions (which are only applied to the columns containing numeric data). This does not make sense for some of the attributes, as they are an encoding."
   ]
  },
  {
   "cell_type": "code",
   "execution_count": 14,
   "metadata": {},
   "outputs": [
    {
     "data": {
      "text/html": [
       "<div>\n",
       "<style scoped>\n",
       "    .dataframe tbody tr th:only-of-type {\n",
       "        vertical-align: middle;\n",
       "    }\n",
       "\n",
       "    .dataframe tbody tr th {\n",
       "        vertical-align: top;\n",
       "    }\n",
       "\n",
       "    .dataframe thead th {\n",
       "        text-align: right;\n",
       "    }\n",
       "</style>\n",
       "<table border=\"1\" class=\"dataframe\">\n",
       "  <thead>\n",
       "    <tr style=\"text-align: right;\">\n",
       "      <th></th>\n",
       "      <th>checking account</th>\n",
       "      <th>duration in month</th>\n",
       "      <th>credit history</th>\n",
       "      <th>credit purpose</th>\n",
       "      <th>credit amount</th>\n",
       "      <th>savings account</th>\n",
       "      <th>employment since..</th>\n",
       "      <th>installment rate</th>\n",
       "      <th>status : sex</th>\n",
       "      <th>other debtors / guarantors</th>\n",
       "      <th>...</th>\n",
       "      <th>property</th>\n",
       "      <th>relationship : age</th>\n",
       "      <th>other installment plans</th>\n",
       "      <th>housing</th>\n",
       "      <th>existing credits</th>\n",
       "      <th>job</th>\n",
       "      <th>people to provide maintenance for</th>\n",
       "      <th>telephone</th>\n",
       "      <th>foreign worker</th>\n",
       "      <th>goodness</th>\n",
       "    </tr>\n",
       "  </thead>\n",
       "  <tbody>\n",
       "    <tr>\n",
       "      <th>count</th>\n",
       "      <td>1000.000000</td>\n",
       "      <td>1000.000000</td>\n",
       "      <td>1000.00000</td>\n",
       "      <td>1000.000000</td>\n",
       "      <td>1000.00000</td>\n",
       "      <td>1000.000000</td>\n",
       "      <td>1000.000000</td>\n",
       "      <td>1000.000000</td>\n",
       "      <td>1000.00000</td>\n",
       "      <td>1000.000000</td>\n",
       "      <td>...</td>\n",
       "      <td>1000.000000</td>\n",
       "      <td>1000.00000</td>\n",
       "      <td>1000.000000</td>\n",
       "      <td>1000.000000</td>\n",
       "      <td>1000.000000</td>\n",
       "      <td>1000.000000</td>\n",
       "      <td>1000.000000</td>\n",
       "      <td>1000.000000</td>\n",
       "      <td>1000.000000</td>\n",
       "      <td>1000.000000</td>\n",
       "    </tr>\n",
       "    <tr>\n",
       "      <th>mean</th>\n",
       "      <td>2.577000</td>\n",
       "      <td>20.903000</td>\n",
       "      <td>2.54500</td>\n",
       "      <td>2.828000</td>\n",
       "      <td>3271.24800</td>\n",
       "      <td>2.105000</td>\n",
       "      <td>3.384000</td>\n",
       "      <td>2.973000</td>\n",
       "      <td>2.68200</td>\n",
       "      <td>1.145000</td>\n",
       "      <td>...</td>\n",
       "      <td>2.358000</td>\n",
       "      <td>35.54200</td>\n",
       "      <td>2.675000</td>\n",
       "      <td>1.928000</td>\n",
       "      <td>1.407000</td>\n",
       "      <td>2.904000</td>\n",
       "      <td>1.845000</td>\n",
       "      <td>1.404000</td>\n",
       "      <td>1.963000</td>\n",
       "      <td>0.700000</td>\n",
       "    </tr>\n",
       "    <tr>\n",
       "      <th>std</th>\n",
       "      <td>1.257638</td>\n",
       "      <td>12.058814</td>\n",
       "      <td>1.08312</td>\n",
       "      <td>2.744439</td>\n",
       "      <td>2822.75176</td>\n",
       "      <td>1.580023</td>\n",
       "      <td>1.208306</td>\n",
       "      <td>1.118715</td>\n",
       "      <td>0.70808</td>\n",
       "      <td>0.477706</td>\n",
       "      <td>...</td>\n",
       "      <td>1.050209</td>\n",
       "      <td>11.35267</td>\n",
       "      <td>0.705601</td>\n",
       "      <td>0.530186</td>\n",
       "      <td>0.577654</td>\n",
       "      <td>0.653614</td>\n",
       "      <td>0.362086</td>\n",
       "      <td>0.490943</td>\n",
       "      <td>0.188856</td>\n",
       "      <td>0.458487</td>\n",
       "    </tr>\n",
       "    <tr>\n",
       "      <th>min</th>\n",
       "      <td>1.000000</td>\n",
       "      <td>4.000000</td>\n",
       "      <td>0.00000</td>\n",
       "      <td>0.000000</td>\n",
       "      <td>250.00000</td>\n",
       "      <td>1.000000</td>\n",
       "      <td>1.000000</td>\n",
       "      <td>1.000000</td>\n",
       "      <td>1.00000</td>\n",
       "      <td>1.000000</td>\n",
       "      <td>...</td>\n",
       "      <td>1.000000</td>\n",
       "      <td>19.00000</td>\n",
       "      <td>1.000000</td>\n",
       "      <td>1.000000</td>\n",
       "      <td>1.000000</td>\n",
       "      <td>1.000000</td>\n",
       "      <td>1.000000</td>\n",
       "      <td>1.000000</td>\n",
       "      <td>1.000000</td>\n",
       "      <td>0.000000</td>\n",
       "    </tr>\n",
       "    <tr>\n",
       "      <th>25%</th>\n",
       "      <td>1.000000</td>\n",
       "      <td>12.000000</td>\n",
       "      <td>2.00000</td>\n",
       "      <td>1.000000</td>\n",
       "      <td>1365.50000</td>\n",
       "      <td>1.000000</td>\n",
       "      <td>3.000000</td>\n",
       "      <td>2.000000</td>\n",
       "      <td>2.00000</td>\n",
       "      <td>1.000000</td>\n",
       "      <td>...</td>\n",
       "      <td>1.000000</td>\n",
       "      <td>27.00000</td>\n",
       "      <td>3.000000</td>\n",
       "      <td>2.000000</td>\n",
       "      <td>1.000000</td>\n",
       "      <td>3.000000</td>\n",
       "      <td>2.000000</td>\n",
       "      <td>1.000000</td>\n",
       "      <td>2.000000</td>\n",
       "      <td>0.000000</td>\n",
       "    </tr>\n",
       "    <tr>\n",
       "      <th>50%</th>\n",
       "      <td>2.000000</td>\n",
       "      <td>18.000000</td>\n",
       "      <td>2.00000</td>\n",
       "      <td>2.000000</td>\n",
       "      <td>2319.50000</td>\n",
       "      <td>1.000000</td>\n",
       "      <td>3.000000</td>\n",
       "      <td>3.000000</td>\n",
       "      <td>3.00000</td>\n",
       "      <td>1.000000</td>\n",
       "      <td>...</td>\n",
       "      <td>2.000000</td>\n",
       "      <td>33.00000</td>\n",
       "      <td>3.000000</td>\n",
       "      <td>2.000000</td>\n",
       "      <td>1.000000</td>\n",
       "      <td>3.000000</td>\n",
       "      <td>2.000000</td>\n",
       "      <td>1.000000</td>\n",
       "      <td>2.000000</td>\n",
       "      <td>1.000000</td>\n",
       "    </tr>\n",
       "    <tr>\n",
       "      <th>75%</th>\n",
       "      <td>4.000000</td>\n",
       "      <td>24.000000</td>\n",
       "      <td>4.00000</td>\n",
       "      <td>3.000000</td>\n",
       "      <td>3972.25000</td>\n",
       "      <td>3.000000</td>\n",
       "      <td>5.000000</td>\n",
       "      <td>4.000000</td>\n",
       "      <td>3.00000</td>\n",
       "      <td>1.000000</td>\n",
       "      <td>...</td>\n",
       "      <td>3.000000</td>\n",
       "      <td>42.00000</td>\n",
       "      <td>3.000000</td>\n",
       "      <td>2.000000</td>\n",
       "      <td>2.000000</td>\n",
       "      <td>3.000000</td>\n",
       "      <td>2.000000</td>\n",
       "      <td>2.000000</td>\n",
       "      <td>2.000000</td>\n",
       "      <td>1.000000</td>\n",
       "    </tr>\n",
       "    <tr>\n",
       "      <th>max</th>\n",
       "      <td>4.000000</td>\n",
       "      <td>72.000000</td>\n",
       "      <td>4.00000</td>\n",
       "      <td>10.000000</td>\n",
       "      <td>18424.00000</td>\n",
       "      <td>5.000000</td>\n",
       "      <td>5.000000</td>\n",
       "      <td>4.000000</td>\n",
       "      <td>4.00000</td>\n",
       "      <td>3.000000</td>\n",
       "      <td>...</td>\n",
       "      <td>4.000000</td>\n",
       "      <td>75.00000</td>\n",
       "      <td>3.000000</td>\n",
       "      <td>3.000000</td>\n",
       "      <td>4.000000</td>\n",
       "      <td>4.000000</td>\n",
       "      <td>2.000000</td>\n",
       "      <td>2.000000</td>\n",
       "      <td>2.000000</td>\n",
       "      <td>1.000000</td>\n",
       "    </tr>\n",
       "  </tbody>\n",
       "</table>\n",
       "<p>8 rows × 21 columns</p>\n",
       "</div>"
      ],
      "text/plain": [
       "       checking account  duration in month  credit history  credit purpose  \\\n",
       "count       1000.000000        1000.000000      1000.00000     1000.000000   \n",
       "mean           2.577000          20.903000         2.54500        2.828000   \n",
       "std            1.257638          12.058814         1.08312        2.744439   \n",
       "min            1.000000           4.000000         0.00000        0.000000   \n",
       "25%            1.000000          12.000000         2.00000        1.000000   \n",
       "50%            2.000000          18.000000         2.00000        2.000000   \n",
       "75%            4.000000          24.000000         4.00000        3.000000   \n",
       "max            4.000000          72.000000         4.00000       10.000000   \n",
       "\n",
       "       credit amount  savings account  employment since..  installment rate  \\\n",
       "count     1000.00000      1000.000000         1000.000000       1000.000000   \n",
       "mean      3271.24800         2.105000            3.384000          2.973000   \n",
       "std       2822.75176         1.580023            1.208306          1.118715   \n",
       "min        250.00000         1.000000            1.000000          1.000000   \n",
       "25%       1365.50000         1.000000            3.000000          2.000000   \n",
       "50%       2319.50000         1.000000            3.000000          3.000000   \n",
       "75%       3972.25000         3.000000            5.000000          4.000000   \n",
       "max      18424.00000         5.000000            5.000000          4.000000   \n",
       "\n",
       "       status : sex  other debtors / guarantors  ...     property  \\\n",
       "count    1000.00000                 1000.000000  ...  1000.000000   \n",
       "mean        2.68200                    1.145000  ...     2.358000   \n",
       "std         0.70808                    0.477706  ...     1.050209   \n",
       "min         1.00000                    1.000000  ...     1.000000   \n",
       "25%         2.00000                    1.000000  ...     1.000000   \n",
       "50%         3.00000                    1.000000  ...     2.000000   \n",
       "75%         3.00000                    1.000000  ...     3.000000   \n",
       "max         4.00000                    3.000000  ...     4.000000   \n",
       "\n",
       "       relationship : age  other installment plans      housing  \\\n",
       "count          1000.00000              1000.000000  1000.000000   \n",
       "mean             35.54200                 2.675000     1.928000   \n",
       "std              11.35267                 0.705601     0.530186   \n",
       "min              19.00000                 1.000000     1.000000   \n",
       "25%              27.00000                 3.000000     2.000000   \n",
       "50%              33.00000                 3.000000     2.000000   \n",
       "75%              42.00000                 3.000000     2.000000   \n",
       "max              75.00000                 3.000000     3.000000   \n",
       "\n",
       "       existing credits          job  people to provide maintenance for  \\\n",
       "count       1000.000000  1000.000000                        1000.000000   \n",
       "mean           1.407000     2.904000                           1.845000   \n",
       "std            0.577654     0.653614                           0.362086   \n",
       "min            1.000000     1.000000                           1.000000   \n",
       "25%            1.000000     3.000000                           2.000000   \n",
       "50%            1.000000     3.000000                           2.000000   \n",
       "75%            2.000000     3.000000                           2.000000   \n",
       "max            4.000000     4.000000                           2.000000   \n",
       "\n",
       "         telephone  foreign worker     goodness  \n",
       "count  1000.000000     1000.000000  1000.000000  \n",
       "mean      1.404000        1.963000     0.700000  \n",
       "std       0.490943        0.188856     0.458487  \n",
       "min       1.000000        1.000000     0.000000  \n",
       "25%       1.000000        2.000000     0.000000  \n",
       "50%       1.000000        2.000000     1.000000  \n",
       "75%       2.000000        2.000000     1.000000  \n",
       "max       2.000000        2.000000     1.000000  \n",
       "\n",
       "[8 rows x 21 columns]"
      ]
     },
     "execution_count": 14,
     "metadata": {},
     "output_type": "execute_result"
    }
   ],
   "source": [
    "sgcd_df.describe()"
   ]
  },
  {
   "cell_type": "markdown",
   "metadata": {},
   "source": [
    "This may not seem that useful to you yet. You may want to know what kind of datatypes the different columns contain and how many values are present. For this the `info()` method will be of help:"
   ]
  },
  {
   "cell_type": "code",
   "execution_count": 15,
   "metadata": {},
   "outputs": [
    {
     "name": "stdout",
     "output_type": "stream",
     "text": [
      "<class 'pandas.core.frame.DataFrame'>\n",
      "RangeIndex: 1000 entries, 0 to 999\n",
      "Data columns (total 21 columns):\n",
      " #   Column                             Non-Null Count  Dtype\n",
      "---  ------                             --------------  -----\n",
      " 0   checking account                   1000 non-null   int64\n",
      " 1   duration in month                  1000 non-null   int64\n",
      " 2   credit history                     1000 non-null   int64\n",
      " 3   credit purpose                     1000 non-null   int64\n",
      " 4   credit amount                      1000 non-null   int64\n",
      " 5   savings account                    1000 non-null   int64\n",
      " 6   employment since..                 1000 non-null   int64\n",
      " 7   installment rate                   1000 non-null   int64\n",
      " 8   status : sex                       1000 non-null   int64\n",
      " 9   other debtors / guarantors         1000 non-null   int64\n",
      " 10  residence since                    1000 non-null   int64\n",
      " 11  property                           1000 non-null   int64\n",
      " 12  relationship : age                 1000 non-null   int64\n",
      " 13  other installment plans            1000 non-null   int64\n",
      " 14  housing                            1000 non-null   int64\n",
      " 15  existing credits                   1000 non-null   int64\n",
      " 16  job                                1000 non-null   int64\n",
      " 17  people to provide maintenance for  1000 non-null   int64\n",
      " 18  telephone                          1000 non-null   int64\n",
      " 19  foreign worker                     1000 non-null   int64\n",
      " 20  goodness                           1000 non-null   int64\n",
      "dtypes: int64(21)\n",
      "memory usage: 164.2 KB\n"
     ]
    }
   ],
   "source": [
    "sgcd_df.info()"
   ]
  },
  {
   "cell_type": "markdown",
   "metadata": {},
   "source": [
    "#### Select & query\n",
    "We can select an individual column using single `[`square brackets`]`:"
   ]
  },
  {
   "cell_type": "code",
   "execution_count": 16,
   "metadata": {},
   "outputs": [
    {
     "data": {
      "text/plain": [
       "0      4\n",
       "1      4\n",
       "2      2\n",
       "3      4\n",
       "4      4\n",
       "      ..\n",
       "995    2\n",
       "996    2\n",
       "997    4\n",
       "998    2\n",
       "999    2\n",
       "Name: credit history, Length: 1000, dtype: int64"
      ]
     },
     "execution_count": 16,
     "metadata": {},
     "output_type": "execute_result"
    }
   ],
   "source": [
    "sgcd_df[\"credit history\"]"
   ]
  },
  {
   "cell_type": "markdown",
   "metadata": {},
   "source": [
    "… and we can select multiple columns using nested `[[`square brackets`]]`:"
   ]
  },
  {
   "cell_type": "code",
   "execution_count": 17,
   "metadata": {},
   "outputs": [
    {
     "data": {
      "text/html": [
       "<div>\n",
       "<style scoped>\n",
       "    .dataframe tbody tr th:only-of-type {\n",
       "        vertical-align: middle;\n",
       "    }\n",
       "\n",
       "    .dataframe tbody tr th {\n",
       "        vertical-align: top;\n",
       "    }\n",
       "\n",
       "    .dataframe thead th {\n",
       "        text-align: right;\n",
       "    }\n",
       "</style>\n",
       "<table border=\"1\" class=\"dataframe\">\n",
       "  <thead>\n",
       "    <tr style=\"text-align: right;\">\n",
       "      <th></th>\n",
       "      <th>credit history</th>\n",
       "      <th>credit purpose</th>\n",
       "    </tr>\n",
       "  </thead>\n",
       "  <tbody>\n",
       "    <tr>\n",
       "      <th>0</th>\n",
       "      <td>4</td>\n",
       "      <td>2</td>\n",
       "    </tr>\n",
       "    <tr>\n",
       "      <th>1</th>\n",
       "      <td>4</td>\n",
       "      <td>0</td>\n",
       "    </tr>\n",
       "    <tr>\n",
       "      <th>2</th>\n",
       "      <td>2</td>\n",
       "      <td>9</td>\n",
       "    </tr>\n",
       "    <tr>\n",
       "      <th>3</th>\n",
       "      <td>4</td>\n",
       "      <td>0</td>\n",
       "    </tr>\n",
       "    <tr>\n",
       "      <th>4</th>\n",
       "      <td>4</td>\n",
       "      <td>0</td>\n",
       "    </tr>\n",
       "    <tr>\n",
       "      <th>...</th>\n",
       "      <td>...</td>\n",
       "      <td>...</td>\n",
       "    </tr>\n",
       "    <tr>\n",
       "      <th>995</th>\n",
       "      <td>2</td>\n",
       "      <td>3</td>\n",
       "    </tr>\n",
       "    <tr>\n",
       "      <th>996</th>\n",
       "      <td>2</td>\n",
       "      <td>0</td>\n",
       "    </tr>\n",
       "    <tr>\n",
       "      <th>997</th>\n",
       "      <td>4</td>\n",
       "      <td>0</td>\n",
       "    </tr>\n",
       "    <tr>\n",
       "      <th>998</th>\n",
       "      <td>2</td>\n",
       "      <td>3</td>\n",
       "    </tr>\n",
       "    <tr>\n",
       "      <th>999</th>\n",
       "      <td>2</td>\n",
       "      <td>2</td>\n",
       "    </tr>\n",
       "  </tbody>\n",
       "</table>\n",
       "<p>1000 rows × 2 columns</p>\n",
       "</div>"
      ],
      "text/plain": [
       "     credit history  credit purpose\n",
       "0                 4               2\n",
       "1                 4               0\n",
       "2                 2               9\n",
       "3                 4               0\n",
       "4                 4               0\n",
       "..              ...             ...\n",
       "995               2               3\n",
       "996               2               0\n",
       "997               4               0\n",
       "998               2               3\n",
       "999               2               2\n",
       "\n",
       "[1000 rows x 2 columns]"
      ]
     },
     "execution_count": 17,
     "metadata": {},
     "output_type": "execute_result"
    }
   ],
   "source": [
    "sgcd_df[[\"credit history\", \"credit purpose\"]]"
   ]
  },
  {
   "cell_type": "markdown",
   "metadata": {},
   "source": [
    "There are four related methods for accessing rows, columns, and specific values, either by integer positons (iloc and iat) or by the labels (that is what is displayed in bold above).\n",
    "\n",
    "- `loc`: access rows and columns by label\n",
    "- `iloc`: access rows and columns by integer position \n",
    "- `at`: access a single value for a row/column label pair\n",
    "- `iat`: access a single value for a row/column pair by integer position \n",
    "\n",
    "For example, this way we can get the first entry in the `sgcd_df` DataFrame: "
   ]
  },
  {
   "cell_type": "code",
   "execution_count": 18,
   "metadata": {},
   "outputs": [
    {
     "data": {
      "text/plain": [
       "checking account                        1\n",
       "duration in month                      18\n",
       "credit history                          4\n",
       "credit purpose                          2\n",
       "credit amount                        1049\n",
       "savings account                         1\n",
       "employment since..                      2\n",
       "installment rate                        4\n",
       "status : sex                            2\n",
       "other debtors / guarantors              1\n",
       "residence since                         4\n",
       "property                                2\n",
       "relationship : age                     21\n",
       "other installment plans                 3\n",
       "housing                                 1\n",
       "existing credits                        1\n",
       "job                                     3\n",
       "people to provide maintenance for       2\n",
       "telephone                               1\n",
       "foreign worker                          2\n",
       "goodness                                1\n",
       "Name: 0, dtype: int64"
      ]
     },
     "execution_count": 18,
     "metadata": {},
     "output_type": "execute_result"
    }
   ],
   "source": [
    "#sgcd_df.loc[0]  # because the index here uses integers, iloc and loc do the same\n",
    "sgcd_df.iloc[0]"
   ]
  },
  {
   "cell_type": "markdown",
   "metadata": {},
   "source": [
    "Finally, you can also retrieve rows that match a query. With this we can retrieve the entries with a certain credit amount:"
   ]
  },
  {
   "cell_type": "code",
   "execution_count": 19,
   "metadata": {},
   "outputs": [
    {
     "data": {
      "text/html": [
       "<div>\n",
       "<style scoped>\n",
       "    .dataframe tbody tr th:only-of-type {\n",
       "        vertical-align: middle;\n",
       "    }\n",
       "\n",
       "    .dataframe tbody tr th {\n",
       "        vertical-align: top;\n",
       "    }\n",
       "\n",
       "    .dataframe thead th {\n",
       "        text-align: right;\n",
       "    }\n",
       "</style>\n",
       "<table border=\"1\" class=\"dataframe\">\n",
       "  <thead>\n",
       "    <tr style=\"text-align: right;\">\n",
       "      <th></th>\n",
       "      <th>checking account</th>\n",
       "      <th>duration in month</th>\n",
       "      <th>credit history</th>\n",
       "      <th>credit purpose</th>\n",
       "      <th>credit amount</th>\n",
       "      <th>savings account</th>\n",
       "      <th>employment since..</th>\n",
       "      <th>installment rate</th>\n",
       "      <th>status : sex</th>\n",
       "      <th>other debtors / guarantors</th>\n",
       "      <th>...</th>\n",
       "      <th>property</th>\n",
       "      <th>relationship : age</th>\n",
       "      <th>other installment plans</th>\n",
       "      <th>housing</th>\n",
       "      <th>existing credits</th>\n",
       "      <th>job</th>\n",
       "      <th>people to provide maintenance for</th>\n",
       "      <th>telephone</th>\n",
       "      <th>foreign worker</th>\n",
       "      <th>goodness</th>\n",
       "    </tr>\n",
       "  </thead>\n",
       "  <tbody>\n",
       "    <tr>\n",
       "      <th>63</th>\n",
       "      <td>4</td>\n",
       "      <td>36</td>\n",
       "      <td>3</td>\n",
       "      <td>0</td>\n",
       "      <td>10875</td>\n",
       "      <td>1</td>\n",
       "      <td>5</td>\n",
       "      <td>2</td>\n",
       "      <td>3</td>\n",
       "      <td>1</td>\n",
       "      <td>...</td>\n",
       "      <td>3</td>\n",
       "      <td>45</td>\n",
       "      <td>3</td>\n",
       "      <td>2</td>\n",
       "      <td>2</td>\n",
       "      <td>3</td>\n",
       "      <td>1</td>\n",
       "      <td>2</td>\n",
       "      <td>2</td>\n",
       "      <td>1</td>\n",
       "    </tr>\n",
       "    <tr>\n",
       "      <th>179</th>\n",
       "      <td>4</td>\n",
       "      <td>48</td>\n",
       "      <td>3</td>\n",
       "      <td>3</td>\n",
       "      <td>12749</td>\n",
       "      <td>3</td>\n",
       "      <td>4</td>\n",
       "      <td>4</td>\n",
       "      <td>3</td>\n",
       "      <td>1</td>\n",
       "      <td>...</td>\n",
       "      <td>3</td>\n",
       "      <td>37</td>\n",
       "      <td>3</td>\n",
       "      <td>2</td>\n",
       "      <td>1</td>\n",
       "      <td>4</td>\n",
       "      <td>2</td>\n",
       "      <td>2</td>\n",
       "      <td>2</td>\n",
       "      <td>1</td>\n",
       "    </tr>\n",
       "    <tr>\n",
       "      <th>208</th>\n",
       "      <td>2</td>\n",
       "      <td>48</td>\n",
       "      <td>1</td>\n",
       "      <td>0</td>\n",
       "      <td>12169</td>\n",
       "      <td>5</td>\n",
       "      <td>1</td>\n",
       "      <td>4</td>\n",
       "      <td>3</td>\n",
       "      <td>2</td>\n",
       "      <td>...</td>\n",
       "      <td>4</td>\n",
       "      <td>36</td>\n",
       "      <td>3</td>\n",
       "      <td>3</td>\n",
       "      <td>1</td>\n",
       "      <td>4</td>\n",
       "      <td>2</td>\n",
       "      <td>2</td>\n",
       "      <td>2</td>\n",
       "      <td>1</td>\n",
       "    </tr>\n",
       "    <tr>\n",
       "      <th>218</th>\n",
       "      <td>1</td>\n",
       "      <td>47</td>\n",
       "      <td>2</td>\n",
       "      <td>0</td>\n",
       "      <td>10722</td>\n",
       "      <td>1</td>\n",
       "      <td>2</td>\n",
       "      <td>1</td>\n",
       "      <td>2</td>\n",
       "      <td>1</td>\n",
       "      <td>...</td>\n",
       "      <td>1</td>\n",
       "      <td>35</td>\n",
       "      <td>3</td>\n",
       "      <td>2</td>\n",
       "      <td>1</td>\n",
       "      <td>2</td>\n",
       "      <td>2</td>\n",
       "      <td>2</td>\n",
       "      <td>2</td>\n",
       "      <td>1</td>\n",
       "    </tr>\n",
       "    <tr>\n",
       "      <th>241</th>\n",
       "      <td>4</td>\n",
       "      <td>60</td>\n",
       "      <td>2</td>\n",
       "      <td>0</td>\n",
       "      <td>10366</td>\n",
       "      <td>1</td>\n",
       "      <td>5</td>\n",
       "      <td>2</td>\n",
       "      <td>3</td>\n",
       "      <td>1</td>\n",
       "      <td>...</td>\n",
       "      <td>2</td>\n",
       "      <td>42</td>\n",
       "      <td>3</td>\n",
       "      <td>2</td>\n",
       "      <td>1</td>\n",
       "      <td>4</td>\n",
       "      <td>2</td>\n",
       "      <td>2</td>\n",
       "      <td>2</td>\n",
       "      <td>1</td>\n",
       "    </tr>\n",
       "    <tr>\n",
       "      <th>355</th>\n",
       "      <td>4</td>\n",
       "      <td>36</td>\n",
       "      <td>4</td>\n",
       "      <td>1</td>\n",
       "      <td>10477</td>\n",
       "      <td>5</td>\n",
       "      <td>5</td>\n",
       "      <td>2</td>\n",
       "      <td>3</td>\n",
       "      <td>1</td>\n",
       "      <td>...</td>\n",
       "      <td>4</td>\n",
       "      <td>42</td>\n",
       "      <td>3</td>\n",
       "      <td>3</td>\n",
       "      <td>2</td>\n",
       "      <td>3</td>\n",
       "      <td>2</td>\n",
       "      <td>1</td>\n",
       "      <td>2</td>\n",
       "      <td>1</td>\n",
       "    </tr>\n",
       "    <tr>\n",
       "      <th>382</th>\n",
       "      <td>4</td>\n",
       "      <td>60</td>\n",
       "      <td>4</td>\n",
       "      <td>0</td>\n",
       "      <td>13756</td>\n",
       "      <td>5</td>\n",
       "      <td>5</td>\n",
       "      <td>2</td>\n",
       "      <td>3</td>\n",
       "      <td>1</td>\n",
       "      <td>...</td>\n",
       "      <td>4</td>\n",
       "      <td>63</td>\n",
       "      <td>1</td>\n",
       "      <td>3</td>\n",
       "      <td>1</td>\n",
       "      <td>4</td>\n",
       "      <td>2</td>\n",
       "      <td>2</td>\n",
       "      <td>2</td>\n",
       "      <td>1</td>\n",
       "    </tr>\n",
       "    <tr>\n",
       "      <th>426</th>\n",
       "      <td>2</td>\n",
       "      <td>39</td>\n",
       "      <td>3</td>\n",
       "      <td>6</td>\n",
       "      <td>11760</td>\n",
       "      <td>2</td>\n",
       "      <td>4</td>\n",
       "      <td>2</td>\n",
       "      <td>3</td>\n",
       "      <td>1</td>\n",
       "      <td>...</td>\n",
       "      <td>4</td>\n",
       "      <td>32</td>\n",
       "      <td>3</td>\n",
       "      <td>1</td>\n",
       "      <td>1</td>\n",
       "      <td>3</td>\n",
       "      <td>2</td>\n",
       "      <td>2</td>\n",
       "      <td>2</td>\n",
       "      <td>1</td>\n",
       "    </tr>\n",
       "    <tr>\n",
       "      <th>442</th>\n",
       "      <td>1</td>\n",
       "      <td>39</td>\n",
       "      <td>4</td>\n",
       "      <td>2</td>\n",
       "      <td>14179</td>\n",
       "      <td>5</td>\n",
       "      <td>4</td>\n",
       "      <td>4</td>\n",
       "      <td>3</td>\n",
       "      <td>1</td>\n",
       "      <td>...</td>\n",
       "      <td>2</td>\n",
       "      <td>30</td>\n",
       "      <td>3</td>\n",
       "      <td>2</td>\n",
       "      <td>2</td>\n",
       "      <td>4</td>\n",
       "      <td>2</td>\n",
       "      <td>2</td>\n",
       "      <td>2</td>\n",
       "      <td>1</td>\n",
       "    </tr>\n",
       "    <tr>\n",
       "      <th>521</th>\n",
       "      <td>4</td>\n",
       "      <td>36</td>\n",
       "      <td>2</td>\n",
       "      <td>2</td>\n",
       "      <td>10974</td>\n",
       "      <td>1</td>\n",
       "      <td>1</td>\n",
       "      <td>4</td>\n",
       "      <td>2</td>\n",
       "      <td>1</td>\n",
       "      <td>...</td>\n",
       "      <td>3</td>\n",
       "      <td>26</td>\n",
       "      <td>3</td>\n",
       "      <td>2</td>\n",
       "      <td>2</td>\n",
       "      <td>4</td>\n",
       "      <td>2</td>\n",
       "      <td>2</td>\n",
       "      <td>2</td>\n",
       "      <td>0</td>\n",
       "    </tr>\n",
       "    <tr>\n",
       "      <th>569</th>\n",
       "      <td>4</td>\n",
       "      <td>48</td>\n",
       "      <td>2</td>\n",
       "      <td>3</td>\n",
       "      <td>10222</td>\n",
       "      <td>5</td>\n",
       "      <td>4</td>\n",
       "      <td>4</td>\n",
       "      <td>3</td>\n",
       "      <td>1</td>\n",
       "      <td>...</td>\n",
       "      <td>3</td>\n",
       "      <td>37</td>\n",
       "      <td>2</td>\n",
       "      <td>2</td>\n",
       "      <td>1</td>\n",
       "      <td>3</td>\n",
       "      <td>2</td>\n",
       "      <td>2</td>\n",
       "      <td>2</td>\n",
       "      <td>1</td>\n",
       "    </tr>\n",
       "    <tr>\n",
       "      <th>575</th>\n",
       "      <td>2</td>\n",
       "      <td>48</td>\n",
       "      <td>0</td>\n",
       "      <td>9</td>\n",
       "      <td>12204</td>\n",
       "      <td>5</td>\n",
       "      <td>3</td>\n",
       "      <td>2</td>\n",
       "      <td>3</td>\n",
       "      <td>1</td>\n",
       "      <td>...</td>\n",
       "      <td>3</td>\n",
       "      <td>48</td>\n",
       "      <td>1</td>\n",
       "      <td>2</td>\n",
       "      <td>1</td>\n",
       "      <td>4</td>\n",
       "      <td>2</td>\n",
       "      <td>2</td>\n",
       "      <td>2</td>\n",
       "      <td>1</td>\n",
       "    </tr>\n",
       "    <tr>\n",
       "      <th>616</th>\n",
       "      <td>1</td>\n",
       "      <td>30</td>\n",
       "      <td>4</td>\n",
       "      <td>1</td>\n",
       "      <td>10623</td>\n",
       "      <td>1</td>\n",
       "      <td>5</td>\n",
       "      <td>3</td>\n",
       "      <td>3</td>\n",
       "      <td>1</td>\n",
       "      <td>...</td>\n",
       "      <td>4</td>\n",
       "      <td>38</td>\n",
       "      <td>3</td>\n",
       "      <td>3</td>\n",
       "      <td>3</td>\n",
       "      <td>4</td>\n",
       "      <td>1</td>\n",
       "      <td>2</td>\n",
       "      <td>2</td>\n",
       "      <td>1</td>\n",
       "    </tr>\n",
       "    <tr>\n",
       "      <th>645</th>\n",
       "      <td>1</td>\n",
       "      <td>36</td>\n",
       "      <td>2</td>\n",
       "      <td>10</td>\n",
       "      <td>15857</td>\n",
       "      <td>1</td>\n",
       "      <td>1</td>\n",
       "      <td>2</td>\n",
       "      <td>1</td>\n",
       "      <td>2</td>\n",
       "      <td>...</td>\n",
       "      <td>3</td>\n",
       "      <td>43</td>\n",
       "      <td>3</td>\n",
       "      <td>2</td>\n",
       "      <td>1</td>\n",
       "      <td>4</td>\n",
       "      <td>2</td>\n",
       "      <td>1</td>\n",
       "      <td>2</td>\n",
       "      <td>1</td>\n",
       "    </tr>\n",
       "    <tr>\n",
       "      <th>690</th>\n",
       "      <td>4</td>\n",
       "      <td>60</td>\n",
       "      <td>2</td>\n",
       "      <td>3</td>\n",
       "      <td>10144</td>\n",
       "      <td>2</td>\n",
       "      <td>4</td>\n",
       "      <td>2</td>\n",
       "      <td>2</td>\n",
       "      <td>1</td>\n",
       "      <td>...</td>\n",
       "      <td>1</td>\n",
       "      <td>21</td>\n",
       "      <td>3</td>\n",
       "      <td>2</td>\n",
       "      <td>1</td>\n",
       "      <td>3</td>\n",
       "      <td>2</td>\n",
       "      <td>2</td>\n",
       "      <td>2</td>\n",
       "      <td>1</td>\n",
       "    </tr>\n",
       "    <tr>\n",
       "      <th>695</th>\n",
       "      <td>4</td>\n",
       "      <td>60</td>\n",
       "      <td>3</td>\n",
       "      <td>3</td>\n",
       "      <td>15653</td>\n",
       "      <td>1</td>\n",
       "      <td>4</td>\n",
       "      <td>2</td>\n",
       "      <td>3</td>\n",
       "      <td>1</td>\n",
       "      <td>...</td>\n",
       "      <td>3</td>\n",
       "      <td>21</td>\n",
       "      <td>3</td>\n",
       "      <td>2</td>\n",
       "      <td>2</td>\n",
       "      <td>3</td>\n",
       "      <td>2</td>\n",
       "      <td>2</td>\n",
       "      <td>2</td>\n",
       "      <td>1</td>\n",
       "    </tr>\n",
       "    <tr>\n",
       "      <th>728</th>\n",
       "      <td>4</td>\n",
       "      <td>36</td>\n",
       "      <td>4</td>\n",
       "      <td>1</td>\n",
       "      <td>11054</td>\n",
       "      <td>5</td>\n",
       "      <td>3</td>\n",
       "      <td>4</td>\n",
       "      <td>3</td>\n",
       "      <td>1</td>\n",
       "      <td>...</td>\n",
       "      <td>3</td>\n",
       "      <td>30</td>\n",
       "      <td>3</td>\n",
       "      <td>2</td>\n",
       "      <td>1</td>\n",
       "      <td>4</td>\n",
       "      <td>2</td>\n",
       "      <td>2</td>\n",
       "      <td>2</td>\n",
       "      <td>1</td>\n",
       "    </tr>\n",
       "    <tr>\n",
       "      <th>754</th>\n",
       "      <td>2</td>\n",
       "      <td>6</td>\n",
       "      <td>2</td>\n",
       "      <td>0</td>\n",
       "      <td>14555</td>\n",
       "      <td>5</td>\n",
       "      <td>1</td>\n",
       "      <td>1</td>\n",
       "      <td>3</td>\n",
       "      <td>1</td>\n",
       "      <td>...</td>\n",
       "      <td>2</td>\n",
       "      <td>23</td>\n",
       "      <td>3</td>\n",
       "      <td>2</td>\n",
       "      <td>1</td>\n",
       "      <td>1</td>\n",
       "      <td>2</td>\n",
       "      <td>2</td>\n",
       "      <td>2</td>\n",
       "      <td>0</td>\n",
       "    </tr>\n",
       "    <tr>\n",
       "      <th>782</th>\n",
       "      <td>2</td>\n",
       "      <td>36</td>\n",
       "      <td>2</td>\n",
       "      <td>0</td>\n",
       "      <td>14318</td>\n",
       "      <td>1</td>\n",
       "      <td>5</td>\n",
       "      <td>4</td>\n",
       "      <td>3</td>\n",
       "      <td>1</td>\n",
       "      <td>...</td>\n",
       "      <td>4</td>\n",
       "      <td>57</td>\n",
       "      <td>3</td>\n",
       "      <td>3</td>\n",
       "      <td>1</td>\n",
       "      <td>4</td>\n",
       "      <td>2</td>\n",
       "      <td>2</td>\n",
       "      <td>2</td>\n",
       "      <td>0</td>\n",
       "    </tr>\n",
       "    <tr>\n",
       "      <th>810</th>\n",
       "      <td>2</td>\n",
       "      <td>48</td>\n",
       "      <td>2</td>\n",
       "      <td>9</td>\n",
       "      <td>15672</td>\n",
       "      <td>1</td>\n",
       "      <td>3</td>\n",
       "      <td>2</td>\n",
       "      <td>3</td>\n",
       "      <td>1</td>\n",
       "      <td>...</td>\n",
       "      <td>3</td>\n",
       "      <td>23</td>\n",
       "      <td>3</td>\n",
       "      <td>2</td>\n",
       "      <td>1</td>\n",
       "      <td>3</td>\n",
       "      <td>2</td>\n",
       "      <td>2</td>\n",
       "      <td>2</td>\n",
       "      <td>0</td>\n",
       "    </tr>\n",
       "    <tr>\n",
       "      <th>820</th>\n",
       "      <td>2</td>\n",
       "      <td>48</td>\n",
       "      <td>2</td>\n",
       "      <td>3</td>\n",
       "      <td>10961</td>\n",
       "      <td>4</td>\n",
       "      <td>4</td>\n",
       "      <td>1</td>\n",
       "      <td>3</td>\n",
       "      <td>2</td>\n",
       "      <td>...</td>\n",
       "      <td>4</td>\n",
       "      <td>27</td>\n",
       "      <td>1</td>\n",
       "      <td>2</td>\n",
       "      <td>2</td>\n",
       "      <td>3</td>\n",
       "      <td>2</td>\n",
       "      <td>2</td>\n",
       "      <td>2</td>\n",
       "      <td>0</td>\n",
       "    </tr>\n",
       "    <tr>\n",
       "      <th>835</th>\n",
       "      <td>2</td>\n",
       "      <td>24</td>\n",
       "      <td>2</td>\n",
       "      <td>1</td>\n",
       "      <td>11560</td>\n",
       "      <td>1</td>\n",
       "      <td>3</td>\n",
       "      <td>1</td>\n",
       "      <td>2</td>\n",
       "      <td>1</td>\n",
       "      <td>...</td>\n",
       "      <td>3</td>\n",
       "      <td>23</td>\n",
       "      <td>3</td>\n",
       "      <td>1</td>\n",
       "      <td>2</td>\n",
       "      <td>4</td>\n",
       "      <td>2</td>\n",
       "      <td>1</td>\n",
       "      <td>2</td>\n",
       "      <td>0</td>\n",
       "    </tr>\n",
       "    <tr>\n",
       "      <th>843</th>\n",
       "      <td>2</td>\n",
       "      <td>24</td>\n",
       "      <td>2</td>\n",
       "      <td>10</td>\n",
       "      <td>11328</td>\n",
       "      <td>1</td>\n",
       "      <td>3</td>\n",
       "      <td>2</td>\n",
       "      <td>3</td>\n",
       "      <td>2</td>\n",
       "      <td>...</td>\n",
       "      <td>3</td>\n",
       "      <td>29</td>\n",
       "      <td>1</td>\n",
       "      <td>2</td>\n",
       "      <td>2</td>\n",
       "      <td>4</td>\n",
       "      <td>2</td>\n",
       "      <td>2</td>\n",
       "      <td>2</td>\n",
       "      <td>0</td>\n",
       "    </tr>\n",
       "    <tr>\n",
       "      <th>844</th>\n",
       "      <td>2</td>\n",
       "      <td>24</td>\n",
       "      <td>4</td>\n",
       "      <td>10</td>\n",
       "      <td>11938</td>\n",
       "      <td>1</td>\n",
       "      <td>3</td>\n",
       "      <td>2</td>\n",
       "      <td>3</td>\n",
       "      <td>2</td>\n",
       "      <td>...</td>\n",
       "      <td>3</td>\n",
       "      <td>39</td>\n",
       "      <td>3</td>\n",
       "      <td>2</td>\n",
       "      <td>2</td>\n",
       "      <td>4</td>\n",
       "      <td>1</td>\n",
       "      <td>2</td>\n",
       "      <td>2</td>\n",
       "      <td>0</td>\n",
       "    </tr>\n",
       "    <tr>\n",
       "      <th>847</th>\n",
       "      <td>2</td>\n",
       "      <td>60</td>\n",
       "      <td>1</td>\n",
       "      <td>10</td>\n",
       "      <td>14782</td>\n",
       "      <td>2</td>\n",
       "      <td>5</td>\n",
       "      <td>3</td>\n",
       "      <td>2</td>\n",
       "      <td>1</td>\n",
       "      <td>...</td>\n",
       "      <td>4</td>\n",
       "      <td>60</td>\n",
       "      <td>1</td>\n",
       "      <td>3</td>\n",
       "      <td>2</td>\n",
       "      <td>4</td>\n",
       "      <td>2</td>\n",
       "      <td>2</td>\n",
       "      <td>2</td>\n",
       "      <td>0</td>\n",
       "    </tr>\n",
       "    <tr>\n",
       "      <th>849</th>\n",
       "      <td>2</td>\n",
       "      <td>36</td>\n",
       "      <td>2</td>\n",
       "      <td>6</td>\n",
       "      <td>12612</td>\n",
       "      <td>2</td>\n",
       "      <td>3</td>\n",
       "      <td>1</td>\n",
       "      <td>3</td>\n",
       "      <td>1</td>\n",
       "      <td>...</td>\n",
       "      <td>4</td>\n",
       "      <td>47</td>\n",
       "      <td>3</td>\n",
       "      <td>3</td>\n",
       "      <td>1</td>\n",
       "      <td>3</td>\n",
       "      <td>1</td>\n",
       "      <td>2</td>\n",
       "      <td>2</td>\n",
       "      <td>0</td>\n",
       "    </tr>\n",
       "    <tr>\n",
       "      <th>890</th>\n",
       "      <td>2</td>\n",
       "      <td>60</td>\n",
       "      <td>2</td>\n",
       "      <td>0</td>\n",
       "      <td>14027</td>\n",
       "      <td>1</td>\n",
       "      <td>4</td>\n",
       "      <td>4</td>\n",
       "      <td>3</td>\n",
       "      <td>1</td>\n",
       "      <td>...</td>\n",
       "      <td>4</td>\n",
       "      <td>27</td>\n",
       "      <td>3</td>\n",
       "      <td>2</td>\n",
       "      <td>1</td>\n",
       "      <td>4</td>\n",
       "      <td>2</td>\n",
       "      <td>2</td>\n",
       "      <td>2</td>\n",
       "      <td>0</td>\n",
       "    </tr>\n",
       "    <tr>\n",
       "      <th>895</th>\n",
       "      <td>2</td>\n",
       "      <td>18</td>\n",
       "      <td>2</td>\n",
       "      <td>1</td>\n",
       "      <td>12976</td>\n",
       "      <td>1</td>\n",
       "      <td>1</td>\n",
       "      <td>3</td>\n",
       "      <td>2</td>\n",
       "      <td>1</td>\n",
       "      <td>...</td>\n",
       "      <td>4</td>\n",
       "      <td>38</td>\n",
       "      <td>3</td>\n",
       "      <td>3</td>\n",
       "      <td>1</td>\n",
       "      <td>4</td>\n",
       "      <td>2</td>\n",
       "      <td>2</td>\n",
       "      <td>2</td>\n",
       "      <td>0</td>\n",
       "    </tr>\n",
       "    <tr>\n",
       "      <th>928</th>\n",
       "      <td>1</td>\n",
       "      <td>48</td>\n",
       "      <td>2</td>\n",
       "      <td>1</td>\n",
       "      <td>10297</td>\n",
       "      <td>1</td>\n",
       "      <td>4</td>\n",
       "      <td>4</td>\n",
       "      <td>3</td>\n",
       "      <td>1</td>\n",
       "      <td>...</td>\n",
       "      <td>4</td>\n",
       "      <td>39</td>\n",
       "      <td>3</td>\n",
       "      <td>3</td>\n",
       "      <td>3</td>\n",
       "      <td>3</td>\n",
       "      <td>1</td>\n",
       "      <td>2</td>\n",
       "      <td>2</td>\n",
       "      <td>0</td>\n",
       "    </tr>\n",
       "    <tr>\n",
       "      <th>929</th>\n",
       "      <td>2</td>\n",
       "      <td>48</td>\n",
       "      <td>0</td>\n",
       "      <td>9</td>\n",
       "      <td>14421</td>\n",
       "      <td>1</td>\n",
       "      <td>3</td>\n",
       "      <td>2</td>\n",
       "      <td>3</td>\n",
       "      <td>1</td>\n",
       "      <td>...</td>\n",
       "      <td>3</td>\n",
       "      <td>25</td>\n",
       "      <td>2</td>\n",
       "      <td>2</td>\n",
       "      <td>1</td>\n",
       "      <td>3</td>\n",
       "      <td>2</td>\n",
       "      <td>2</td>\n",
       "      <td>2</td>\n",
       "      <td>0</td>\n",
       "    </tr>\n",
       "    <tr>\n",
       "      <th>940</th>\n",
       "      <td>4</td>\n",
       "      <td>48</td>\n",
       "      <td>4</td>\n",
       "      <td>0</td>\n",
       "      <td>10127</td>\n",
       "      <td>3</td>\n",
       "      <td>3</td>\n",
       "      <td>2</td>\n",
       "      <td>3</td>\n",
       "      <td>1</td>\n",
       "      <td>...</td>\n",
       "      <td>4</td>\n",
       "      <td>44</td>\n",
       "      <td>3</td>\n",
       "      <td>3</td>\n",
       "      <td>1</td>\n",
       "      <td>3</td>\n",
       "      <td>2</td>\n",
       "      <td>1</td>\n",
       "      <td>2</td>\n",
       "      <td>0</td>\n",
       "    </tr>\n",
       "    <tr>\n",
       "      <th>943</th>\n",
       "      <td>2</td>\n",
       "      <td>36</td>\n",
       "      <td>2</td>\n",
       "      <td>0</td>\n",
       "      <td>12389</td>\n",
       "      <td>5</td>\n",
       "      <td>3</td>\n",
       "      <td>1</td>\n",
       "      <td>3</td>\n",
       "      <td>1</td>\n",
       "      <td>...</td>\n",
       "      <td>4</td>\n",
       "      <td>37</td>\n",
       "      <td>1</td>\n",
       "      <td>3</td>\n",
       "      <td>1</td>\n",
       "      <td>3</td>\n",
       "      <td>2</td>\n",
       "      <td>2</td>\n",
       "      <td>2</td>\n",
       "      <td>0</td>\n",
       "    </tr>\n",
       "    <tr>\n",
       "      <th>953</th>\n",
       "      <td>4</td>\n",
       "      <td>48</td>\n",
       "      <td>4</td>\n",
       "      <td>1</td>\n",
       "      <td>11590</td>\n",
       "      <td>2</td>\n",
       "      <td>3</td>\n",
       "      <td>2</td>\n",
       "      <td>2</td>\n",
       "      <td>1</td>\n",
       "      <td>...</td>\n",
       "      <td>3</td>\n",
       "      <td>24</td>\n",
       "      <td>3</td>\n",
       "      <td>1</td>\n",
       "      <td>2</td>\n",
       "      <td>2</td>\n",
       "      <td>2</td>\n",
       "      <td>1</td>\n",
       "      <td>2</td>\n",
       "      <td>0</td>\n",
       "    </tr>\n",
       "    <tr>\n",
       "      <th>962</th>\n",
       "      <td>2</td>\n",
       "      <td>54</td>\n",
       "      <td>0</td>\n",
       "      <td>9</td>\n",
       "      <td>15945</td>\n",
       "      <td>1</td>\n",
       "      <td>2</td>\n",
       "      <td>3</td>\n",
       "      <td>3</td>\n",
       "      <td>1</td>\n",
       "      <td>...</td>\n",
       "      <td>4</td>\n",
       "      <td>58</td>\n",
       "      <td>3</td>\n",
       "      <td>1</td>\n",
       "      <td>1</td>\n",
       "      <td>3</td>\n",
       "      <td>2</td>\n",
       "      <td>2</td>\n",
       "      <td>2</td>\n",
       "      <td>0</td>\n",
       "    </tr>\n",
       "    <tr>\n",
       "      <th>973</th>\n",
       "      <td>1</td>\n",
       "      <td>45</td>\n",
       "      <td>0</td>\n",
       "      <td>9</td>\n",
       "      <td>11816</td>\n",
       "      <td>1</td>\n",
       "      <td>5</td>\n",
       "      <td>2</td>\n",
       "      <td>3</td>\n",
       "      <td>1</td>\n",
       "      <td>...</td>\n",
       "      <td>3</td>\n",
       "      <td>29</td>\n",
       "      <td>3</td>\n",
       "      <td>1</td>\n",
       "      <td>2</td>\n",
       "      <td>3</td>\n",
       "      <td>2</td>\n",
       "      <td>1</td>\n",
       "      <td>2</td>\n",
       "      <td>0</td>\n",
       "    </tr>\n",
       "    <tr>\n",
       "      <th>975</th>\n",
       "      <td>1</td>\n",
       "      <td>30</td>\n",
       "      <td>2</td>\n",
       "      <td>5</td>\n",
       "      <td>11998</td>\n",
       "      <td>1</td>\n",
       "      <td>2</td>\n",
       "      <td>1</td>\n",
       "      <td>1</td>\n",
       "      <td>1</td>\n",
       "      <td>...</td>\n",
       "      <td>4</td>\n",
       "      <td>34</td>\n",
       "      <td>1</td>\n",
       "      <td>2</td>\n",
       "      <td>1</td>\n",
       "      <td>2</td>\n",
       "      <td>2</td>\n",
       "      <td>2</td>\n",
       "      <td>2</td>\n",
       "      <td>0</td>\n",
       "    </tr>\n",
       "    <tr>\n",
       "      <th>976</th>\n",
       "      <td>2</td>\n",
       "      <td>48</td>\n",
       "      <td>0</td>\n",
       "      <td>10</td>\n",
       "      <td>18424</td>\n",
       "      <td>1</td>\n",
       "      <td>3</td>\n",
       "      <td>1</td>\n",
       "      <td>2</td>\n",
       "      <td>1</td>\n",
       "      <td>...</td>\n",
       "      <td>2</td>\n",
       "      <td>32</td>\n",
       "      <td>1</td>\n",
       "      <td>2</td>\n",
       "      <td>1</td>\n",
       "      <td>4</td>\n",
       "      <td>2</td>\n",
       "      <td>2</td>\n",
       "      <td>1</td>\n",
       "      <td>0</td>\n",
       "    </tr>\n",
       "    <tr>\n",
       "      <th>977</th>\n",
       "      <td>1</td>\n",
       "      <td>6</td>\n",
       "      <td>2</td>\n",
       "      <td>0</td>\n",
       "      <td>14896</td>\n",
       "      <td>1</td>\n",
       "      <td>5</td>\n",
       "      <td>1</td>\n",
       "      <td>3</td>\n",
       "      <td>1</td>\n",
       "      <td>...</td>\n",
       "      <td>4</td>\n",
       "      <td>68</td>\n",
       "      <td>1</td>\n",
       "      <td>2</td>\n",
       "      <td>1</td>\n",
       "      <td>4</td>\n",
       "      <td>2</td>\n",
       "      <td>2</td>\n",
       "      <td>2</td>\n",
       "      <td>0</td>\n",
       "    </tr>\n",
       "    <tr>\n",
       "      <th>991</th>\n",
       "      <td>2</td>\n",
       "      <td>24</td>\n",
       "      <td>2</td>\n",
       "      <td>1</td>\n",
       "      <td>12579</td>\n",
       "      <td>1</td>\n",
       "      <td>5</td>\n",
       "      <td>4</td>\n",
       "      <td>2</td>\n",
       "      <td>1</td>\n",
       "      <td>...</td>\n",
       "      <td>4</td>\n",
       "      <td>44</td>\n",
       "      <td>3</td>\n",
       "      <td>3</td>\n",
       "      <td>1</td>\n",
       "      <td>4</td>\n",
       "      <td>2</td>\n",
       "      <td>2</td>\n",
       "      <td>2</td>\n",
       "      <td>0</td>\n",
       "    </tr>\n",
       "    <tr>\n",
       "      <th>997</th>\n",
       "      <td>4</td>\n",
       "      <td>21</td>\n",
       "      <td>4</td>\n",
       "      <td>0</td>\n",
       "      <td>12680</td>\n",
       "      <td>5</td>\n",
       "      <td>5</td>\n",
       "      <td>4</td>\n",
       "      <td>3</td>\n",
       "      <td>1</td>\n",
       "      <td>...</td>\n",
       "      <td>4</td>\n",
       "      <td>30</td>\n",
       "      <td>3</td>\n",
       "      <td>3</td>\n",
       "      <td>1</td>\n",
       "      <td>4</td>\n",
       "      <td>2</td>\n",
       "      <td>2</td>\n",
       "      <td>2</td>\n",
       "      <td>0</td>\n",
       "    </tr>\n",
       "  </tbody>\n",
       "</table>\n",
       "<p>40 rows × 21 columns</p>\n",
       "</div>"
      ],
      "text/plain": [
       "     checking account  duration in month  credit history  credit purpose  \\\n",
       "63                  4                 36               3               0   \n",
       "179                 4                 48               3               3   \n",
       "208                 2                 48               1               0   \n",
       "218                 1                 47               2               0   \n",
       "241                 4                 60               2               0   \n",
       "355                 4                 36               4               1   \n",
       "382                 4                 60               4               0   \n",
       "426                 2                 39               3               6   \n",
       "442                 1                 39               4               2   \n",
       "521                 4                 36               2               2   \n",
       "569                 4                 48               2               3   \n",
       "575                 2                 48               0               9   \n",
       "616                 1                 30               4               1   \n",
       "645                 1                 36               2              10   \n",
       "690                 4                 60               2               3   \n",
       "695                 4                 60               3               3   \n",
       "728                 4                 36               4               1   \n",
       "754                 2                  6               2               0   \n",
       "782                 2                 36               2               0   \n",
       "810                 2                 48               2               9   \n",
       "820                 2                 48               2               3   \n",
       "835                 2                 24               2               1   \n",
       "843                 2                 24               2              10   \n",
       "844                 2                 24               4              10   \n",
       "847                 2                 60               1              10   \n",
       "849                 2                 36               2               6   \n",
       "890                 2                 60               2               0   \n",
       "895                 2                 18               2               1   \n",
       "928                 1                 48               2               1   \n",
       "929                 2                 48               0               9   \n",
       "940                 4                 48               4               0   \n",
       "943                 2                 36               2               0   \n",
       "953                 4                 48               4               1   \n",
       "962                 2                 54               0               9   \n",
       "973                 1                 45               0               9   \n",
       "975                 1                 30               2               5   \n",
       "976                 2                 48               0              10   \n",
       "977                 1                  6               2               0   \n",
       "991                 2                 24               2               1   \n",
       "997                 4                 21               4               0   \n",
       "\n",
       "     credit amount  savings account  employment since..  installment rate  \\\n",
       "63           10875                1                   5                 2   \n",
       "179          12749                3                   4                 4   \n",
       "208          12169                5                   1                 4   \n",
       "218          10722                1                   2                 1   \n",
       "241          10366                1                   5                 2   \n",
       "355          10477                5                   5                 2   \n",
       "382          13756                5                   5                 2   \n",
       "426          11760                2                   4                 2   \n",
       "442          14179                5                   4                 4   \n",
       "521          10974                1                   1                 4   \n",
       "569          10222                5                   4                 4   \n",
       "575          12204                5                   3                 2   \n",
       "616          10623                1                   5                 3   \n",
       "645          15857                1                   1                 2   \n",
       "690          10144                2                   4                 2   \n",
       "695          15653                1                   4                 2   \n",
       "728          11054                5                   3                 4   \n",
       "754          14555                5                   1                 1   \n",
       "782          14318                1                   5                 4   \n",
       "810          15672                1                   3                 2   \n",
       "820          10961                4                   4                 1   \n",
       "835          11560                1                   3                 1   \n",
       "843          11328                1                   3                 2   \n",
       "844          11938                1                   3                 2   \n",
       "847          14782                2                   5                 3   \n",
       "849          12612                2                   3                 1   \n",
       "890          14027                1                   4                 4   \n",
       "895          12976                1                   1                 3   \n",
       "928          10297                1                   4                 4   \n",
       "929          14421                1                   3                 2   \n",
       "940          10127                3                   3                 2   \n",
       "943          12389                5                   3                 1   \n",
       "953          11590                2                   3                 2   \n",
       "962          15945                1                   2                 3   \n",
       "973          11816                1                   5                 2   \n",
       "975          11998                1                   2                 1   \n",
       "976          18424                1                   3                 1   \n",
       "977          14896                1                   5                 1   \n",
       "991          12579                1                   5                 4   \n",
       "997          12680                5                   5                 4   \n",
       "\n",
       "     status : sex  other debtors / guarantors  ...  property  \\\n",
       "63              3                           1  ...         3   \n",
       "179             3                           1  ...         3   \n",
       "208             3                           2  ...         4   \n",
       "218             2                           1  ...         1   \n",
       "241             3                           1  ...         2   \n",
       "355             3                           1  ...         4   \n",
       "382             3                           1  ...         4   \n",
       "426             3                           1  ...         4   \n",
       "442             3                           1  ...         2   \n",
       "521             2                           1  ...         3   \n",
       "569             3                           1  ...         3   \n",
       "575             3                           1  ...         3   \n",
       "616             3                           1  ...         4   \n",
       "645             1                           2  ...         3   \n",
       "690             2                           1  ...         1   \n",
       "695             3                           1  ...         3   \n",
       "728             3                           1  ...         3   \n",
       "754             3                           1  ...         2   \n",
       "782             3                           1  ...         4   \n",
       "810             3                           1  ...         3   \n",
       "820             3                           2  ...         4   \n",
       "835             2                           1  ...         3   \n",
       "843             3                           2  ...         3   \n",
       "844             3                           2  ...         3   \n",
       "847             2                           1  ...         4   \n",
       "849             3                           1  ...         4   \n",
       "890             3                           1  ...         4   \n",
       "895             2                           1  ...         4   \n",
       "928             3                           1  ...         4   \n",
       "929             3                           1  ...         3   \n",
       "940             3                           1  ...         4   \n",
       "943             3                           1  ...         4   \n",
       "953             2                           1  ...         3   \n",
       "962             3                           1  ...         4   \n",
       "973             3                           1  ...         3   \n",
       "975             1                           1  ...         4   \n",
       "976             2                           1  ...         2   \n",
       "977             3                           1  ...         4   \n",
       "991             2                           1  ...         4   \n",
       "997             3                           1  ...         4   \n",
       "\n",
       "     relationship : age  other installment plans  housing  existing credits  \\\n",
       "63                   45                        3        2                 2   \n",
       "179                  37                        3        2                 1   \n",
       "208                  36                        3        3                 1   \n",
       "218                  35                        3        2                 1   \n",
       "241                  42                        3        2                 1   \n",
       "355                  42                        3        3                 2   \n",
       "382                  63                        1        3                 1   \n",
       "426                  32                        3        1                 1   \n",
       "442                  30                        3        2                 2   \n",
       "521                  26                        3        2                 2   \n",
       "569                  37                        2        2                 1   \n",
       "575                  48                        1        2                 1   \n",
       "616                  38                        3        3                 3   \n",
       "645                  43                        3        2                 1   \n",
       "690                  21                        3        2                 1   \n",
       "695                  21                        3        2                 2   \n",
       "728                  30                        3        2                 1   \n",
       "754                  23                        3        2                 1   \n",
       "782                  57                        3        3                 1   \n",
       "810                  23                        3        2                 1   \n",
       "820                  27                        1        2                 2   \n",
       "835                  23                        3        1                 2   \n",
       "843                  29                        1        2                 2   \n",
       "844                  39                        3        2                 2   \n",
       "847                  60                        1        3                 2   \n",
       "849                  47                        3        3                 1   \n",
       "890                  27                        3        2                 1   \n",
       "895                  38                        3        3                 1   \n",
       "928                  39                        3        3                 3   \n",
       "929                  25                        2        2                 1   \n",
       "940                  44                        3        3                 1   \n",
       "943                  37                        1        3                 1   \n",
       "953                  24                        3        1                 2   \n",
       "962                  58                        3        1                 1   \n",
       "973                  29                        3        1                 2   \n",
       "975                  34                        1        2                 1   \n",
       "976                  32                        1        2                 1   \n",
       "977                  68                        1        2                 1   \n",
       "991                  44                        3        3                 1   \n",
       "997                  30                        3        3                 1   \n",
       "\n",
       "     job  people to provide maintenance for  telephone  foreign worker  \\\n",
       "63     3                                  1          2               2   \n",
       "179    4                                  2          2               2   \n",
       "208    4                                  2          2               2   \n",
       "218    2                                  2          2               2   \n",
       "241    4                                  2          2               2   \n",
       "355    3                                  2          1               2   \n",
       "382    4                                  2          2               2   \n",
       "426    3                                  2          2               2   \n",
       "442    4                                  2          2               2   \n",
       "521    4                                  2          2               2   \n",
       "569    3                                  2          2               2   \n",
       "575    4                                  2          2               2   \n",
       "616    4                                  1          2               2   \n",
       "645    4                                  2          1               2   \n",
       "690    3                                  2          2               2   \n",
       "695    3                                  2          2               2   \n",
       "728    4                                  2          2               2   \n",
       "754    1                                  2          2               2   \n",
       "782    4                                  2          2               2   \n",
       "810    3                                  2          2               2   \n",
       "820    3                                  2          2               2   \n",
       "835    4                                  2          1               2   \n",
       "843    4                                  2          2               2   \n",
       "844    4                                  1          2               2   \n",
       "847    4                                  2          2               2   \n",
       "849    3                                  1          2               2   \n",
       "890    4                                  2          2               2   \n",
       "895    4                                  2          2               2   \n",
       "928    3                                  1          2               2   \n",
       "929    3                                  2          2               2   \n",
       "940    3                                  2          1               2   \n",
       "943    3                                  2          2               2   \n",
       "953    2                                  2          1               2   \n",
       "962    3                                  2          2               2   \n",
       "973    3                                  2          1               2   \n",
       "975    2                                  2          2               2   \n",
       "976    4                                  2          2               1   \n",
       "977    4                                  2          2               2   \n",
       "991    4                                  2          2               2   \n",
       "997    4                                  2          2               2   \n",
       "\n",
       "     goodness  \n",
       "63          1  \n",
       "179         1  \n",
       "208         1  \n",
       "218         1  \n",
       "241         1  \n",
       "355         1  \n",
       "382         1  \n",
       "426         1  \n",
       "442         1  \n",
       "521         0  \n",
       "569         1  \n",
       "575         1  \n",
       "616         1  \n",
       "645         1  \n",
       "690         1  \n",
       "695         1  \n",
       "728         1  \n",
       "754         0  \n",
       "782         0  \n",
       "810         0  \n",
       "820         0  \n",
       "835         0  \n",
       "843         0  \n",
       "844         0  \n",
       "847         0  \n",
       "849         0  \n",
       "890         0  \n",
       "895         0  \n",
       "928         0  \n",
       "929         0  \n",
       "940         0  \n",
       "943         0  \n",
       "953         0  \n",
       "962         0  \n",
       "973         0  \n",
       "975         0  \n",
       "976         0  \n",
       "977         0  \n",
       "991         0  \n",
       "997         0  \n",
       "\n",
       "[40 rows x 21 columns]"
      ]
     },
     "execution_count": 19,
     "metadata": {},
     "output_type": "execute_result"
    }
   ],
   "source": [
    "sgcd_df[sgcd_df[\"credit amount\"] > 10000]"
   ]
  },
  {
   "cell_type": "markdown",
   "metadata": {},
   "source": [
    "We can get the largest credit amount by using the ```max``` method:"
   ]
  },
  {
   "cell_type": "code",
   "execution_count": 20,
   "metadata": {},
   "outputs": [
    {
     "data": {
      "text/plain": [
       "18424"
      ]
     },
     "execution_count": 20,
     "metadata": {},
     "output_type": "execute_result"
    }
   ],
   "source": [
    "sgcd_df[\"credit amount\"].max()"
   ]
  },
  {
   "cell_type": "markdown",
   "metadata": {},
   "source": [
    "*✏️ What could possibly be the method to get the median value of `credit amount`? Try it out.*"
   ]
  },
  {
   "cell_type": "code",
   "execution_count": 21,
   "metadata": {},
   "outputs": [
    {
     "data": {
      "text/plain": [
       "2319.5"
      ]
     },
     "execution_count": 21,
     "metadata": {},
     "output_type": "execute_result"
    }
   ],
   "source": [
    "sgcd_df['credit amount'].median()"
   ]
  },
  {
   "cell_type": "markdown",
   "metadata": {},
   "source": [
    "To get the entry belonging to the deptor with the highest credit amount, one needs to `loc`ate it via its index:"
   ]
  },
  {
   "cell_type": "code",
   "execution_count": 22,
   "metadata": {},
   "outputs": [
    {
     "data": {
      "text/plain": [
       "checking account                         2\n",
       "duration in month                       48\n",
       "credit history                           0\n",
       "credit purpose                          10\n",
       "credit amount                        18424\n",
       "savings account                          1\n",
       "employment since..                       3\n",
       "installment rate                         1\n",
       "status : sex                             2\n",
       "other debtors / guarantors               1\n",
       "residence since                          2\n",
       "property                                 2\n",
       "relationship : age                      32\n",
       "other installment plans                  1\n",
       "housing                                  2\n",
       "existing credits                         1\n",
       "job                                      4\n",
       "people to provide maintenance for        2\n",
       "telephone                                2\n",
       "foreign worker                           1\n",
       "goodness                                 0\n",
       "Name: 976, dtype: int64"
      ]
     },
     "execution_count": 22,
     "metadata": {},
     "output_type": "execute_result"
    }
   ],
   "source": [
    "sgcd_df.loc[sgcd_df[\"credit amount\"].idxmax()]"
   ]
  },
  {
   "cell_type": "markdown",
   "metadata": {
    "tags": []
   },
   "source": [
    "There is so much more to discover, some of which you will do over the course of the exercise. The [DataFrame page](https://pandas.pydata.org/pandas-docs/stable/reference/api/pandas.DataFrame.html) in the pandas reference gives a complete (long) list of all methods provided by the data structure. \n",
    "\n",
    "If you want to do something specific, but do not know the particular method name, a well-formulated search query in your favorite search engine can help. In particular, the discussions on Stack Overflow contain various helpful entries. Quite often it is the case that somebody else has had a similar problem that you're trying to solve. The key then is to precisely formulate your query. For this, it is good to understand the basic terminology of Python, Pandas, etc."
   ]
  },
  {
   "cell_type": "markdown",
   "metadata": {},
   "source": [
    "### 📊 Data Visualization\n",
    "For data visualization we will use the library [Plotly Express](https://plotly.com/python/plotly-express/). You can use any other library for plotting you are familiar with ([Matplotlib](https://matplotlib.org/), [seaborn](https://seaborn.pydata.org/), [ggpot(2)](https://plotnine.readthedocs.io/en/stable/index.html), [altair](https://altair-viz.github.io/), [pygal](http://www.pygal.org/en/stable/)) or just use the one, which comes with pandas.\n",
    "\n",
    "We will examine what credit amount got a good, or bad rating:"
   ]
  },
  {
   "cell_type": "code",
   "execution_count": 23,
   "metadata": {},
   "outputs": [
    {
     "data": {
      "text/html": [
       "<div>\n",
       "<style scoped>\n",
       "    .dataframe tbody tr th:only-of-type {\n",
       "        vertical-align: middle;\n",
       "    }\n",
       "\n",
       "    .dataframe tbody tr th {\n",
       "        vertical-align: top;\n",
       "    }\n",
       "\n",
       "    .dataframe thead th {\n",
       "        text-align: right;\n",
       "    }\n",
       "</style>\n",
       "<table border=\"1\" class=\"dataframe\">\n",
       "  <thead>\n",
       "    <tr style=\"text-align: right;\">\n",
       "      <th></th>\n",
       "      <th>credit amount</th>\n",
       "      <th>goodness</th>\n",
       "    </tr>\n",
       "  </thead>\n",
       "  <tbody>\n",
       "    <tr>\n",
       "      <th>0</th>\n",
       "      <td>1049</td>\n",
       "      <td>1</td>\n",
       "    </tr>\n",
       "    <tr>\n",
       "      <th>1</th>\n",
       "      <td>2799</td>\n",
       "      <td>1</td>\n",
       "    </tr>\n",
       "    <tr>\n",
       "      <th>2</th>\n",
       "      <td>841</td>\n",
       "      <td>1</td>\n",
       "    </tr>\n",
       "    <tr>\n",
       "      <th>3</th>\n",
       "      <td>2122</td>\n",
       "      <td>1</td>\n",
       "    </tr>\n",
       "    <tr>\n",
       "      <th>4</th>\n",
       "      <td>2171</td>\n",
       "      <td>1</td>\n",
       "    </tr>\n",
       "    <tr>\n",
       "      <th>...</th>\n",
       "      <td>...</td>\n",
       "      <td>...</td>\n",
       "    </tr>\n",
       "    <tr>\n",
       "      <th>995</th>\n",
       "      <td>1987</td>\n",
       "      <td>0</td>\n",
       "    </tr>\n",
       "    <tr>\n",
       "      <th>996</th>\n",
       "      <td>2303</td>\n",
       "      <td>0</td>\n",
       "    </tr>\n",
       "    <tr>\n",
       "      <th>997</th>\n",
       "      <td>12680</td>\n",
       "      <td>0</td>\n",
       "    </tr>\n",
       "    <tr>\n",
       "      <th>998</th>\n",
       "      <td>6468</td>\n",
       "      <td>0</td>\n",
       "    </tr>\n",
       "    <tr>\n",
       "      <th>999</th>\n",
       "      <td>6350</td>\n",
       "      <td>0</td>\n",
       "    </tr>\n",
       "  </tbody>\n",
       "</table>\n",
       "<p>1000 rows × 2 columns</p>\n",
       "</div>"
      ],
      "text/plain": [
       "     credit amount  goodness\n",
       "0             1049         1\n",
       "1             2799         1\n",
       "2              841         1\n",
       "3             2122         1\n",
       "4             2171         1\n",
       "..             ...       ...\n",
       "995           1987         0\n",
       "996           2303         0\n",
       "997          12680         0\n",
       "998           6468         0\n",
       "999           6350         0\n",
       "\n",
       "[1000 rows x 2 columns]"
      ]
     },
     "execution_count": 23,
     "metadata": {},
     "output_type": "execute_result"
    }
   ],
   "source": [
    "# The are the attributes we will use.\n",
    "# For goodness, 1 is good, 0 is bad.\n",
    "sgcd_df[[\"credit amount\", \"goodness\"]]"
   ]
  },
  {
   "cell_type": "markdown",
   "metadata": {},
   "source": [
    "Just looking at these values inside a truncated table is not very informative. We can try to get a better understanding by visualizing the distribution of the various credit amounts in the data set. \n",
    "\n",
    "For that, we use the `histogram` method of Plotly Express. It gives us an overview of how often a certain value is found in the data:"
   ]
  },
  {
   "cell_type": "code",
   "execution_count": 24,
   "metadata": {},
   "outputs": [
    {
     "data": {
      "application/vnd.plotly.v1+json": {
       "config": {
        "plotlyServerURL": "https://plot.ly"
       },
       "data": [
        {
         "bingroup": "x",
         "hovertemplate": "credit amount=%{x}<br>count=%{y}<extra></extra>",
         "legendgroup": "",
         "marker": {
          "color": "#636efa",
          "pattern": {
           "shape": ""
          }
         },
         "name": "",
         "orientation": "v",
         "showlegend": false,
         "type": "histogram",
         "x": {
          "bdata": "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",
          "dtype": "i2"
         },
         "xaxis": "x",
         "yaxis": "y"
        }
       ],
       "layout": {
        "barmode": "relative",
        "legend": {
         "tracegroupgap": 0
        },
        "margin": {
         "t": 60
        },
        "template": {
         "data": {
          "bar": [
           {
            "error_x": {
             "color": "#2a3f5f"
            },
            "error_y": {
             "color": "#2a3f5f"
            },
            "marker": {
             "line": {
              "color": "#E5ECF6",
              "width": 0.5
             },
             "pattern": {
              "fillmode": "overlay",
              "size": 10,
              "solidity": 0.2
             }
            },
            "type": "bar"
           }
          ],
          "barpolar": [
           {
            "marker": {
             "line": {
              "color": "#E5ECF6",
              "width": 0.5
             },
             "pattern": {
              "fillmode": "overlay",
              "size": 10,
              "solidity": 0.2
             }
            },
            "type": "barpolar"
           }
          ],
          "carpet": [
           {
            "aaxis": {
             "endlinecolor": "#2a3f5f",
             "gridcolor": "white",
             "linecolor": "white",
             "minorgridcolor": "white",
             "startlinecolor": "#2a3f5f"
            },
            "baxis": {
             "endlinecolor": "#2a3f5f",
             "gridcolor": "white",
             "linecolor": "white",
             "minorgridcolor": "white",
             "startlinecolor": "#2a3f5f"
            },
            "type": "carpet"
           }
          ],
          "choropleth": [
           {
            "colorbar": {
             "outlinewidth": 0,
             "ticks": ""
            },
            "type": "choropleth"
           }
          ],
          "contour": [
           {
            "colorbar": {
             "outlinewidth": 0,
             "ticks": ""
            },
            "colorscale": [
             [
              0,
              "#0d0887"
             ],
             [
              0.1111111111111111,
              "#46039f"
             ],
             [
              0.2222222222222222,
              "#7201a8"
             ],
             [
              0.3333333333333333,
              "#9c179e"
             ],
             [
              0.4444444444444444,
              "#bd3786"
             ],
             [
              0.5555555555555556,
              "#d8576b"
             ],
             [
              0.6666666666666666,
              "#ed7953"
             ],
             [
              0.7777777777777778,
              "#fb9f3a"
             ],
             [
              0.8888888888888888,
              "#fdca26"
             ],
             [
              1,
              "#f0f921"
             ]
            ],
            "type": "contour"
           }
          ],
          "contourcarpet": [
           {
            "colorbar": {
             "outlinewidth": 0,
             "ticks": ""
            },
            "type": "contourcarpet"
           }
          ],
          "heatmap": [
           {
            "colorbar": {
             "outlinewidth": 0,
             "ticks": ""
            },
            "colorscale": [
             [
              0,
              "#0d0887"
             ],
             [
              0.1111111111111111,
              "#46039f"
             ],
             [
              0.2222222222222222,
              "#7201a8"
             ],
             [
              0.3333333333333333,
              "#9c179e"
             ],
             [
              0.4444444444444444,
              "#bd3786"
             ],
             [
              0.5555555555555556,
              "#d8576b"
             ],
             [
              0.6666666666666666,
              "#ed7953"
             ],
             [
              0.7777777777777778,
              "#fb9f3a"
             ],
             [
              0.8888888888888888,
              "#fdca26"
             ],
             [
              1,
              "#f0f921"
             ]
            ],
            "type": "heatmap"
           }
          ],
          "histogram": [
           {
            "marker": {
             "pattern": {
              "fillmode": "overlay",
              "size": 10,
              "solidity": 0.2
             }
            },
            "type": "histogram"
           }
          ],
          "histogram2d": [
           {
            "colorbar": {
             "outlinewidth": 0,
             "ticks": ""
            },
            "colorscale": [
             [
              0,
              "#0d0887"
             ],
             [
              0.1111111111111111,
              "#46039f"
             ],
             [
              0.2222222222222222,
              "#7201a8"
             ],
             [
              0.3333333333333333,
              "#9c179e"
             ],
             [
              0.4444444444444444,
              "#bd3786"
             ],
             [
              0.5555555555555556,
              "#d8576b"
             ],
             [
              0.6666666666666666,
              "#ed7953"
             ],
             [
              0.7777777777777778,
              "#fb9f3a"
             ],
             [
              0.8888888888888888,
              "#fdca26"
             ],
             [
              1,
              "#f0f921"
             ]
            ],
            "type": "histogram2d"
           }
          ],
          "histogram2dcontour": [
           {
            "colorbar": {
             "outlinewidth": 0,
             "ticks": ""
            },
            "colorscale": [
             [
              0,
              "#0d0887"
             ],
             [
              0.1111111111111111,
              "#46039f"
             ],
             [
              0.2222222222222222,
              "#7201a8"
             ],
             [
              0.3333333333333333,
              "#9c179e"
             ],
             [
              0.4444444444444444,
              "#bd3786"
             ],
             [
              0.5555555555555556,
              "#d8576b"
             ],
             [
              0.6666666666666666,
              "#ed7953"
             ],
             [
              0.7777777777777778,
              "#fb9f3a"
             ],
             [
              0.8888888888888888,
              "#fdca26"
             ],
             [
              1,
              "#f0f921"
             ]
            ],
            "type": "histogram2dcontour"
           }
          ],
          "mesh3d": [
           {
            "colorbar": {
             "outlinewidth": 0,
             "ticks": ""
            },
            "type": "mesh3d"
           }
          ],
          "parcoords": [
           {
            "line": {
             "colorbar": {
              "outlinewidth": 0,
              "ticks": ""
             }
            },
            "type": "parcoords"
           }
          ],
          "pie": [
           {
            "automargin": true,
            "type": "pie"
           }
          ],
          "scatter": [
           {
            "fillpattern": {
             "fillmode": "overlay",
             "size": 10,
             "solidity": 0.2
            },
            "type": "scatter"
           }
          ],
          "scatter3d": [
           {
            "line": {
             "colorbar": {
              "outlinewidth": 0,
              "ticks": ""
             }
            },
            "marker": {
             "colorbar": {
              "outlinewidth": 0,
              "ticks": ""
             }
            },
            "type": "scatter3d"
           }
          ],
          "scattercarpet": [
           {
            "marker": {
             "colorbar": {
              "outlinewidth": 0,
              "ticks": ""
             }
            },
            "type": "scattercarpet"
           }
          ],
          "scattergeo": [
           {
            "marker": {
             "colorbar": {
              "outlinewidth": 0,
              "ticks": ""
             }
            },
            "type": "scattergeo"
           }
          ],
          "scattergl": [
           {
            "marker": {
             "colorbar": {
              "outlinewidth": 0,
              "ticks": ""
             }
            },
            "type": "scattergl"
           }
          ],
          "scattermap": [
           {
            "marker": {
             "colorbar": {
              "outlinewidth": 0,
              "ticks": ""
             }
            },
            "type": "scattermap"
           }
          ],
          "scattermapbox": [
           {
            "marker": {
             "colorbar": {
              "outlinewidth": 0,
              "ticks": ""
             }
            },
            "type": "scattermapbox"
           }
          ],
          "scatterpolar": [
           {
            "marker": {
             "colorbar": {
              "outlinewidth": 0,
              "ticks": ""
             }
            },
            "type": "scatterpolar"
           }
          ],
          "scatterpolargl": [
           {
            "marker": {
             "colorbar": {
              "outlinewidth": 0,
              "ticks": ""
             }
            },
            "type": "scatterpolargl"
           }
          ],
          "scatterternary": [
           {
            "marker": {
             "colorbar": {
              "outlinewidth": 0,
              "ticks": ""
             }
            },
            "type": "scatterternary"
           }
          ],
          "surface": [
           {
            "colorbar": {
             "outlinewidth": 0,
             "ticks": ""
            },
            "colorscale": [
             [
              0,
              "#0d0887"
             ],
             [
              0.1111111111111111,
              "#46039f"
             ],
             [
              0.2222222222222222,
              "#7201a8"
             ],
             [
              0.3333333333333333,
              "#9c179e"
             ],
             [
              0.4444444444444444,
              "#bd3786"
             ],
             [
              0.5555555555555556,
              "#d8576b"
             ],
             [
              0.6666666666666666,
              "#ed7953"
             ],
             [
              0.7777777777777778,
              "#fb9f3a"
             ],
             [
              0.8888888888888888,
              "#fdca26"
             ],
             [
              1,
              "#f0f921"
             ]
            ],
            "type": "surface"
           }
          ],
          "table": [
           {
            "cells": {
             "fill": {
              "color": "#EBF0F8"
             },
             "line": {
              "color": "white"
             }
            },
            "header": {
             "fill": {
              "color": "#C8D4E3"
             },
             "line": {
              "color": "white"
             }
            },
            "type": "table"
           }
          ]
         },
         "layout": {
          "annotationdefaults": {
           "arrowcolor": "#2a3f5f",
           "arrowhead": 0,
           "arrowwidth": 1
          },
          "autotypenumbers": "strict",
          "coloraxis": {
           "colorbar": {
            "outlinewidth": 0,
            "ticks": ""
           }
          },
          "colorscale": {
           "diverging": [
            [
             0,
             "#8e0152"
            ],
            [
             0.1,
             "#c51b7d"
            ],
            [
             0.2,
             "#de77ae"
            ],
            [
             0.3,
             "#f1b6da"
            ],
            [
             0.4,
             "#fde0ef"
            ],
            [
             0.5,
             "#f7f7f7"
            ],
            [
             0.6,
             "#e6f5d0"
            ],
            [
             0.7,
             "#b8e186"
            ],
            [
             0.8,
             "#7fbc41"
            ],
            [
             0.9,
             "#4d9221"
            ],
            [
             1,
             "#276419"
            ]
           ],
           "sequential": [
            [
             0,
             "#0d0887"
            ],
            [
             0.1111111111111111,
             "#46039f"
            ],
            [
             0.2222222222222222,
             "#7201a8"
            ],
            [
             0.3333333333333333,
             "#9c179e"
            ],
            [
             0.4444444444444444,
             "#bd3786"
            ],
            [
             0.5555555555555556,
             "#d8576b"
            ],
            [
             0.6666666666666666,
             "#ed7953"
            ],
            [
             0.7777777777777778,
             "#fb9f3a"
            ],
            [
             0.8888888888888888,
             "#fdca26"
            ],
            [
             1,
             "#f0f921"
            ]
           ],
           "sequentialminus": [
            [
             0,
             "#0d0887"
            ],
            [
             0.1111111111111111,
             "#46039f"
            ],
            [
             0.2222222222222222,
             "#7201a8"
            ],
            [
             0.3333333333333333,
             "#9c179e"
            ],
            [
             0.4444444444444444,
             "#bd3786"
            ],
            [
             0.5555555555555556,
             "#d8576b"
            ],
            [
             0.6666666666666666,
             "#ed7953"
            ],
            [
             0.7777777777777778,
             "#fb9f3a"
            ],
            [
             0.8888888888888888,
             "#fdca26"
            ],
            [
             1,
             "#f0f921"
            ]
           ]
          },
          "colorway": [
           "#636efa",
           "#EF553B",
           "#00cc96",
           "#ab63fa",
           "#FFA15A",
           "#19d3f3",
           "#FF6692",
           "#B6E880",
           "#FF97FF",
           "#FECB52"
          ],
          "font": {
           "color": "#2a3f5f"
          },
          "geo": {
           "bgcolor": "white",
           "lakecolor": "white",
           "landcolor": "#E5ECF6",
           "showlakes": true,
           "showland": true,
           "subunitcolor": "white"
          },
          "hoverlabel": {
           "align": "left"
          },
          "hovermode": "closest",
          "mapbox": {
           "style": "light"
          },
          "paper_bgcolor": "white",
          "plot_bgcolor": "#E5ECF6",
          "polar": {
           "angularaxis": {
            "gridcolor": "white",
            "linecolor": "white",
            "ticks": ""
           },
           "bgcolor": "#E5ECF6",
           "radialaxis": {
            "gridcolor": "white",
            "linecolor": "white",
            "ticks": ""
           }
          },
          "scene": {
           "xaxis": {
            "backgroundcolor": "#E5ECF6",
            "gridcolor": "white",
            "gridwidth": 2,
            "linecolor": "white",
            "showbackground": true,
            "ticks": "",
            "zerolinecolor": "white"
           },
           "yaxis": {
            "backgroundcolor": "#E5ECF6",
            "gridcolor": "white",
            "gridwidth": 2,
            "linecolor": "white",
            "showbackground": true,
            "ticks": "",
            "zerolinecolor": "white"
           },
           "zaxis": {
            "backgroundcolor": "#E5ECF6",
            "gridcolor": "white",
            "gridwidth": 2,
            "linecolor": "white",
            "showbackground": true,
            "ticks": "",
            "zerolinecolor": "white"
           }
          },
          "shapedefaults": {
           "line": {
            "color": "#2a3f5f"
           }
          },
          "ternary": {
           "aaxis": {
            "gridcolor": "white",
            "linecolor": "white",
            "ticks": ""
           },
           "baxis": {
            "gridcolor": "white",
            "linecolor": "white",
            "ticks": ""
           },
           "bgcolor": "#E5ECF6",
           "caxis": {
            "gridcolor": "white",
            "linecolor": "white",
            "ticks": ""
           }
          },
          "title": {
           "x": 0.05
          },
          "xaxis": {
           "automargin": true,
           "gridcolor": "white",
           "linecolor": "white",
           "ticks": "",
           "title": {
            "standoff": 15
           },
           "zerolinecolor": "white",
           "zerolinewidth": 2
          },
          "yaxis": {
           "automargin": true,
           "gridcolor": "white",
           "linecolor": "white",
           "ticks": "",
           "title": {
            "standoff": 15
           },
           "zerolinecolor": "white",
           "zerolinewidth": 2
          }
         }
        },
        "xaxis": {
         "anchor": "y",
         "domain": [
          0,
          1
         ],
         "title": {
          "text": "credit amount"
         }
        },
        "yaxis": {
         "anchor": "x",
         "domain": [
          0,
          1
         ],
         "title": {
          "text": "count"
         }
        }
       }
      }
     },
     "metadata": {},
     "output_type": "display_data"
    }
   ],
   "source": [
    "import plotly.express as px\n",
    "\n",
    "fig = px.histogram(sgcd_df, x=\"credit amount\")\n",
    "fig.show()"
   ]
  },
  {
   "cell_type": "markdown",
   "metadata": {},
   "source": [
    "Compared to other visualization packages, Plotly is interactive. You can zoom into the plot by left clicking and draging a window over a part of it. To reset the view, double click somewhere else. Try it out!\n",
    "\n",
    "On first glance, it appears that most deptors took a credit loan between $500 and $4000.\n",
    "\n",
    "But how is the distribution of credit amounts related to the assigned credit ratings? To answer this, we also need to consider the `goodness` attribute:"
   ]
  },
  {
   "cell_type": "code",
   "execution_count": 25,
   "metadata": {},
   "outputs": [
    {
     "data": {
      "application/vnd.plotly.v1+json": {
       "config": {
        "plotlyServerURL": "https://plot.ly"
       },
       "data": [
        {
         "bingroup": "x",
         "hovertemplate": "goodness=1<br>credit amount=%{x}<br>count=%{y}<extra></extra>",
         "legendgroup": "1",
         "marker": {
          "color": "#636efa",
          "pattern": {
           "shape": ""
          }
         },
         "name": "1",
         "orientation": "v",
         "showlegend": true,
         "type": "histogram",
         "x": {
          "bdata": "GQTvCkkDSgh7CMEIRg1RBUoErg5BDysYpQeeHZAHVwpjD40MIQk8HFwONAyQBWwSoxKMAoIE5A28EskLzw3WGWAFuQZcA9cFjgcyDRwP5APbBgQECQvXBOoEwgVmBYACTw/IBBsJqRiBAXcGHQRYDAcMiwR3CvoNeypABdUEBQzsCB8G8Ae5CksH+wihA0cN7gfLDJQHQga7B+YHDg3qFjgJ8AVDDioJZhGaAq0HywevC30QVAXZGK4R9Q1YCEIXwQ4mA2gSCB07B3EFhAXBBf0F3AesAT4J+wKID3QYfwcrCqgD9gu7EtIWDwizBb0E7xNqA6ILHAc4C4UH0wlECK0FVAUHBiYFFQmkA0wM+w74DtwTZglaCawJlAvuBAYGzwaZAXsImiK4DYYEfAraBUIXIQ4LBfsEhA8PDYgBVgiLFq4R5ApmBdgWEQUQBqsHowwrEAwHngfNMdQEHwSIHw8LqQVuFlYJZg3hCGsLbQd/DichzwjuBFUcaRoZB10IGQ4dCZAepQUpHrMOVxFTBKQFiS/BCtYFDAuzCRMFDQZtD1ULxQLiKQcFlAdIDkcSpSFjCuwFHBEiAyQG7g3+BKoBjCERD0MGwQhQCVkCCQokBX4oIAZ1AtYGoA0IBzcQRwqAFFMLPBgkAwsOTxZ/CjsOYggLCXgNlApxBfsEIQXVBXMKRgiNA+oEIQbUBP4dlAITC24Kdw3wDUQOTA5mBKsCywhDEjEJHQ2gAlIBiQrLCcYF7Q2tCGoHqQXAA8Uf/QjPBtcDEAlTASAUpQ4CDL0FXgUPAy4K3CSiA78K+gCxBJYCFAUXBsgLUAW0BD0GGQheCFQICgYHBYoFPwVmCrYXhwdkCRIGAwXNAtMGCAUOBCALhQUFDDAOnQz5DaoChAfXAg0DSQi9AhUI9QXNHUIF7ShsC88EqQe1E+cEQgfFBGwF5wjHCuoEggV7Bc0LqBkSCk4eVwE3BlgNTRfqBVYaQg4PDrw1FAHJD8oB4RzJBPwK1QvIBRcEvwWHFbYEAxnDAt8FvhfgCQ0ESAVtDPIRBRUxEm8FeQf+G4EFogvQA0cJCgK3CoIErBaRBMYFCAMqBZcEVQglB80C8C2wBHsMshEWCV8H8AROA/wFpwOKCQYO8Aj9E2M3agVqAiYGvAJ2A04SFgOkCIwcbxaFD/ocRQqVBx0JjQlEGc4c5A4wHZAF7AfMFBMJcQXAB+cD8RyKCHkRqQNeDSEMvAogD0YUuQsXD6kWOAahBMQOHA40BMcNAwgDDSAMMwqBBR8FPAjKD54DkAbhBJ8JOwYKCIYezAbYBLoaHhSzBCAIAgYmD/gOcgxQCzcbBgJmBEQHXiW9AnIL4QW+CN8FlQhZB1gHVQmvBzQNrwXaAqwMiw8PBQgGiwOzBkMF7wN6BdIHMAhNBH4DKQbMCqYgwgU5FYIFnQ0KD2EFsBARBoEmagGPB+4nMgVfIx4fqA0kG6wvXgu2FCQOtQ3JC3kGjATnEfsUxAI7AtoJ7AdeBQkFzwMaBGECtBL9CxEKVAY1B7MZZQd/KckIvgM9JKoY9gUGDtcZUAcrCy4G1gQSCpkFyh5JEHcPsQxNDAUHsBCNCywJkRgTGT0G8T2vCEYcxwk+Cv8QcAHyAngJGRp7CfECEApOAoYFTwRJAiwEyQJEBBkJcgNiA28JNQgVBVkE+AJxAisFcgQDB6gK5AEYBIMEkRsBBqYIMQbxBZYP6QugJ5AExgEKDugGJT3HCIUF4BHPBKgWFyEmDpEE7gQhDoUI3hetDkINoBjcBL4NNQo0HXEHsQvzIrQP2wreClwHLivFI0MkfxkoDc8JdRU6BToEfQQcBQQYyAbzC6wdyxLmBsgKgxWvBEwLLgs=",
          "dtype": "i2"
         },
         "xaxis": "x",
         "yaxis": "y"
        },
        {
         "bingroup": "x",
         "hovertemplate": "goodness=0<br>credit amount=%{x}<br>count=%{y}<extra></extra>",
         "legendgroup": "0",
         "marker": {
          "color": "#EF553B",
          "pattern": {
           "shape": ""
          }
         },
         "name": "0",
         "orientation": "v",
         "showlegend": true,
         "type": "histogram",
         "x": {
          "bdata": "UAnABEgHZxF3DxAZzAStAukCqw1UBJYD3QUTBv4Cpg8bBzcX1xsVDd4qhgaCB/Acdg2sArkQBhwKBjcJJQ7lArkeVRipBDsUJSCYCkQDJAzGCP8XwAQCBY8gBR7vEYQH2xVQGLQLjgJwBBEQ2zi2A68EOgRmCAQL9AsoCosTkBjqCcYFRRP6BZ0F+wQfB44FwQQ3JGEIMgfJEDgN3QQPEsIgAATuN7EBZQhdCaMD6AWREIAS8gYXCdgaGwN0B6EHMAsPCZMDswNlBQUFWwUSBIQDtwTmCLQaEQ2uBDg9gRyXB3YMCRQQB9gE9wLVBLwH0SrnGpIHKwd7BrkEBA/rEn8CPxfcDm8RLB9yEAMSKC1FENkPOhlqBbkHiAdjBEAsoi7YCX8HvjlvCkQx1wtyAo8HQAX9BVsPFQ3+CH0P1wJKD9QQ/gXXCm4X9wQPBbYktwNLBesLrx6xAWQlLQeZEHIUZhpWBU4FqQk5BVMe8ARHCqAZMwyBH4cJSiPLNp0lzAVrBBAIsDIUCgoKSw8dBdESEwqxCDkQKgxMCBEGZgk1Bc8bBhOzAhIRugoOEJ4JAgWZC/0RuxjgDbkCogWtFFYN9wdZDIYDOShVOCAE+gTHBFwFQQq7CL8DdAPeBJYfjyd4A88CZTDFAsIaogg9HaIFHQOKEqsDpARGLWECpgTPCnENuBAUDGkaMwVJPqIMIgPoJsghQQU1B28G7BJ+IDQIKC7AAd4u+EcwOsoKOg33B3kI6BNaB1cb9AgSI6IC0AOeCu4CIzFXHX4PNxjDB/8IiDFEGc4Y",
          "dtype": "i2"
         },
         "xaxis": "x",
         "yaxis": "y"
        }
       ],
       "layout": {
        "barmode": "relative",
        "legend": {
         "title": {
          "text": "goodness"
         },
         "tracegroupgap": 0
        },
        "margin": {
         "t": 60
        },
        "template": {
         "data": {
          "bar": [
           {
            "error_x": {
             "color": "#2a3f5f"
            },
            "error_y": {
             "color": "#2a3f5f"
            },
            "marker": {
             "line": {
              "color": "#E5ECF6",
              "width": 0.5
             },
             "pattern": {
              "fillmode": "overlay",
              "size": 10,
              "solidity": 0.2
             }
            },
            "type": "bar"
           }
          ],
          "barpolar": [
           {
            "marker": {
             "line": {
              "color": "#E5ECF6",
              "width": 0.5
             },
             "pattern": {
              "fillmode": "overlay",
              "size": 10,
              "solidity": 0.2
             }
            },
            "type": "barpolar"
           }
          ],
          "carpet": [
           {
            "aaxis": {
             "endlinecolor": "#2a3f5f",
             "gridcolor": "white",
             "linecolor": "white",
             "minorgridcolor": "white",
             "startlinecolor": "#2a3f5f"
            },
            "baxis": {
             "endlinecolor": "#2a3f5f",
             "gridcolor": "white",
             "linecolor": "white",
             "minorgridcolor": "white",
             "startlinecolor": "#2a3f5f"
            },
            "type": "carpet"
           }
          ],
          "choropleth": [
           {
            "colorbar": {
             "outlinewidth": 0,
             "ticks": ""
            },
            "type": "choropleth"
           }
          ],
          "contour": [
           {
            "colorbar": {
             "outlinewidth": 0,
             "ticks": ""
            },
            "colorscale": [
             [
              0,
              "#0d0887"
             ],
             [
              0.1111111111111111,
              "#46039f"
             ],
             [
              0.2222222222222222,
              "#7201a8"
             ],
             [
              0.3333333333333333,
              "#9c179e"
             ],
             [
              0.4444444444444444,
              "#bd3786"
             ],
             [
              0.5555555555555556,
              "#d8576b"
             ],
             [
              0.6666666666666666,
              "#ed7953"
             ],
             [
              0.7777777777777778,
              "#fb9f3a"
             ],
             [
              0.8888888888888888,
              "#fdca26"
             ],
             [
              1,
              "#f0f921"
             ]
            ],
            "type": "contour"
           }
          ],
          "contourcarpet": [
           {
            "colorbar": {
             "outlinewidth": 0,
             "ticks": ""
            },
            "type": "contourcarpet"
           }
          ],
          "heatmap": [
           {
            "colorbar": {
             "outlinewidth": 0,
             "ticks": ""
            },
            "colorscale": [
             [
              0,
              "#0d0887"
             ],
             [
              0.1111111111111111,
              "#46039f"
             ],
             [
              0.2222222222222222,
              "#7201a8"
             ],
             [
              0.3333333333333333,
              "#9c179e"
             ],
             [
              0.4444444444444444,
              "#bd3786"
             ],
             [
              0.5555555555555556,
              "#d8576b"
             ],
             [
              0.6666666666666666,
              "#ed7953"
             ],
             [
              0.7777777777777778,
              "#fb9f3a"
             ],
             [
              0.8888888888888888,
              "#fdca26"
             ],
             [
              1,
              "#f0f921"
             ]
            ],
            "type": "heatmap"
           }
          ],
          "histogram": [
           {
            "marker": {
             "pattern": {
              "fillmode": "overlay",
              "size": 10,
              "solidity": 0.2
             }
            },
            "type": "histogram"
           }
          ],
          "histogram2d": [
           {
            "colorbar": {
             "outlinewidth": 0,
             "ticks": ""
            },
            "colorscale": [
             [
              0,
              "#0d0887"
             ],
             [
              0.1111111111111111,
              "#46039f"
             ],
             [
              0.2222222222222222,
              "#7201a8"
             ],
             [
              0.3333333333333333,
              "#9c179e"
             ],
             [
              0.4444444444444444,
              "#bd3786"
             ],
             [
              0.5555555555555556,
              "#d8576b"
             ],
             [
              0.6666666666666666,
              "#ed7953"
             ],
             [
              0.7777777777777778,
              "#fb9f3a"
             ],
             [
              0.8888888888888888,
              "#fdca26"
             ],
             [
              1,
              "#f0f921"
             ]
            ],
            "type": "histogram2d"
           }
          ],
          "histogram2dcontour": [
           {
            "colorbar": {
             "outlinewidth": 0,
             "ticks": ""
            },
            "colorscale": [
             [
              0,
              "#0d0887"
             ],
             [
              0.1111111111111111,
              "#46039f"
             ],
             [
              0.2222222222222222,
              "#7201a8"
             ],
             [
              0.3333333333333333,
              "#9c179e"
             ],
             [
              0.4444444444444444,
              "#bd3786"
             ],
             [
              0.5555555555555556,
              "#d8576b"
             ],
             [
              0.6666666666666666,
              "#ed7953"
             ],
             [
              0.7777777777777778,
              "#fb9f3a"
             ],
             [
              0.8888888888888888,
              "#fdca26"
             ],
             [
              1,
              "#f0f921"
             ]
            ],
            "type": "histogram2dcontour"
           }
          ],
          "mesh3d": [
           {
            "colorbar": {
             "outlinewidth": 0,
             "ticks": ""
            },
            "type": "mesh3d"
           }
          ],
          "parcoords": [
           {
            "line": {
             "colorbar": {
              "outlinewidth": 0,
              "ticks": ""
             }
            },
            "type": "parcoords"
           }
          ],
          "pie": [
           {
            "automargin": true,
            "type": "pie"
           }
          ],
          "scatter": [
           {
            "fillpattern": {
             "fillmode": "overlay",
             "size": 10,
             "solidity": 0.2
            },
            "type": "scatter"
           }
          ],
          "scatter3d": [
           {
            "line": {
             "colorbar": {
              "outlinewidth": 0,
              "ticks": ""
             }
            },
            "marker": {
             "colorbar": {
              "outlinewidth": 0,
              "ticks": ""
             }
            },
            "type": "scatter3d"
           }
          ],
          "scattercarpet": [
           {
            "marker": {
             "colorbar": {
              "outlinewidth": 0,
              "ticks": ""
             }
            },
            "type": "scattercarpet"
           }
          ],
          "scattergeo": [
           {
            "marker": {
             "colorbar": {
              "outlinewidth": 0,
              "ticks": ""
             }
            },
            "type": "scattergeo"
           }
          ],
          "scattergl": [
           {
            "marker": {
             "colorbar": {
              "outlinewidth": 0,
              "ticks": ""
             }
            },
            "type": "scattergl"
           }
          ],
          "scattermap": [
           {
            "marker": {
             "colorbar": {
              "outlinewidth": 0,
              "ticks": ""
             }
            },
            "type": "scattermap"
           }
          ],
          "scattermapbox": [
           {
            "marker": {
             "colorbar": {
              "outlinewidth": 0,
              "ticks": ""
             }
            },
            "type": "scattermapbox"
           }
          ],
          "scatterpolar": [
           {
            "marker": {
             "colorbar": {
              "outlinewidth": 0,
              "ticks": ""
             }
            },
            "type": "scatterpolar"
           }
          ],
          "scatterpolargl": [
           {
            "marker": {
             "colorbar": {
              "outlinewidth": 0,
              "ticks": ""
             }
            },
            "type": "scatterpolargl"
           }
          ],
          "scatterternary": [
           {
            "marker": {
             "colorbar": {
              "outlinewidth": 0,
              "ticks": ""
             }
            },
            "type": "scatterternary"
           }
          ],
          "surface": [
           {
            "colorbar": {
             "outlinewidth": 0,
             "ticks": ""
            },
            "colorscale": [
             [
              0,
              "#0d0887"
             ],
             [
              0.1111111111111111,
              "#46039f"
             ],
             [
              0.2222222222222222,
              "#7201a8"
             ],
             [
              0.3333333333333333,
              "#9c179e"
             ],
             [
              0.4444444444444444,
              "#bd3786"
             ],
             [
              0.5555555555555556,
              "#d8576b"
             ],
             [
              0.6666666666666666,
              "#ed7953"
             ],
             [
              0.7777777777777778,
              "#fb9f3a"
             ],
             [
              0.8888888888888888,
              "#fdca26"
             ],
             [
              1,
              "#f0f921"
             ]
            ],
            "type": "surface"
           }
          ],
          "table": [
           {
            "cells": {
             "fill": {
              "color": "#EBF0F8"
             },
             "line": {
              "color": "white"
             }
            },
            "header": {
             "fill": {
              "color": "#C8D4E3"
             },
             "line": {
              "color": "white"
             }
            },
            "type": "table"
           }
          ]
         },
         "layout": {
          "annotationdefaults": {
           "arrowcolor": "#2a3f5f",
           "arrowhead": 0,
           "arrowwidth": 1
          },
          "autotypenumbers": "strict",
          "coloraxis": {
           "colorbar": {
            "outlinewidth": 0,
            "ticks": ""
           }
          },
          "colorscale": {
           "diverging": [
            [
             0,
             "#8e0152"
            ],
            [
             0.1,
             "#c51b7d"
            ],
            [
             0.2,
             "#de77ae"
            ],
            [
             0.3,
             "#f1b6da"
            ],
            [
             0.4,
             "#fde0ef"
            ],
            [
             0.5,
             "#f7f7f7"
            ],
            [
             0.6,
             "#e6f5d0"
            ],
            [
             0.7,
             "#b8e186"
            ],
            [
             0.8,
             "#7fbc41"
            ],
            [
             0.9,
             "#4d9221"
            ],
            [
             1,
             "#276419"
            ]
           ],
           "sequential": [
            [
             0,
             "#0d0887"
            ],
            [
             0.1111111111111111,
             "#46039f"
            ],
            [
             0.2222222222222222,
             "#7201a8"
            ],
            [
             0.3333333333333333,
             "#9c179e"
            ],
            [
             0.4444444444444444,
             "#bd3786"
            ],
            [
             0.5555555555555556,
             "#d8576b"
            ],
            [
             0.6666666666666666,
             "#ed7953"
            ],
            [
             0.7777777777777778,
             "#fb9f3a"
            ],
            [
             0.8888888888888888,
             "#fdca26"
            ],
            [
             1,
             "#f0f921"
            ]
           ],
           "sequentialminus": [
            [
             0,
             "#0d0887"
            ],
            [
             0.1111111111111111,
             "#46039f"
            ],
            [
             0.2222222222222222,
             "#7201a8"
            ],
            [
             0.3333333333333333,
             "#9c179e"
            ],
            [
             0.4444444444444444,
             "#bd3786"
            ],
            [
             0.5555555555555556,
             "#d8576b"
            ],
            [
             0.6666666666666666,
             "#ed7953"
            ],
            [
             0.7777777777777778,
             "#fb9f3a"
            ],
            [
             0.8888888888888888,
             "#fdca26"
            ],
            [
             1,
             "#f0f921"
            ]
           ]
          },
          "colorway": [
           "#636efa",
           "#EF553B",
           "#00cc96",
           "#ab63fa",
           "#FFA15A",
           "#19d3f3",
           "#FF6692",
           "#B6E880",
           "#FF97FF",
           "#FECB52"
          ],
          "font": {
           "color": "#2a3f5f"
          },
          "geo": {
           "bgcolor": "white",
           "lakecolor": "white",
           "landcolor": "#E5ECF6",
           "showlakes": true,
           "showland": true,
           "subunitcolor": "white"
          },
          "hoverlabel": {
           "align": "left"
          },
          "hovermode": "closest",
          "mapbox": {
           "style": "light"
          },
          "paper_bgcolor": "white",
          "plot_bgcolor": "#E5ECF6",
          "polar": {
           "angularaxis": {
            "gridcolor": "white",
            "linecolor": "white",
            "ticks": ""
           },
           "bgcolor": "#E5ECF6",
           "radialaxis": {
            "gridcolor": "white",
            "linecolor": "white",
            "ticks": ""
           }
          },
          "scene": {
           "xaxis": {
            "backgroundcolor": "#E5ECF6",
            "gridcolor": "white",
            "gridwidth": 2,
            "linecolor": "white",
            "showbackground": true,
            "ticks": "",
            "zerolinecolor": "white"
           },
           "yaxis": {
            "backgroundcolor": "#E5ECF6",
            "gridcolor": "white",
            "gridwidth": 2,
            "linecolor": "white",
            "showbackground": true,
            "ticks": "",
            "zerolinecolor": "white"
           },
           "zaxis": {
            "backgroundcolor": "#E5ECF6",
            "gridcolor": "white",
            "gridwidth": 2,
            "linecolor": "white",
            "showbackground": true,
            "ticks": "",
            "zerolinecolor": "white"
           }
          },
          "shapedefaults": {
           "line": {
            "color": "#2a3f5f"
           }
          },
          "ternary": {
           "aaxis": {
            "gridcolor": "white",
            "linecolor": "white",
            "ticks": ""
           },
           "baxis": {
            "gridcolor": "white",
            "linecolor": "white",
            "ticks": ""
           },
           "bgcolor": "#E5ECF6",
           "caxis": {
            "gridcolor": "white",
            "linecolor": "white",
            "ticks": ""
           }
          },
          "title": {
           "x": 0.05
          },
          "xaxis": {
           "automargin": true,
           "gridcolor": "white",
           "linecolor": "white",
           "ticks": "",
           "title": {
            "standoff": 15
           },
           "zerolinecolor": "white",
           "zerolinewidth": 2
          },
          "yaxis": {
           "automargin": true,
           "gridcolor": "white",
           "linecolor": "white",
           "ticks": "",
           "title": {
            "standoff": 15
           },
           "zerolinecolor": "white",
           "zerolinewidth": 2
          }
         }
        },
        "xaxis": {
         "anchor": "y",
         "domain": [
          0,
          1
         ],
         "title": {
          "text": "credit amount"
         }
        },
        "yaxis": {
         "anchor": "x",
         "domain": [
          0,
          1
         ],
         "title": {
          "text": "count"
         }
        }
       }
      }
     },
     "metadata": {},
     "output_type": "display_data"
    }
   ],
   "source": [
    "fig = px.histogram(sgcd_df, x=\"credit amount\", color=\"goodness\")\n",
    "fig.show()"
   ]
  },
  {
   "cell_type": "markdown",
   "metadata": {},
   "source": [
    "It seems that deptor with lower credit amounts got a better goodness rating more frequent. Again, this is just to give you some impression. Based on just this plot, you cannot make any statements regarding any correlation between `credit amount` and `goodness`. We will cover the topic of how single attributes affect the prediction later in the course."
   ]
  },
  {
   "cell_type": "markdown",
   "metadata": {},
   "source": [
    "Now, let's take a look at another feature, the `credit purpose`. Currently, the individual purposes are encoded with integers. In order to get a better understanding of this feature, we will reverse the encoding. To get the meaning of the integers we just have to look at the respectable value in the `codetable.txt` and replace them with the human-understandable strings:"
   ]
  },
  {
   "cell_type": "code",
   "execution_count": 26,
   "metadata": {},
   "outputs": [
    {
     "data": {
      "text/html": [
       "<div>\n",
       "<style scoped>\n",
       "    .dataframe tbody tr th:only-of-type {\n",
       "        vertical-align: middle;\n",
       "    }\n",
       "\n",
       "    .dataframe tbody tr th {\n",
       "        vertical-align: top;\n",
       "    }\n",
       "\n",
       "    .dataframe thead th {\n",
       "        text-align: right;\n",
       "    }\n",
       "</style>\n",
       "<table border=\"1\" class=\"dataframe\">\n",
       "  <thead>\n",
       "    <tr style=\"text-align: right;\">\n",
       "      <th></th>\n",
       "      <th>credit purpose</th>\n",
       "    </tr>\n",
       "  </thead>\n",
       "  <tbody>\n",
       "    <tr>\n",
       "      <th>0</th>\n",
       "      <td>car (used)</td>\n",
       "    </tr>\n",
       "    <tr>\n",
       "      <th>1</th>\n",
       "      <td>others</td>\n",
       "    </tr>\n",
       "    <tr>\n",
       "      <th>2</th>\n",
       "      <td>retrainin</td>\n",
       "    </tr>\n",
       "    <tr>\n",
       "      <th>3</th>\n",
       "      <td>others</td>\n",
       "    </tr>\n",
       "    <tr>\n",
       "      <th>4</th>\n",
       "      <td>others</td>\n",
       "    </tr>\n",
       "    <tr>\n",
       "      <th>...</th>\n",
       "      <td>...</td>\n",
       "    </tr>\n",
       "    <tr>\n",
       "      <th>995</th>\n",
       "      <td>furniture/equipment</td>\n",
       "    </tr>\n",
       "    <tr>\n",
       "      <th>996</th>\n",
       "      <td>others</td>\n",
       "    </tr>\n",
       "    <tr>\n",
       "      <th>997</th>\n",
       "      <td>others</td>\n",
       "    </tr>\n",
       "    <tr>\n",
       "      <th>998</th>\n",
       "      <td>furniture/equipment</td>\n",
       "    </tr>\n",
       "    <tr>\n",
       "      <th>999</th>\n",
       "      <td>car (used)</td>\n",
       "    </tr>\n",
       "  </tbody>\n",
       "</table>\n",
       "<p>1000 rows × 1 columns</p>\n",
       "</div>"
      ],
      "text/plain": [
       "          credit purpose\n",
       "0             car (used)\n",
       "1                 others\n",
       "2              retrainin\n",
       "3                 others\n",
       "4                 others\n",
       "..                   ...\n",
       "995  furniture/equipment\n",
       "996               others\n",
       "997               others\n",
       "998  furniture/equipment\n",
       "999           car (used)\n",
       "\n",
       "[1000 rows x 1 columns]"
      ]
     },
     "execution_count": 26,
     "metadata": {},
     "output_type": "execute_result"
    }
   ],
   "source": [
    "credit_purpose_df = sgcd_df[[\"credit purpose\"]]\n",
    "credit_purpose_df = credit_purpose_df.replace({\n",
    "    0 : \"others\",            \n",
    "    1 : \"car (new)\",        \n",
    "    2 : \"car (used)\",      \n",
    "    3 : \"furniture/equipment\",\n",
    "    4 : \"radio/television\", \n",
    "    5 : \"domestic appliances\",\n",
    "    6 : \"repairs\",          \n",
    "    7 : \"education\",          \n",
    "    8 : \"vacation\",          \n",
    "    9 : \"retrainin\",        \n",
    "    10 : \"business\", \n",
    "})\n",
    "\n",
    "credit_purpose_df"
   ]
  },
  {
   "cell_type": "markdown",
   "metadata": {},
   "source": [
    "Now we can use a histogramm again to display the distribution of credit loan purposes. This time we order the bars vertically (can you guess why that is the case)?"
   ]
  },
  {
   "cell_type": "code",
   "execution_count": 27,
   "metadata": {},
   "outputs": [
    {
     "data": {
      "application/vnd.plotly.v1+json": {
       "config": {
        "plotlyServerURL": "https://plot.ly"
       },
       "data": [
        {
         "bingroup": "y",
         "hovertemplate": "count=%{x}<br>credit purpose=%{y}<extra></extra>",
         "legendgroup": "",
         "marker": {
          "color": "#636efa",
          "pattern": {
           "shape": ""
          }
         },
         "name": "",
         "orientation": "h",
         "showlegend": false,
         "type": "histogram",
         "xaxis": "x",
         "y": [
          "car (used)",
          "others",
          "retrainin",
          "others",
          "others",
          "others",
          "others",
          "others",
          "furniture/equipment",
          "furniture/equipment",
          "others",
          "car (new)",
          "furniture/equipment",
          "business",
          "furniture/equipment",
          "furniture/equipment",
          "others",
          "furniture/equipment",
          "furniture/equipment",
          "others",
          "others",
          "others",
          "domestic appliances",
          "radio/television",
          "others",
          "furniture/equipment",
          "car (used)",
          "furniture/equipment",
          "others",
          "car (new)",
          "furniture/equipment",
          "others",
          "others",
          "furniture/equipment",
          "others",
          "others",
          "others",
          "furniture/equipment",
          "car (new)",
          "car (new)",
          "domestic appliances",
          "business",
          "others",
          "retrainin",
          "repairs",
          "others",
          "retrainin",
          "repairs",
          "others",
          "retrainin",
          "others",
          "furniture/equipment",
          "others",
          "furniture/equipment",
          "car (new)",
          "furniture/equipment",
          "furniture/equipment",
          "furniture/equipment",
          "furniture/equipment",
          "others",
          "others",
          "car (new)",
          "furniture/equipment",
          "others",
          "others",
          "furniture/equipment",
          "furniture/equipment",
          "furniture/equipment",
          "furniture/equipment",
          "others",
          "car (used)",
          "furniture/equipment",
          "furniture/equipment",
          "car (used)",
          "furniture/equipment",
          "car (used)",
          "car (new)",
          "others",
          "others",
          "furniture/equipment",
          "others",
          "furniture/equipment",
          "others",
          "car (new)",
          "car (used)",
          "others",
          "car (new)",
          "furniture/equipment",
          "others",
          "others",
          "others",
          "furniture/equipment",
          "retrainin",
          "furniture/equipment",
          "car (used)",
          "car (used)",
          "furniture/equipment",
          "retrainin",
          "car (used)",
          "retrainin",
          "car (used)",
          "retrainin",
          "retrainin",
          "others",
          "furniture/equipment",
          "others",
          "retrainin",
          "furniture/equipment",
          "furniture/equipment",
          "repairs",
          "others",
          "car (used)",
          "others",
          "car (used)",
          "car (used)",
          "others",
          "car (used)",
          "car (new)",
          "repairs",
          "car (used)",
          "furniture/equipment",
          "car (new)",
          "furniture/equipment",
          "furniture/equipment",
          "furniture/equipment",
          "furniture/equipment",
          "radio/television",
          "car (used)",
          "others",
          "furniture/equipment",
          "car (used)",
          "car (used)",
          "car (used)",
          "furniture/equipment",
          "others",
          "car (used)",
          "others",
          "others",
          "vacation",
          "furniture/equipment",
          "furniture/equipment",
          "repairs",
          "furniture/equipment",
          "car (used)",
          "furniture/equipment",
          "car (new)",
          "car (new)",
          "car (used)",
          "retrainin",
          "furniture/equipment",
          "furniture/equipment",
          "furniture/equipment",
          "car (new)",
          "others",
          "furniture/equipment",
          "furniture/equipment",
          "furniture/equipment",
          "furniture/equipment",
          "retrainin",
          "car (used)",
          "furniture/equipment",
          "retrainin",
          "car (used)",
          "car (used)",
          "repairs",
          "others",
          "furniture/equipment",
          "retrainin",
          "car (used)",
          "furniture/equipment",
          "furniture/equipment",
          "others",
          "furniture/equipment",
          "furniture/equipment",
          "furniture/equipment",
          "furniture/equipment",
          "retrainin",
          "car (new)",
          "retrainin",
          "furniture/equipment",
          "radio/television",
          "others",
          "retrainin",
          "furniture/equipment",
          "retrainin",
          "retrainin",
          "others",
          "furniture/equipment",
          "repairs",
          "others",
          "furniture/equipment",
          "repairs",
          "others",
          "others",
          "furniture/equipment",
          "car (new)",
          "others",
          "car (used)",
          "furniture/equipment",
          "retrainin",
          "furniture/equipment",
          "car (new)",
          "furniture/equipment",
          "car (used)",
          "others",
          "retrainin",
          "furniture/equipment",
          "furniture/equipment",
          "others",
          "furniture/equipment",
          "others",
          "car (used)",
          "car (used)",
          "others",
          "others",
          "others",
          "car (new)",
          "others",
          "others",
          "others",
          "furniture/equipment",
          "furniture/equipment",
          "car (new)",
          "car (new)",
          "car (used)",
          "furniture/equipment",
          "others",
          "others",
          "retrainin",
          "retrainin",
          "furniture/equipment",
          "furniture/equipment",
          "car (new)",
          "car (new)",
          "others",
          "furniture/equipment",
          "car (used)",
          "furniture/equipment",
          "car (used)",
          "car (new)",
          "furniture/equipment",
          "others",
          "retrainin",
          "furniture/equipment",
          "furniture/equipment",
          "car (new)",
          "furniture/equipment",
          "car (used)",
          "domestic appliances",
          "car (new)",
          "others",
          "domestic appliances",
          "furniture/equipment",
          "furniture/equipment",
          "car (new)",
          "retrainin",
          "car (used)",
          "car (used)",
          "furniture/equipment",
          "retrainin",
          "car (used)",
          "others",
          "car (used)",
          "car (used)",
          "furniture/equipment",
          "furniture/equipment",
          "furniture/equipment",
          "others",
          "car (used)",
          "furniture/equipment",
          "car (new)",
          "car (used)",
          "domestic appliances",
          "car (used)",
          "car (new)",
          "vacation",
          "furniture/equipment",
          "retrainin",
          "furniture/equipment",
          "furniture/equipment",
          "furniture/equipment",
          "car (used)",
          "car (new)",
          "others",
          "furniture/equipment",
          "others",
          "furniture/equipment",
          "furniture/equipment",
          "others",
          "furniture/equipment",
          "repairs",
          "car (used)",
          "furniture/equipment",
          "retrainin",
          "car (used)",
          "car (new)",
          "car (used)",
          "retrainin",
          "car (used)",
          "furniture/equipment",
          "vacation",
          "furniture/equipment",
          "car (used)",
          "furniture/equipment",
          "furniture/equipment",
          "others",
          "car (used)",
          "others",
          "furniture/equipment",
          "car (new)",
          "furniture/equipment",
          "car (new)",
          "others",
          "others",
          "others",
          "car (new)",
          "retrainin",
          "furniture/equipment",
          "furniture/equipment",
          "others",
          "others",
          "furniture/equipment",
          "retrainin",
          "car (used)",
          "others",
          "others",
          "others",
          "others",
          "others",
          "furniture/equipment",
          "repairs",
          "furniture/equipment",
          "furniture/equipment",
          "others",
          "others",
          "car (used)",
          "domestic appliances",
          "others",
          "car (new)",
          "car (new)",
          "furniture/equipment",
          "car (new)",
          "car (new)",
          "others",
          "others",
          "furniture/equipment",
          "repairs",
          "others",
          "others",
          "repairs",
          "car (used)",
          "others",
          "retrainin",
          "others",
          "furniture/equipment",
          "car (new)",
          "car (new)",
          "others",
          "others",
          "others",
          "others",
          "car (used)",
          "car (used)",
          "car (used)",
          "furniture/equipment",
          "car (used)",
          "furniture/equipment",
          "vacation",
          "others",
          "car (used)",
          "retrainin",
          "furniture/equipment",
          "car (new)",
          "radio/television",
          "car (used)",
          "furniture/equipment",
          "domestic appliances",
          "car (new)",
          "domestic appliances",
          "furniture/equipment",
          "car (used)",
          "car (used)",
          "others",
          "others",
          "car (used)",
          "furniture/equipment",
          "car (used)",
          "others",
          "radio/television",
          "car (new)",
          "car (new)",
          "others",
          "repairs",
          "furniture/equipment",
          "car (used)",
          "furniture/equipment",
          "furniture/equipment",
          "furniture/equipment",
          "car (new)",
          "others",
          "retrainin",
          "retrainin",
          "car (new)",
          "furniture/equipment",
          "furniture/equipment",
          "business",
          "car (new)",
          "retrainin",
          "retrainin",
          "furniture/equipment",
          "furniture/equipment",
          "retrainin",
          "furniture/equipment",
          "retrainin",
          "furniture/equipment",
          "furniture/equipment",
          "furniture/equipment",
          "car (new)",
          "furniture/equipment",
          "car (used)",
          "furniture/equipment",
          "others",
          "others",
          "others",
          "furniture/equipment",
          "furniture/equipment",
          "repairs",
          "repairs",
          "repairs",
          "others",
          "furniture/equipment",
          "domestic appliances",
          "retrainin",
          "retrainin",
          "retrainin",
          "furniture/equipment",
          "repairs",
          "furniture/equipment",
          "retrainin",
          "retrainin",
          "car (used)",
          "retrainin",
          "car (used)",
          "furniture/equipment",
          "furniture/equipment",
          "car (used)",
          "furniture/equipment",
          "furniture/equipment",
          "car (new)",
          "furniture/equipment",
          "furniture/equipment",
          "car (used)",
          "others",
          "repairs",
          "others",
          "furniture/equipment",
          "business",
          "retrainin",
          "car (used)",
          "car (new)",
          "car (new)",
          "car (used)",
          "car (new)",
          "others",
          "others",
          "car (used)",
          "car (new)",
          "others",
          "furniture/equipment",
          "repairs",
          "car (used)",
          "furniture/equipment",
          "retrainin",
          "car (used)",
          "furniture/equipment",
          "vacation",
          "car (used)",
          "furniture/equipment",
          "repairs",
          "domestic appliances",
          "domestic appliances",
          "car (used)",
          "retrainin",
          "car (used)",
          "car (used)",
          "retrainin",
          "car (used)",
          "car (used)",
          "retrainin",
          "others",
          "furniture/equipment",
          "car (used)",
          "retrainin",
          "furniture/equipment",
          "car (new)",
          "furniture/equipment",
          "furniture/equipment",
          "car (new)",
          "others",
          "furniture/equipment",
          "others",
          "others",
          "furniture/equipment",
          "domestic appliances",
          "car (new)",
          "furniture/equipment",
          "furniture/equipment",
          "car (new)",
          "car (used)",
          "others",
          "others",
          "repairs",
          "others",
          "car (used)",
          "others",
          "furniture/equipment",
          "retrainin",
          "repairs",
          "furniture/equipment",
          "car (used)",
          "car (used)",
          "car (used)",
          "furniture/equipment",
          "furniture/equipment",
          "car (new)",
          "furniture/equipment",
          "furniture/equipment",
          "furniture/equipment",
          "furniture/equipment",
          "furniture/equipment",
          "furniture/equipment",
          "car (new)",
          "furniture/equipment",
          "furniture/equipment",
          "furniture/equipment",
          "furniture/equipment",
          "others",
          "others",
          "furniture/equipment",
          "car (used)",
          "furniture/equipment",
          "furniture/equipment",
          "car (used)",
          "car (used)",
          "furniture/equipment",
          "retrainin",
          "furniture/equipment",
          "furniture/equipment",
          "others",
          "car (used)",
          "others",
          "repairs",
          "others",
          "vacation",
          "car (used)",
          "retrainin",
          "others",
          "car (used)",
          "car (new)",
          "retrainin",
          "others",
          "car (new)",
          "others",
          "furniture/equipment",
          "retrainin",
          "furniture/equipment",
          "retrainin",
          "others",
          "car (used)",
          "furniture/equipment",
          "others",
          "repairs",
          "car (new)",
          "car (used)",
          "car (new)",
          "retrainin",
          "car (used)",
          "repairs",
          "car (used)",
          "furniture/equipment",
          "furniture/equipment",
          "car (used)",
          "furniture/equipment",
          "radio/television",
          "car (used)",
          "car (new)",
          "others",
          "car (used)",
          "furniture/equipment",
          "car (used)",
          "car (used)",
          "business",
          "car (used)",
          "others",
          "car (used)",
          "car (used)",
          "car (used)",
          "others",
          "furniture/equipment",
          "car (used)",
          "car (new)",
          "car (used)",
          "others",
          "car (used)",
          "car (used)",
          "car (used)",
          "car (used)",
          "others",
          "car (new)",
          "car (used)",
          "others",
          "car (used)",
          "car (used)",
          "car (used)",
          "car (new)",
          "others",
          "car (new)",
          "others",
          "car (used)",
          "others",
          "car (new)",
          "business",
          "car (new)",
          "car (used)",
          "car (new)",
          "car (used)",
          "others",
          "furniture/equipment",
          "vacation",
          "car (used)",
          "car (used)",
          "car (used)",
          "car (used)",
          "car (used)",
          "others",
          "car (used)",
          "car (used)",
          "retrainin",
          "car (used)",
          "car (new)",
          "car (used)",
          "retrainin",
          "car (new)",
          "car (new)",
          "repairs",
          "business",
          "furniture/equipment",
          "furniture/equipment",
          "retrainin",
          "retrainin",
          "car (used)",
          "furniture/equipment",
          "vacation",
          "furniture/equipment",
          "retrainin",
          "retrainin",
          "furniture/equipment",
          "furniture/equipment",
          "furniture/equipment",
          "furniture/equipment",
          "furniture/equipment",
          "furniture/equipment",
          "furniture/equipment",
          "furniture/equipment",
          "others",
          "furniture/equipment",
          "furniture/equipment",
          "furniture/equipment",
          "furniture/equipment",
          "furniture/equipment",
          "furniture/equipment",
          "furniture/equipment",
          "furniture/equipment",
          "furniture/equipment",
          "furniture/equipment",
          "others",
          "furniture/equipment",
          "furniture/equipment",
          "furniture/equipment",
          "furniture/equipment",
          "furniture/equipment",
          "furniture/equipment",
          "car (new)",
          "furniture/equipment",
          "furniture/equipment",
          "car (used)",
          "car (used)",
          "radio/television",
          "car (used)",
          "furniture/equipment",
          "furniture/equipment",
          "others",
          "domestic appliances",
          "car (new)",
          "car (used)",
          "furniture/equipment",
          "others",
          "furniture/equipment",
          "car (new)",
          "furniture/equipment",
          "car (new)",
          "car (new)",
          "repairs",
          "car (used)",
          "furniture/equipment",
          "radio/television",
          "car (used)",
          "others",
          "retrainin",
          "repairs",
          "others",
          "domestic appliances",
          "retrainin",
          "repairs",
          "others",
          "domestic appliances",
          "repairs",
          "retrainin",
          "car (used)",
          "furniture/equipment",
          "repairs",
          "repairs",
          "car (new)",
          "car (new)",
          "car (used)",
          "car (new)",
          "others",
          "others",
          "car (new)",
          "furniture/equipment",
          "car (new)",
          "others",
          "car (new)",
          "others",
          "car (new)",
          "radio/television",
          "furniture/equipment",
          "furniture/equipment",
          "domestic appliances",
          "car (new)",
          "car (used)",
          "furniture/equipment",
          "car (used)",
          "car (new)",
          "car (new)",
          "car (used)",
          "car (new)",
          "domestic appliances",
          "repairs",
          "car (used)",
          "others",
          "others",
          "repairs",
          "car (new)",
          "others",
          "others",
          "others",
          "others",
          "others",
          "others",
          "furniture/equipment",
          "furniture/equipment",
          "others",
          "repairs",
          "others",
          "furniture/equipment",
          "furniture/equipment",
          "others",
          "others",
          "radio/television",
          "furniture/equipment",
          "others",
          "radio/television",
          "others",
          "retrainin",
          "others",
          "car (used)",
          "car (used)",
          "furniture/equipment",
          "repairs",
          "car (used)",
          "furniture/equipment",
          "others",
          "repairs",
          "furniture/equipment",
          "furniture/equipment",
          "others",
          "domestic appliances",
          "retrainin",
          "car (used)",
          "others",
          "furniture/equipment",
          "car (used)",
          "repairs",
          "retrainin",
          "retrainin",
          "car (used)",
          "repairs",
          "others",
          "others",
          "others",
          "others",
          "others",
          "others",
          "others",
          "others",
          "others",
          "retrainin",
          "car (used)",
          "repairs",
          "retrainin",
          "retrainin",
          "domestic appliances",
          "furniture/equipment",
          "car (new)",
          "car (used)",
          "others",
          "others",
          "car (used)",
          "car (used)",
          "furniture/equipment",
          "repairs",
          "furniture/equipment",
          "furniture/equipment",
          "furniture/equipment",
          "others",
          "retrainin",
          "others",
          "domestic appliances",
          "furniture/equipment",
          "furniture/equipment",
          "furniture/equipment",
          "retrainin",
          "furniture/equipment",
          "car (used)",
          "car (new)",
          "retrainin",
          "car (used)",
          "others",
          "others",
          "repairs",
          "car (used)",
          "car (used)",
          "business",
          "business",
          "furniture/equipment",
          "furniture/equipment",
          "business",
          "furniture/equipment",
          "repairs",
          "furniture/equipment",
          "furniture/equipment",
          "retrainin",
          "others",
          "car (used)",
          "others",
          "car (used)",
          "furniture/equipment",
          "furniture/equipment",
          "furniture/equipment",
          "retrainin",
          "retrainin",
          "furniture/equipment",
          "others",
          "repairs",
          "furniture/equipment",
          "others",
          "car (new)",
          "car (used)",
          "others",
          "radio/television",
          "others",
          "furniture/equipment",
          "retrainin",
          "repairs",
          "others",
          "others",
          "furniture/equipment",
          "furniture/equipment",
          "business",
          "car (used)",
          "furniture/equipment",
          "others",
          "others",
          "others",
          "others",
          "others",
          "repairs",
          "furniture/equipment",
          "car (used)",
          "others",
          "car (new)",
          "furniture/equipment",
          "car (used)",
          "car (used)",
          "car (new)",
          "retrainin",
          "others",
          "retrainin",
          "others",
          "others",
          "others",
          "others",
          "car (used)",
          "car (used)",
          "car (used)",
          "car (used)",
          "car (used)",
          "others",
          "car (used)",
          "others",
          "others",
          "furniture/equipment",
          "car (used)",
          "car (used)",
          "car (used)",
          "car (used)",
          "car (used)",
          "car (new)",
          "car (new)",
          "car (used)",
          "others",
          "others",
          "retrainin",
          "repairs",
          "car (used)",
          "retrainin",
          "vacation",
          "car (new)",
          "retrainin",
          "others",
          "others",
          "others",
          "others",
          "others",
          "others",
          "car (used)",
          "others",
          "others",
          "others",
          "others",
          "others",
          "repairs",
          "others",
          "furniture/equipment",
          "others",
          "car (used)",
          "car (new)",
          "others",
          "furniture/equipment",
          "furniture/equipment",
          "others",
          "retrainin",
          "car (new)",
          "retrainin",
          "domestic appliances",
          "retrainin",
          "car (used)",
          "retrainin",
          "furniture/equipment",
          "others",
          "furniture/equipment",
          "retrainin",
          "car (used)",
          "furniture/equipment",
          "car (used)",
          "retrainin",
          "furniture/equipment",
          "furniture/equipment",
          "others",
          "retrainin",
          "retrainin",
          "furniture/equipment",
          "retrainin",
          "repairs",
          "domestic appliances",
          "business",
          "others",
          "car (used)",
          "car (new)",
          "furniture/equipment",
          "retrainin",
          "car (used)",
          "furniture/equipment",
          "furniture/equipment",
          "retrainin",
          "others",
          "furniture/equipment",
          "others",
          "others",
          "repairs",
          "car (new)",
          "car (new)",
          "others",
          "furniture/equipment",
          "furniture/equipment",
          "others",
          "others",
          "furniture/equipment",
          "car (used)"
         ],
         "yaxis": "y"
        }
       ],
       "layout": {
        "barmode": "relative",
        "legend": {
         "tracegroupgap": 0
        },
        "margin": {
         "t": 60
        },
        "template": {
         "data": {
          "bar": [
           {
            "error_x": {
             "color": "#2a3f5f"
            },
            "error_y": {
             "color": "#2a3f5f"
            },
            "marker": {
             "line": {
              "color": "#E5ECF6",
              "width": 0.5
             },
             "pattern": {
              "fillmode": "overlay",
              "size": 10,
              "solidity": 0.2
             }
            },
            "type": "bar"
           }
          ],
          "barpolar": [
           {
            "marker": {
             "line": {
              "color": "#E5ECF6",
              "width": 0.5
             },
             "pattern": {
              "fillmode": "overlay",
              "size": 10,
              "solidity": 0.2
             }
            },
            "type": "barpolar"
           }
          ],
          "carpet": [
           {
            "aaxis": {
             "endlinecolor": "#2a3f5f",
             "gridcolor": "white",
             "linecolor": "white",
             "minorgridcolor": "white",
             "startlinecolor": "#2a3f5f"
            },
            "baxis": {
             "endlinecolor": "#2a3f5f",
             "gridcolor": "white",
             "linecolor": "white",
             "minorgridcolor": "white",
             "startlinecolor": "#2a3f5f"
            },
            "type": "carpet"
           }
          ],
          "choropleth": [
           {
            "colorbar": {
             "outlinewidth": 0,
             "ticks": ""
            },
            "type": "choropleth"
           }
          ],
          "contour": [
           {
            "colorbar": {
             "outlinewidth": 0,
             "ticks": ""
            },
            "colorscale": [
             [
              0,
              "#0d0887"
             ],
             [
              0.1111111111111111,
              "#46039f"
             ],
             [
              0.2222222222222222,
              "#7201a8"
             ],
             [
              0.3333333333333333,
              "#9c179e"
             ],
             [
              0.4444444444444444,
              "#bd3786"
             ],
             [
              0.5555555555555556,
              "#d8576b"
             ],
             [
              0.6666666666666666,
              "#ed7953"
             ],
             [
              0.7777777777777778,
              "#fb9f3a"
             ],
             [
              0.8888888888888888,
              "#fdca26"
             ],
             [
              1,
              "#f0f921"
             ]
            ],
            "type": "contour"
           }
          ],
          "contourcarpet": [
           {
            "colorbar": {
             "outlinewidth": 0,
             "ticks": ""
            },
            "type": "contourcarpet"
           }
          ],
          "heatmap": [
           {
            "colorbar": {
             "outlinewidth": 0,
             "ticks": ""
            },
            "colorscale": [
             [
              0,
              "#0d0887"
             ],
             [
              0.1111111111111111,
              "#46039f"
             ],
             [
              0.2222222222222222,
              "#7201a8"
             ],
             [
              0.3333333333333333,
              "#9c179e"
             ],
             [
              0.4444444444444444,
              "#bd3786"
             ],
             [
              0.5555555555555556,
              "#d8576b"
             ],
             [
              0.6666666666666666,
              "#ed7953"
             ],
             [
              0.7777777777777778,
              "#fb9f3a"
             ],
             [
              0.8888888888888888,
              "#fdca26"
             ],
             [
              1,
              "#f0f921"
             ]
            ],
            "type": "heatmap"
           }
          ],
          "histogram": [
           {
            "marker": {
             "pattern": {
              "fillmode": "overlay",
              "size": 10,
              "solidity": 0.2
             }
            },
            "type": "histogram"
           }
          ],
          "histogram2d": [
           {
            "colorbar": {
             "outlinewidth": 0,
             "ticks": ""
            },
            "colorscale": [
             [
              0,
              "#0d0887"
             ],
             [
              0.1111111111111111,
              "#46039f"
             ],
             [
              0.2222222222222222,
              "#7201a8"
             ],
             [
              0.3333333333333333,
              "#9c179e"
             ],
             [
              0.4444444444444444,
              "#bd3786"
             ],
             [
              0.5555555555555556,
              "#d8576b"
             ],
             [
              0.6666666666666666,
              "#ed7953"
             ],
             [
              0.7777777777777778,
              "#fb9f3a"
             ],
             [
              0.8888888888888888,
              "#fdca26"
             ],
             [
              1,
              "#f0f921"
             ]
            ],
            "type": "histogram2d"
           }
          ],
          "histogram2dcontour": [
           {
            "colorbar": {
             "outlinewidth": 0,
             "ticks": ""
            },
            "colorscale": [
             [
              0,
              "#0d0887"
             ],
             [
              0.1111111111111111,
              "#46039f"
             ],
             [
              0.2222222222222222,
              "#7201a8"
             ],
             [
              0.3333333333333333,
              "#9c179e"
             ],
             [
              0.4444444444444444,
              "#bd3786"
             ],
             [
              0.5555555555555556,
              "#d8576b"
             ],
             [
              0.6666666666666666,
              "#ed7953"
             ],
             [
              0.7777777777777778,
              "#fb9f3a"
             ],
             [
              0.8888888888888888,
              "#fdca26"
             ],
             [
              1,
              "#f0f921"
             ]
            ],
            "type": "histogram2dcontour"
           }
          ],
          "mesh3d": [
           {
            "colorbar": {
             "outlinewidth": 0,
             "ticks": ""
            },
            "type": "mesh3d"
           }
          ],
          "parcoords": [
           {
            "line": {
             "colorbar": {
              "outlinewidth": 0,
              "ticks": ""
             }
            },
            "type": "parcoords"
           }
          ],
          "pie": [
           {
            "automargin": true,
            "type": "pie"
           }
          ],
          "scatter": [
           {
            "fillpattern": {
             "fillmode": "overlay",
             "size": 10,
             "solidity": 0.2
            },
            "type": "scatter"
           }
          ],
          "scatter3d": [
           {
            "line": {
             "colorbar": {
              "outlinewidth": 0,
              "ticks": ""
             }
            },
            "marker": {
             "colorbar": {
              "outlinewidth": 0,
              "ticks": ""
             }
            },
            "type": "scatter3d"
           }
          ],
          "scattercarpet": [
           {
            "marker": {
             "colorbar": {
              "outlinewidth": 0,
              "ticks": ""
             }
            },
            "type": "scattercarpet"
           }
          ],
          "scattergeo": [
           {
            "marker": {
             "colorbar": {
              "outlinewidth": 0,
              "ticks": ""
             }
            },
            "type": "scattergeo"
           }
          ],
          "scattergl": [
           {
            "marker": {
             "colorbar": {
              "outlinewidth": 0,
              "ticks": ""
             }
            },
            "type": "scattergl"
           }
          ],
          "scattermap": [
           {
            "marker": {
             "colorbar": {
              "outlinewidth": 0,
              "ticks": ""
             }
            },
            "type": "scattermap"
           }
          ],
          "scattermapbox": [
           {
            "marker": {
             "colorbar": {
              "outlinewidth": 0,
              "ticks": ""
             }
            },
            "type": "scattermapbox"
           }
          ],
          "scatterpolar": [
           {
            "marker": {
             "colorbar": {
              "outlinewidth": 0,
              "ticks": ""
             }
            },
            "type": "scatterpolar"
           }
          ],
          "scatterpolargl": [
           {
            "marker": {
             "colorbar": {
              "outlinewidth": 0,
              "ticks": ""
             }
            },
            "type": "scatterpolargl"
           }
          ],
          "scatterternary": [
           {
            "marker": {
             "colorbar": {
              "outlinewidth": 0,
              "ticks": ""
             }
            },
            "type": "scatterternary"
           }
          ],
          "surface": [
           {
            "colorbar": {
             "outlinewidth": 0,
             "ticks": ""
            },
            "colorscale": [
             [
              0,
              "#0d0887"
             ],
             [
              0.1111111111111111,
              "#46039f"
             ],
             [
              0.2222222222222222,
              "#7201a8"
             ],
             [
              0.3333333333333333,
              "#9c179e"
             ],
             [
              0.4444444444444444,
              "#bd3786"
             ],
             [
              0.5555555555555556,
              "#d8576b"
             ],
             [
              0.6666666666666666,
              "#ed7953"
             ],
             [
              0.7777777777777778,
              "#fb9f3a"
             ],
             [
              0.8888888888888888,
              "#fdca26"
             ],
             [
              1,
              "#f0f921"
             ]
            ],
            "type": "surface"
           }
          ],
          "table": [
           {
            "cells": {
             "fill": {
              "color": "#EBF0F8"
             },
             "line": {
              "color": "white"
             }
            },
            "header": {
             "fill": {
              "color": "#C8D4E3"
             },
             "line": {
              "color": "white"
             }
            },
            "type": "table"
           }
          ]
         },
         "layout": {
          "annotationdefaults": {
           "arrowcolor": "#2a3f5f",
           "arrowhead": 0,
           "arrowwidth": 1
          },
          "autotypenumbers": "strict",
          "coloraxis": {
           "colorbar": {
            "outlinewidth": 0,
            "ticks": ""
           }
          },
          "colorscale": {
           "diverging": [
            [
             0,
             "#8e0152"
            ],
            [
             0.1,
             "#c51b7d"
            ],
            [
             0.2,
             "#de77ae"
            ],
            [
             0.3,
             "#f1b6da"
            ],
            [
             0.4,
             "#fde0ef"
            ],
            [
             0.5,
             "#f7f7f7"
            ],
            [
             0.6,
             "#e6f5d0"
            ],
            [
             0.7,
             "#b8e186"
            ],
            [
             0.8,
             "#7fbc41"
            ],
            [
             0.9,
             "#4d9221"
            ],
            [
             1,
             "#276419"
            ]
           ],
           "sequential": [
            [
             0,
             "#0d0887"
            ],
            [
             0.1111111111111111,
             "#46039f"
            ],
            [
             0.2222222222222222,
             "#7201a8"
            ],
            [
             0.3333333333333333,
             "#9c179e"
            ],
            [
             0.4444444444444444,
             "#bd3786"
            ],
            [
             0.5555555555555556,
             "#d8576b"
            ],
            [
             0.6666666666666666,
             "#ed7953"
            ],
            [
             0.7777777777777778,
             "#fb9f3a"
            ],
            [
             0.8888888888888888,
             "#fdca26"
            ],
            [
             1,
             "#f0f921"
            ]
           ],
           "sequentialminus": [
            [
             0,
             "#0d0887"
            ],
            [
             0.1111111111111111,
             "#46039f"
            ],
            [
             0.2222222222222222,
             "#7201a8"
            ],
            [
             0.3333333333333333,
             "#9c179e"
            ],
            [
             0.4444444444444444,
             "#bd3786"
            ],
            [
             0.5555555555555556,
             "#d8576b"
            ],
            [
             0.6666666666666666,
             "#ed7953"
            ],
            [
             0.7777777777777778,
             "#fb9f3a"
            ],
            [
             0.8888888888888888,
             "#fdca26"
            ],
            [
             1,
             "#f0f921"
            ]
           ]
          },
          "colorway": [
           "#636efa",
           "#EF553B",
           "#00cc96",
           "#ab63fa",
           "#FFA15A",
           "#19d3f3",
           "#FF6692",
           "#B6E880",
           "#FF97FF",
           "#FECB52"
          ],
          "font": {
           "color": "#2a3f5f"
          },
          "geo": {
           "bgcolor": "white",
           "lakecolor": "white",
           "landcolor": "#E5ECF6",
           "showlakes": true,
           "showland": true,
           "subunitcolor": "white"
          },
          "hoverlabel": {
           "align": "left"
          },
          "hovermode": "closest",
          "mapbox": {
           "style": "light"
          },
          "paper_bgcolor": "white",
          "plot_bgcolor": "#E5ECF6",
          "polar": {
           "angularaxis": {
            "gridcolor": "white",
            "linecolor": "white",
            "ticks": ""
           },
           "bgcolor": "#E5ECF6",
           "radialaxis": {
            "gridcolor": "white",
            "linecolor": "white",
            "ticks": ""
           }
          },
          "scene": {
           "xaxis": {
            "backgroundcolor": "#E5ECF6",
            "gridcolor": "white",
            "gridwidth": 2,
            "linecolor": "white",
            "showbackground": true,
            "ticks": "",
            "zerolinecolor": "white"
           },
           "yaxis": {
            "backgroundcolor": "#E5ECF6",
            "gridcolor": "white",
            "gridwidth": 2,
            "linecolor": "white",
            "showbackground": true,
            "ticks": "",
            "zerolinecolor": "white"
           },
           "zaxis": {
            "backgroundcolor": "#E5ECF6",
            "gridcolor": "white",
            "gridwidth": 2,
            "linecolor": "white",
            "showbackground": true,
            "ticks": "",
            "zerolinecolor": "white"
           }
          },
          "shapedefaults": {
           "line": {
            "color": "#2a3f5f"
           }
          },
          "ternary": {
           "aaxis": {
            "gridcolor": "white",
            "linecolor": "white",
            "ticks": ""
           },
           "baxis": {
            "gridcolor": "white",
            "linecolor": "white",
            "ticks": ""
           },
           "bgcolor": "#E5ECF6",
           "caxis": {
            "gridcolor": "white",
            "linecolor": "white",
            "ticks": ""
           }
          },
          "title": {
           "x": 0.05
          },
          "xaxis": {
           "automargin": true,
           "gridcolor": "white",
           "linecolor": "white",
           "ticks": "",
           "title": {
            "standoff": 15
           },
           "zerolinecolor": "white",
           "zerolinewidth": 2
          },
          "yaxis": {
           "automargin": true,
           "gridcolor": "white",
           "linecolor": "white",
           "ticks": "",
           "title": {
            "standoff": 15
           },
           "zerolinecolor": "white",
           "zerolinewidth": 2
          }
         }
        },
        "xaxis": {
         "anchor": "y",
         "domain": [
          0,
          1
         ],
         "title": {
          "text": "count"
         }
        },
        "yaxis": {
         "anchor": "x",
         "categoryorder": "total ascending",
         "domain": [
          0,
          1
         ],
         "title": {
          "text": "credit purpose"
         }
        }
       }
      }
     },
     "metadata": {},
     "output_type": "display_data"
    }
   ],
   "source": [
    "fig = px.histogram(credit_purpose_df, y=\"credit purpose\")\n",
    "\n",
    "# sort the bar chart by the total number of each category\n",
    "fig.update_yaxes(categoryorder=\"total ascending\")\n",
    "fig.show()"
   ]
  },
  {
   "cell_type": "markdown",
   "metadata": {},
   "source": [
    "We should also replace the encoding for the `goodness`attribute. After that, we merge back our individual DataFrames. You will then have everything ready for the next task."
   ]
  },
  {
   "cell_type": "code",
   "execution_count": 28,
   "metadata": {},
   "outputs": [
    {
     "data": {
      "text/html": [
       "<div>\n",
       "<style scoped>\n",
       "    .dataframe tbody tr th:only-of-type {\n",
       "        vertical-align: middle;\n",
       "    }\n",
       "\n",
       "    .dataframe tbody tr th {\n",
       "        vertical-align: top;\n",
       "    }\n",
       "\n",
       "    .dataframe thead th {\n",
       "        text-align: right;\n",
       "    }\n",
       "</style>\n",
       "<table border=\"1\" class=\"dataframe\">\n",
       "  <thead>\n",
       "    <tr style=\"text-align: right;\">\n",
       "      <th></th>\n",
       "      <th>goodness</th>\n",
       "      <th>credit purpose</th>\n",
       "    </tr>\n",
       "  </thead>\n",
       "  <tbody>\n",
       "    <tr>\n",
       "      <th>0</th>\n",
       "      <td>good</td>\n",
       "      <td>car (used)</td>\n",
       "    </tr>\n",
       "    <tr>\n",
       "      <th>1</th>\n",
       "      <td>good</td>\n",
       "      <td>others</td>\n",
       "    </tr>\n",
       "    <tr>\n",
       "      <th>2</th>\n",
       "      <td>good</td>\n",
       "      <td>retrainin</td>\n",
       "    </tr>\n",
       "    <tr>\n",
       "      <th>3</th>\n",
       "      <td>good</td>\n",
       "      <td>others</td>\n",
       "    </tr>\n",
       "    <tr>\n",
       "      <th>4</th>\n",
       "      <td>good</td>\n",
       "      <td>others</td>\n",
       "    </tr>\n",
       "    <tr>\n",
       "      <th>...</th>\n",
       "      <td>...</td>\n",
       "      <td>...</td>\n",
       "    </tr>\n",
       "    <tr>\n",
       "      <th>995</th>\n",
       "      <td>bad</td>\n",
       "      <td>furniture/equipment</td>\n",
       "    </tr>\n",
       "    <tr>\n",
       "      <th>996</th>\n",
       "      <td>bad</td>\n",
       "      <td>others</td>\n",
       "    </tr>\n",
       "    <tr>\n",
       "      <th>997</th>\n",
       "      <td>bad</td>\n",
       "      <td>others</td>\n",
       "    </tr>\n",
       "    <tr>\n",
       "      <th>998</th>\n",
       "      <td>bad</td>\n",
       "      <td>furniture/equipment</td>\n",
       "    </tr>\n",
       "    <tr>\n",
       "      <th>999</th>\n",
       "      <td>bad</td>\n",
       "      <td>car (used)</td>\n",
       "    </tr>\n",
       "  </tbody>\n",
       "</table>\n",
       "<p>1000 rows × 2 columns</p>\n",
       "</div>"
      ],
      "text/plain": [
       "    goodness       credit purpose\n",
       "0       good           car (used)\n",
       "1       good               others\n",
       "2       good            retrainin\n",
       "3       good               others\n",
       "4       good               others\n",
       "..       ...                  ...\n",
       "995      bad  furniture/equipment\n",
       "996      bad               others\n",
       "997      bad               others\n",
       "998      bad  furniture/equipment\n",
       "999      bad           car (used)\n",
       "\n",
       "[1000 rows x 2 columns]"
      ]
     },
     "execution_count": 28,
     "metadata": {},
     "output_type": "execute_result"
    }
   ],
   "source": [
    "goodness_df = sgcd_df[['goodness']].replace({0: 'bad', 1: 'good'})\n",
    "\n",
    "merged_df = pd.concat([goodness_df, credit_purpose_df], axis=1)\n",
    "merged_df"
   ]
  },
  {
   "cell_type": "markdown",
   "metadata": {},
   "source": [
    "*✏️ Like above for the credit amount, plot the distribution of the goodness ratings for the credit purposes. Put them in a descending order.*"
   ]
  },
  {
   "cell_type": "code",
   "execution_count": 29,
   "metadata": {},
   "outputs": [
    {
     "data": {
      "application/vnd.plotly.v1+json": {
       "config": {
        "plotlyServerURL": "https://plot.ly"
       },
       "data": [
        {
         "bingroup": "x",
         "hovertemplate": "goodness=1<br>credit purpose=%{x}<br>count=%{y}<extra></extra>",
         "legendgroup": "1",
         "marker": {
          "color": "#636efa",
          "pattern": {
           "shape": ""
          }
         },
         "name": "1",
         "orientation": "v",
         "showlegend": true,
         "type": "histogram",
         "x": {
          "bdata": "AgAJAAAAAAADAwABAwoDAwADAwAAAAQAAwIDAAEDAAADAAAAAwEBBQoACQYJAAkAAwADAQMDAwMAAAEDAAADAwMDAAIDAwIDAgEAAAMAAwABAgABAwAAAAMJAwICAwIJAgkJAAMACQMDBgIAAgIAAgEGAgMBAwMDAwQCAAMCAgIDAAIAAAgDAwYDAgMBAQIJAwMDAQADAwMDAgMJAgIGAAMJAgMDAwMDAwkBCQMEAAkDCQkAAwYAAwYAAAMBAAIDCQMBAwIACQMDAAMAAgIAAAABAAAAAwMBAQIDAAAJCQMDAQEDAgMCAQMACQMDAQMCBQEABQMDAQkCAgMJAgACAgMDAwACAwECBQIBCAMJAwMDAgEAAwADAwADBgIDCQIBAgkCAwgDAgMAAgADAQMBAAAAAQkDAwAAAwkCAAAAAAADBgMDAAACBQABAQMBAQAAAwYAAAYCAAkDAQEAAAAAAgICAwIDCAACCQMBBAIDAQUDAgIAAAIDAAQBAQAGAwIDAwMBAAkJAQMDCgEJCQMDCQMJAwMDAQMCAwAAAAMDBgYAAwkJCQMGAwkJAgkCAwMCAwMBAwIABgADCgkCAQECAQACAQADBgIDCQIDCAIDBgUFAgkCAgkCAgkAAwIJAwEDAwEAAwAAAwUBAwMBAgAABgACAAMJAwMBAwMDAwMDAQMDAwMAAAMCAwIDCQMDAAIABgAIAgkAAgEJAAEDCQMJAAIDAAYBAgEJAQACAwICCgICAgADAgACAgIAAQICAgIBAAEAAAEKAQIBAgADCAICAgICAAIJAgECCQEGCgMDCQkCAwgDCQkDAwMDAwMDAAMDAwMDAwMDAwMAAwMDAwMDAQMDAgIEAgMABQECAwADAQMBBgIDBAIABgAFCQYABQYGAQECAQAAAQMBAAEAAQQDAwUBAgMBAQIBBQYCAA==",
          "dtype": "i1"
         },
         "xaxis": "x",
         "yaxis": "y"
        },
        {
         "bingroup": "x",
         "hovertemplate": "goodness=0<br>credit purpose=%{x}<br>count=%{y}<extra></extra>",
         "legendgroup": "0",
         "marker": {
          "color": "#EF553B",
          "pattern": {
           "shape": ""
          }
         },
         "name": "0",
         "orientation": "v",
         "showlegend": true,
         "type": "histogram",
         "x": {
          "bdata": "BQAGCQAJAAADAAUCBgUDAAYDAgICAwIAAgYCAwMCAwQCAgACAQIAAgIBAwMBCQkCAwYCAAYBAAAAAAAAAwMABgADAwAABAMABAAJAAICAwYCAwAGAwMABQkCAAMCBgkJAgYAAAAAAAAAAAAJAgYJCQUDAQIAAAICAwYDAwMACQAFAwMDCQMCAQkCAAAGAgIKCgMDCgMGAwMJAAIAAgMDAwkJAwAGAwABAgAEAAMJBgAAAwMKAgMAAAAAAAYDAgABAwICAQkACQAAAAACAgICAgACAAADAgICAgIBAQIAAAkGAgkIAQkAAAAAAAACAAAAAAAGAAMAAgEAAwMACQEJBQkCCQMAAwkCAwIJAwMACQkDCQYFCgACAQMJAgMDCQADAAAGAQEAAwMAAAMC",
          "dtype": "i1"
         },
         "xaxis": "x",
         "yaxis": "y"
        }
       ],
       "layout": {
        "barmode": "relative",
        "legend": {
         "title": {
          "text": "goodness"
         },
         "tracegroupgap": 0
        },
        "margin": {
         "t": 60
        },
        "template": {
         "data": {
          "bar": [
           {
            "error_x": {
             "color": "#2a3f5f"
            },
            "error_y": {
             "color": "#2a3f5f"
            },
            "marker": {
             "line": {
              "color": "#E5ECF6",
              "width": 0.5
             },
             "pattern": {
              "fillmode": "overlay",
              "size": 10,
              "solidity": 0.2
             }
            },
            "type": "bar"
           }
          ],
          "barpolar": [
           {
            "marker": {
             "line": {
              "color": "#E5ECF6",
              "width": 0.5
             },
             "pattern": {
              "fillmode": "overlay",
              "size": 10,
              "solidity": 0.2
             }
            },
            "type": "barpolar"
           }
          ],
          "carpet": [
           {
            "aaxis": {
             "endlinecolor": "#2a3f5f",
             "gridcolor": "white",
             "linecolor": "white",
             "minorgridcolor": "white",
             "startlinecolor": "#2a3f5f"
            },
            "baxis": {
             "endlinecolor": "#2a3f5f",
             "gridcolor": "white",
             "linecolor": "white",
             "minorgridcolor": "white",
             "startlinecolor": "#2a3f5f"
            },
            "type": "carpet"
           }
          ],
          "choropleth": [
           {
            "colorbar": {
             "outlinewidth": 0,
             "ticks": ""
            },
            "type": "choropleth"
           }
          ],
          "contour": [
           {
            "colorbar": {
             "outlinewidth": 0,
             "ticks": ""
            },
            "colorscale": [
             [
              0,
              "#0d0887"
             ],
             [
              0.1111111111111111,
              "#46039f"
             ],
             [
              0.2222222222222222,
              "#7201a8"
             ],
             [
              0.3333333333333333,
              "#9c179e"
             ],
             [
              0.4444444444444444,
              "#bd3786"
             ],
             [
              0.5555555555555556,
              "#d8576b"
             ],
             [
              0.6666666666666666,
              "#ed7953"
             ],
             [
              0.7777777777777778,
              "#fb9f3a"
             ],
             [
              0.8888888888888888,
              "#fdca26"
             ],
             [
              1,
              "#f0f921"
             ]
            ],
            "type": "contour"
           }
          ],
          "contourcarpet": [
           {
            "colorbar": {
             "outlinewidth": 0,
             "ticks": ""
            },
            "type": "contourcarpet"
           }
          ],
          "heatmap": [
           {
            "colorbar": {
             "outlinewidth": 0,
             "ticks": ""
            },
            "colorscale": [
             [
              0,
              "#0d0887"
             ],
             [
              0.1111111111111111,
              "#46039f"
             ],
             [
              0.2222222222222222,
              "#7201a8"
             ],
             [
              0.3333333333333333,
              "#9c179e"
             ],
             [
              0.4444444444444444,
              "#bd3786"
             ],
             [
              0.5555555555555556,
              "#d8576b"
             ],
             [
              0.6666666666666666,
              "#ed7953"
             ],
             [
              0.7777777777777778,
              "#fb9f3a"
             ],
             [
              0.8888888888888888,
              "#fdca26"
             ],
             [
              1,
              "#f0f921"
             ]
            ],
            "type": "heatmap"
           }
          ],
          "histogram": [
           {
            "marker": {
             "pattern": {
              "fillmode": "overlay",
              "size": 10,
              "solidity": 0.2
             }
            },
            "type": "histogram"
           }
          ],
          "histogram2d": [
           {
            "colorbar": {
             "outlinewidth": 0,
             "ticks": ""
            },
            "colorscale": [
             [
              0,
              "#0d0887"
             ],
             [
              0.1111111111111111,
              "#46039f"
             ],
             [
              0.2222222222222222,
              "#7201a8"
             ],
             [
              0.3333333333333333,
              "#9c179e"
             ],
             [
              0.4444444444444444,
              "#bd3786"
             ],
             [
              0.5555555555555556,
              "#d8576b"
             ],
             [
              0.6666666666666666,
              "#ed7953"
             ],
             [
              0.7777777777777778,
              "#fb9f3a"
             ],
             [
              0.8888888888888888,
              "#fdca26"
             ],
             [
              1,
              "#f0f921"
             ]
            ],
            "type": "histogram2d"
           }
          ],
          "histogram2dcontour": [
           {
            "colorbar": {
             "outlinewidth": 0,
             "ticks": ""
            },
            "colorscale": [
             [
              0,
              "#0d0887"
             ],
             [
              0.1111111111111111,
              "#46039f"
             ],
             [
              0.2222222222222222,
              "#7201a8"
             ],
             [
              0.3333333333333333,
              "#9c179e"
             ],
             [
              0.4444444444444444,
              "#bd3786"
             ],
             [
              0.5555555555555556,
              "#d8576b"
             ],
             [
              0.6666666666666666,
              "#ed7953"
             ],
             [
              0.7777777777777778,
              "#fb9f3a"
             ],
             [
              0.8888888888888888,
              "#fdca26"
             ],
             [
              1,
              "#f0f921"
             ]
            ],
            "type": "histogram2dcontour"
           }
          ],
          "mesh3d": [
           {
            "colorbar": {
             "outlinewidth": 0,
             "ticks": ""
            },
            "type": "mesh3d"
           }
          ],
          "parcoords": [
           {
            "line": {
             "colorbar": {
              "outlinewidth": 0,
              "ticks": ""
             }
            },
            "type": "parcoords"
           }
          ],
          "pie": [
           {
            "automargin": true,
            "type": "pie"
           }
          ],
          "scatter": [
           {
            "fillpattern": {
             "fillmode": "overlay",
             "size": 10,
             "solidity": 0.2
            },
            "type": "scatter"
           }
          ],
          "scatter3d": [
           {
            "line": {
             "colorbar": {
              "outlinewidth": 0,
              "ticks": ""
             }
            },
            "marker": {
             "colorbar": {
              "outlinewidth": 0,
              "ticks": ""
             }
            },
            "type": "scatter3d"
           }
          ],
          "scattercarpet": [
           {
            "marker": {
             "colorbar": {
              "outlinewidth": 0,
              "ticks": ""
             }
            },
            "type": "scattercarpet"
           }
          ],
          "scattergeo": [
           {
            "marker": {
             "colorbar": {
              "outlinewidth": 0,
              "ticks": ""
             }
            },
            "type": "scattergeo"
           }
          ],
          "scattergl": [
           {
            "marker": {
             "colorbar": {
              "outlinewidth": 0,
              "ticks": ""
             }
            },
            "type": "scattergl"
           }
          ],
          "scattermap": [
           {
            "marker": {
             "colorbar": {
              "outlinewidth": 0,
              "ticks": ""
             }
            },
            "type": "scattermap"
           }
          ],
          "scattermapbox": [
           {
            "marker": {
             "colorbar": {
              "outlinewidth": 0,
              "ticks": ""
             }
            },
            "type": "scattermapbox"
           }
          ],
          "scatterpolar": [
           {
            "marker": {
             "colorbar": {
              "outlinewidth": 0,
              "ticks": ""
             }
            },
            "type": "scatterpolar"
           }
          ],
          "scatterpolargl": [
           {
            "marker": {
             "colorbar": {
              "outlinewidth": 0,
              "ticks": ""
             }
            },
            "type": "scatterpolargl"
           }
          ],
          "scatterternary": [
           {
            "marker": {
             "colorbar": {
              "outlinewidth": 0,
              "ticks": ""
             }
            },
            "type": "scatterternary"
           }
          ],
          "surface": [
           {
            "colorbar": {
             "outlinewidth": 0,
             "ticks": ""
            },
            "colorscale": [
             [
              0,
              "#0d0887"
             ],
             [
              0.1111111111111111,
              "#46039f"
             ],
             [
              0.2222222222222222,
              "#7201a8"
             ],
             [
              0.3333333333333333,
              "#9c179e"
             ],
             [
              0.4444444444444444,
              "#bd3786"
             ],
             [
              0.5555555555555556,
              "#d8576b"
             ],
             [
              0.6666666666666666,
              "#ed7953"
             ],
             [
              0.7777777777777778,
              "#fb9f3a"
             ],
             [
              0.8888888888888888,
              "#fdca26"
             ],
             [
              1,
              "#f0f921"
             ]
            ],
            "type": "surface"
           }
          ],
          "table": [
           {
            "cells": {
             "fill": {
              "color": "#EBF0F8"
             },
             "line": {
              "color": "white"
             }
            },
            "header": {
             "fill": {
              "color": "#C8D4E3"
             },
             "line": {
              "color": "white"
             }
            },
            "type": "table"
           }
          ]
         },
         "layout": {
          "annotationdefaults": {
           "arrowcolor": "#2a3f5f",
           "arrowhead": 0,
           "arrowwidth": 1
          },
          "autotypenumbers": "strict",
          "coloraxis": {
           "colorbar": {
            "outlinewidth": 0,
            "ticks": ""
           }
          },
          "colorscale": {
           "diverging": [
            [
             0,
             "#8e0152"
            ],
            [
             0.1,
             "#c51b7d"
            ],
            [
             0.2,
             "#de77ae"
            ],
            [
             0.3,
             "#f1b6da"
            ],
            [
             0.4,
             "#fde0ef"
            ],
            [
             0.5,
             "#f7f7f7"
            ],
            [
             0.6,
             "#e6f5d0"
            ],
            [
             0.7,
             "#b8e186"
            ],
            [
             0.8,
             "#7fbc41"
            ],
            [
             0.9,
             "#4d9221"
            ],
            [
             1,
             "#276419"
            ]
           ],
           "sequential": [
            [
             0,
             "#0d0887"
            ],
            [
             0.1111111111111111,
             "#46039f"
            ],
            [
             0.2222222222222222,
             "#7201a8"
            ],
            [
             0.3333333333333333,
             "#9c179e"
            ],
            [
             0.4444444444444444,
             "#bd3786"
            ],
            [
             0.5555555555555556,
             "#d8576b"
            ],
            [
             0.6666666666666666,
             "#ed7953"
            ],
            [
             0.7777777777777778,
             "#fb9f3a"
            ],
            [
             0.8888888888888888,
             "#fdca26"
            ],
            [
             1,
             "#f0f921"
            ]
           ],
           "sequentialminus": [
            [
             0,
             "#0d0887"
            ],
            [
             0.1111111111111111,
             "#46039f"
            ],
            [
             0.2222222222222222,
             "#7201a8"
            ],
            [
             0.3333333333333333,
             "#9c179e"
            ],
            [
             0.4444444444444444,
             "#bd3786"
            ],
            [
             0.5555555555555556,
             "#d8576b"
            ],
            [
             0.6666666666666666,
             "#ed7953"
            ],
            [
             0.7777777777777778,
             "#fb9f3a"
            ],
            [
             0.8888888888888888,
             "#fdca26"
            ],
            [
             1,
             "#f0f921"
            ]
           ]
          },
          "colorway": [
           "#636efa",
           "#EF553B",
           "#00cc96",
           "#ab63fa",
           "#FFA15A",
           "#19d3f3",
           "#FF6692",
           "#B6E880",
           "#FF97FF",
           "#FECB52"
          ],
          "font": {
           "color": "#2a3f5f"
          },
          "geo": {
           "bgcolor": "white",
           "lakecolor": "white",
           "landcolor": "#E5ECF6",
           "showlakes": true,
           "showland": true,
           "subunitcolor": "white"
          },
          "hoverlabel": {
           "align": "left"
          },
          "hovermode": "closest",
          "mapbox": {
           "style": "light"
          },
          "paper_bgcolor": "white",
          "plot_bgcolor": "#E5ECF6",
          "polar": {
           "angularaxis": {
            "gridcolor": "white",
            "linecolor": "white",
            "ticks": ""
           },
           "bgcolor": "#E5ECF6",
           "radialaxis": {
            "gridcolor": "white",
            "linecolor": "white",
            "ticks": ""
           }
          },
          "scene": {
           "xaxis": {
            "backgroundcolor": "#E5ECF6",
            "gridcolor": "white",
            "gridwidth": 2,
            "linecolor": "white",
            "showbackground": true,
            "ticks": "",
            "zerolinecolor": "white"
           },
           "yaxis": {
            "backgroundcolor": "#E5ECF6",
            "gridcolor": "white",
            "gridwidth": 2,
            "linecolor": "white",
            "showbackground": true,
            "ticks": "",
            "zerolinecolor": "white"
           },
           "zaxis": {
            "backgroundcolor": "#E5ECF6",
            "gridcolor": "white",
            "gridwidth": 2,
            "linecolor": "white",
            "showbackground": true,
            "ticks": "",
            "zerolinecolor": "white"
           }
          },
          "shapedefaults": {
           "line": {
            "color": "#2a3f5f"
           }
          },
          "ternary": {
           "aaxis": {
            "gridcolor": "white",
            "linecolor": "white",
            "ticks": ""
           },
           "baxis": {
            "gridcolor": "white",
            "linecolor": "white",
            "ticks": ""
           },
           "bgcolor": "#E5ECF6",
           "caxis": {
            "gridcolor": "white",
            "linecolor": "white",
            "ticks": ""
           }
          },
          "title": {
           "x": 0.05
          },
          "xaxis": {
           "automargin": true,
           "gridcolor": "white",
           "linecolor": "white",
           "ticks": "",
           "title": {
            "standoff": 15
           },
           "zerolinecolor": "white",
           "zerolinewidth": 2
          },
          "yaxis": {
           "automargin": true,
           "gridcolor": "white",
           "linecolor": "white",
           "ticks": "",
           "title": {
            "standoff": 15
           },
           "zerolinecolor": "white",
           "zerolinewidth": 2
          }
         }
        },
        "xaxis": {
         "anchor": "y",
         "domain": [
          0,
          1
         ],
         "title": {
          "text": "credit purpose"
         }
        },
        "yaxis": {
         "anchor": "x",
         "domain": [
          0,
          1
         ],
         "title": {
          "text": "count"
         }
        }
       }
      }
     },
     "metadata": {},
     "output_type": "display_data"
    }
   ],
   "source": [
    "fig = px.histogram(sgcd_df, x=\"credit purpose\", color=\"goodness\")\n",
    "fig.show()\n"
   ]
  },
  {
   "cell_type": "markdown",
   "metadata": {},
   "source": [
    "### 📈 Machine Learning\n",
    "Sometimes you goal isn't to just get an understanding of the data, but also to make predictions, based on it, for the future. For that, let's do some basic machine learning!\n",
    "\n",
    "We will start by creating a simple classifier for predicting the credit rating goodness of a debtor. \n",
    "\n",
    "First, we will split the data into training and test sets:"
   ]
  },
  {
   "cell_type": "code",
   "execution_count": 30,
   "metadata": {},
   "outputs": [],
   "source": [
    "from sklearn.model_selection import train_test_split\n",
    "\n",
    "# Split the dataframe into features (X) and target variable (y)\n",
    "X = sgcd_df.drop(\"goodness\", axis=1)\n",
    "y = sgcd_df[\"goodness\"]\n",
    "\n",
    "# Split the data into training and test sets\n",
    "X_train, X_test, y_train, y_test = train_test_split(X, y, test_size=0.2, random_state=42)"
   ]
  },
  {
   "cell_type": "markdown",
   "metadata": {},
   "source": [
    "For the simple classifier we are going to use Logisitic Regression. It is a statistical modeling technique used to predict the probability of an event occurring or assign class labels in binary or multi-class classification problems.\n",
    "\n",
    "Here is how to train a logistic regression classifier using the famous Scikit-Learn package, which is a free machine learning library for Python:"
   ]
  },
  {
   "cell_type": "code",
   "execution_count": 31,
   "metadata": {},
   "outputs": [
    {
     "data": {
      "text/plain": [
       "array([0, 1, 1, 1, 1, 1, 1, 1, 1, 1, 0, 1, 1, 0, 0, 1, 1, 1, 0, 1, 1, 1,\n",
       "       1, 1, 1, 0, 0, 1, 1, 1, 1, 1, 1, 1, 0, 1, 0, 1, 0, 1, 1, 1, 1, 0,\n",
       "       1, 1, 0, 1, 1, 1, 1, 1, 1, 1, 1, 1, 1, 1, 1, 1, 1, 1, 1, 1, 0, 1,\n",
       "       1, 0, 1, 1, 1, 1, 1, 1, 1, 1, 1, 1, 0, 1, 1, 1, 1, 1, 1, 1, 1, 1,\n",
       "       0, 1, 1, 1, 1, 0, 1, 1, 1, 1, 1, 0, 0, 1, 1, 1, 0, 1, 1, 1, 1, 0,\n",
       "       1, 0, 1, 1, 1, 1, 1, 1, 0, 1, 1, 1, 1, 1, 0, 1, 0, 1, 1, 1, 0, 1,\n",
       "       1, 0, 1, 1, 0, 1, 1, 1, 1, 1, 1, 1, 0, 0, 0, 1, 0, 1, 0, 0, 1, 1,\n",
       "       1, 1, 1, 1, 1, 1, 1, 1, 1, 1, 1, 1, 1, 0, 1, 1, 0, 1, 0, 1, 1, 1,\n",
       "       1, 1, 1, 1, 1, 1, 1, 1, 1, 0, 1, 1, 1, 1, 0, 0, 1, 1, 1, 1, 1, 0,\n",
       "       0, 1], dtype=int64)"
      ]
     },
     "execution_count": 31,
     "metadata": {},
     "output_type": "execute_result"
    }
   ],
   "source": [
    "from sklearn.linear_model import LogisticRegression\n",
    "from sklearn.preprocessing import StandardScaler\n",
    "\n",
    "# Scale the data\n",
    "scaler = StandardScaler()\n",
    "X_train = scaler.fit_transform(X_train)\n",
    "X_test = scaler.transform(X_test)\n",
    "\n",
    "# Create an instance of LogisticRegression\n",
    "logreg = LogisticRegression(max_iter=1000)\n",
    "\n",
    "# Fit the model on the training data\n",
    "logreg.fit(X_train, y_train)\n",
    "\n",
    "# Predict the labels for the test data\n",
    "y_pred = logreg.predict(X_test)\n",
    "y_pred"
   ]
  },
  {
   "cell_type": "markdown",
   "metadata": {},
   "source": [
    "Now that we have predicted ratings for out test data, how do can we measure the performance of our model? We will talk about this in more detail later in the course. \n",
    "\n",
    "For now, we will simply look at the accuracy, precision, and recall. If you have never heard of them, please take a look at [this article](https://towardsdatascience.com/accuracy-precision-recall-or-f1-331fb37c5cb9)."
   ]
  },
  {
   "cell_type": "code",
   "execution_count": 32,
   "metadata": {},
   "outputs": [
    {
     "name": "stdout",
     "output_type": "stream",
     "text": [
      "Accuracy: 0.75\n",
      "Precision: 0.7784810126582279\n",
      "Recall: 0.8913043478260869\n"
     ]
    }
   ],
   "source": [
    "from sklearn.metrics import accuracy_score, precision_score, recall_score\n",
    "\n",
    "# Get the predicted labels\n",
    "y_pred = logreg.predict(X_test)\n",
    "\n",
    "# Calculate the accuracy\n",
    "accuracy = accuracy_score(y_test, y_pred)\n",
    "\n",
    "# Calculate the precision\n",
    "precision = precision_score(y_test, y_pred)\n",
    "\n",
    "# Calculate the recall\n",
    "recall = recall_score(y_test, y_pred)\n",
    "\n",
    "# Print the scores\n",
    "print(\"Accuracy:\", accuracy)\n",
    "print(\"Precision:\", precision)\n",
    "print(\"Recall:\", recall)"
   ]
  },
  {
   "cell_type": "markdown",
   "metadata": {},
   "source": [
    "Don't worry if you don't have an intuition what these numbers mean. We will discuss them later in the course from a human-centered perspective."
   ]
  },
  {
   "cell_type": "markdown",
   "metadata": {},
   "source": [
    "Now it's your turn to create your own classifier!\n",
    "\n",
    "*✏️ Use another binary classification model (use a search engine if you don't know one) and train it on the data. How do the scores compare to the ones from the logistic regression?*"
   ]
  },
  {
   "cell_type": "code",
   "execution_count": 33,
   "metadata": {},
   "outputs": [
    {
     "name": "stdout",
     "output_type": "stream",
     "text": [
      "Accuracy: 0.73\n",
      "Precision: 0.8387096774193549\n",
      "Recall: 0.7536231884057971\n"
     ]
    }
   ],
   "source": [
    "from sklearn.tree import DecisionTreeClassifier\n",
    "from sklearn.metrics import accuracy_score, precision_score, recall_score\n",
    "\n",
    "dt_model = DecisionTreeClassifier(random_state=42)\n",
    "\n",
    "dt_model.fit(X_train, y_train)\n",
    "\n",
    "y_pred_dt = dt_model.predict(X_test)\n",
    "\n",
    "accuracy_dt = accuracy_score(y_test, y_pred_dt)\n",
    "precision_dt = precision_score(y_test, y_pred_dt)\n",
    "recall_dt = recall_score(y_test, y_pred_dt)\n",
    "\n",
    "print(\"Accuracy:\", accuracy_dt)\n",
    "print(\"Precision:\", precision_dt)\n",
    "print(\"Recall:\", recall_dt)"
   ]
  },
  {
   "cell_type": "markdown",
   "metadata": {},
   "source": [
    "*✏️ If you had to guess, do you think that your classier is an improvement?*"
   ]
  },
  {
   "cell_type": "markdown",
   "metadata": {},
   "source": [
    "<span style=\"color:grey\">\n",
    "Apparently Recall is drastically decreased while Precision is meaningfully increased. Accuracy is more or less the same. (I don't know how to interpret them yet) </span>"
   ]
  },
  {
   "cell_type": "markdown",
   "metadata": {},
   "source": [
    "# 📝 Feedback\n",
    "We are interested in your feedback in order to improve this course. We will read all of your feedback and evaluate it. What you share may have a direct impact on the rest of the course or future iterations of it.\n",
    "\n",
    "Write down your feedback on the lecture, the exercises, or the assignments in the Markdown cell below. Furthermore, please note the approximate time it took you to complete the assignment. You may also write about your insights, what you found interesting, or questions that you have."
   ]
  },
  {
   "cell_type": "markdown",
   "metadata": {},
   "source": [
    " <span style=\"color:grey\">\n",
    "I read articles while I'm commuting mostly and I guess I spent around 3 hours in total (I'm a slow reader)\n",
    "Programming part serves well as a walk-into. I spent another 3 on them. Visualising and machine learning libraries are still new to me but the tasks walked me through nicely the concepts.\n",
    "Overall I liked the pre-read articles and guided programming parts approach. Thank you!</span>"
   ]
  }
 ],
 "metadata": {
  "kernelspec": {
   "display_name": "Python 3",
   "language": "python",
   "name": "python3"
  },
  "language_info": {
   "codemirror_mode": {
    "name": "ipython",
    "version": 3
   },
   "file_extension": ".py",
   "mimetype": "text/x-python",
   "name": "python",
   "nbconvert_exporter": "python",
   "pygments_lexer": "ipython3",
   "version": "3.12.3"
  }
 },
 "nbformat": 4,
 "nbformat_minor": 4
}
